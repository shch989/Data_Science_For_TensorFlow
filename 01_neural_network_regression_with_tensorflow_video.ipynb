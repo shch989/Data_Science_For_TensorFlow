{
 "cells": [
  {
   "cell_type": "markdown",
   "metadata": {},
   "source": [
    "# Introduction to Regression with Neural Networks in TensorFlow\n",
    "\n",
    "There are many defintions for a regression problem but in our case, we're going to simplify it: predicting a numerical variable based on some other combination of variables, even shorter... predicting a number."
   ]
  },
  {
   "cell_type": "code",
   "execution_count": 1,
   "metadata": {},
   "outputs": [
    {
     "name": "stdout",
     "output_type": "stream",
     "text": [
      "2.12.0\n"
     ]
    }
   ],
   "source": [
    "# Import TensorFlow \n",
    "import tensorflow as tf\n",
    "print(tf.__version__)"
   ]
  },
  {
   "cell_type": "markdown",
   "metadata": {},
   "source": [
    "## Creating data to view and fit"
   ]
  },
  {
   "cell_type": "code",
   "execution_count": 2,
   "metadata": {},
   "outputs": [
    {
     "data": {
      "text/plain": [
       "<matplotlib.collections.PathCollection at 0x12511c30910>"
      ]
     },
     "execution_count": 2,
     "metadata": {},
     "output_type": "execute_result"
    },
    {
     "data": {
      "image/png": "[encoded data removed]",
      "text/plain": [
       "<Figure size 640x480 with 1 Axes>"
      ]
     },
     "metadata": {},
     "output_type": "display_data"
    }
   ],
   "source": [
    "import numpy as np\n",
    "import matplotlib.pyplot as plt\n",
    "\n",
    "# Create features\n",
    "X = np.array([-7.0, -4.0, -1.0, 2.0, 5.0, 8.0, 11.0, 14.0])\n",
    "\n",
    "# Create labels\n",
    "y = np.array([3.0, 6.0, 9.0, 12.0, 15.0, 18.0, 21.0, 24.0])\n",
    "\n",
    "# Visualize it\n",
    "plt.scatter(X, y)"
   ]
  },
  {
   "cell_type": "code",
   "execution_count": 3,
   "metadata": {},
   "outputs": [
    {
     "data": {
      "text/plain": [
       "array([ True,  True,  True,  True,  True,  True,  True,  True])"
      ]
     },
     "execution_count": 3,
     "metadata": {},
     "output_type": "execute_result"
    }
   ],
   "source": [
    "y == X + 10"
   ]
  },
  {
   "cell_type": "markdown",
   "metadata": {},
   "source": [
    "## Input and output shapes"
   ]
  },
  {
   "cell_type": "code",
   "execution_count": 4,
   "metadata": {},
   "outputs": [
    {
     "data": {
      "text/plain": [
       "(<tf.Tensor: shape=(3,), dtype=string, numpy=array([b'bedroom', b'bathroom', b'garage'], dtype=object)>,\n",
       " <tf.Tensor: shape=(1,), dtype=int32, numpy=array([939700])>)"
      ]
     },
     "execution_count": 4,
     "metadata": {},
     "output_type": "execute_result"
    }
   ],
   "source": [
    "# Create a demo tensor for our housing price prediction problem\n",
    "house_info = tf.constant([\"bedroom\", \"bathroom\", \"garage\"])\n",
    "house_price = tf.constant([939700])\n",
    "house_info, house_price"
   ]
  },
  {
   "cell_type": "code",
   "execution_count": 5,
   "metadata": {},
   "outputs": [
    {
     "data": {
      "text/plain": [
       "(-7.0, 3.0)"
      ]
     },
     "execution_count": 5,
     "metadata": {},
     "output_type": "execute_result"
    }
   ],
   "source": [
    "X[0], y[0]"
   ]
  },
  {
   "cell_type": "code",
   "execution_count": 6,
   "metadata": {},
   "outputs": [
    {
     "data": {
      "text/plain": [
       "(-4.0, 6.0)"
      ]
     },
     "execution_count": 6,
     "metadata": {},
     "output_type": "execute_result"
    }
   ],
   "source": [
    "X[1], y[1]"
   ]
  },
  {
   "cell_type": "code",
   "execution_count": 7,
   "metadata": {},
   "outputs": [
    {
     "data": {
      "text/plain": [
       "((), ())"
      ]
     },
     "execution_count": 7,
     "metadata": {},
     "output_type": "execute_result"
    }
   ],
   "source": [
    "input_shape = X[0].shape\n",
    "output_shape = y[0].shape\n",
    "input_shape, output_shape"
   ]
  },
  {
   "cell_type": "code",
   "execution_count": 8,
   "metadata": {},
   "outputs": [
    {
     "data": {
      "text/plain": [
       "0"
      ]
     },
     "execution_count": 8,
     "metadata": {},
     "output_type": "execute_result"
    }
   ],
   "source": [
    "X[0].ndim"
   ]
  },
  {
   "cell_type": "code",
   "execution_count": 9,
   "metadata": {},
   "outputs": [
    {
     "data": {
      "text/plain": [
       "(-7.0, 3.0)"
      ]
     },
     "execution_count": 9,
     "metadata": {},
     "output_type": "execute_result"
    }
   ],
   "source": [
    "X[0], y[0]"
   ]
  },
  {
   "cell_type": "code",
   "execution_count": 10,
   "metadata": {},
   "outputs": [
    {
     "data": {
      "text/plain": [
       "(<tf.Tensor: shape=(8,), dtype=float32, numpy=array([-7., -4., -1.,  2.,  5.,  8., 11., 14.], dtype=float32)>,\n",
       " <tf.Tensor: shape=(8,), dtype=float32, numpy=array([ 3.,  6.,  9., 12., 15., 18., 21., 24.], dtype=float32)>)"
      ]
     },
     "execution_count": 10,
     "metadata": {},
     "output_type": "execute_result"
    }
   ],
   "source": [
    "# Turn our NumPy arrays into tensors with dtype float32\n",
    "X = tf.cast(tf.constant(X), dtype=tf.float32)\n",
    "y = tf.cast(tf.constant(y), dtype=tf.float32)\n",
    "X, y"
   ]
  },
  {
   "cell_type": "code",
   "execution_count": 11,
   "metadata": {},
   "outputs": [
    {
     "data": {
      "text/plain": [
       "(TensorShape([]), TensorShape([]))"
      ]
     },
     "execution_count": 11,
     "metadata": {},
     "output_type": "execute_result"
    }
   ],
   "source": [
    "input_shape = X[0].shape\n",
    "output_shape = y[0].shape\n",
    "input_shape, output_shape"
   ]
  },
  {
   "cell_type": "code",
   "execution_count": 12,
   "metadata": {},
   "outputs": [
    {
     "data": {
      "text/plain": [
       "<matplotlib.collections.PathCollection at 0x12511cc5eb0>"
      ]
     },
     "execution_count": 12,
     "metadata": {},
     "output_type": "execute_result"
    },
    {
     "data": {
      "image/png": "[encoded data removed]",
      "text/plain": [
       "<Figure size 640x480 with 1 Axes>"
      ]
     },
     "metadata": {},
     "output_type": "display_data"
    }
   ],
   "source": [
    "plt.scatter(X, y)"
   ]
  },
  {
   "cell_type": "markdown",
   "metadata": {},
   "source": [
    "## Steps in modelling with TensorFlow\n",
    "\n",
    "1. **Creating a model** - piece together the layers of a neural network yourself (using the Functional or Sequential API) or import a previously built model (known as transfer learning).\n",
    "2. **Compiling a model** - defining how a models performance should be measured (loss/metrics) as well as defining how it should improve (optimizer).\n",
    "3. **Fitting a model** - letting the model try to find patterns in the data (how does X get to y)."
   ]
  },
  {
   "cell_type": "code",
   "execution_count": 13,
   "metadata": {},
   "outputs": [
    {
     "name": "stdout",
     "output_type": "stream",
     "text": [
      "Epoch 1/5\n",
      "1/1 [==============================] - 0s 219ms/step - loss: 9.9552 - mae: 9.9552\n",
      "Epoch 2/5\n",
      "1/1 [==============================] - 0s 3ms/step - loss: 9.8227 - mae: 9.8227\n",
      "Epoch 3/5\n",
      "1/1 [==============================] - 0s 3ms/step - loss: 9.6902 - mae: 9.6902\n",
      "Epoch 4/5\n",
      "1/1 [==============================] - 0s 3ms/step - loss: 9.5577 - mae: 9.5577\n",
      "Epoch 5/5\n",
      "1/1 [==============================] - 0s 2ms/step - loss: 9.4252 - mae: 9.4252\n"
     ]
    },
    {
     "data": {
      "text/plain": [
       "<keras.callbacks.History at 0x12513edfeb0>"
      ]
     },
     "execution_count": 13,
     "metadata": {},
     "output_type": "execute_result"
    }
   ],
   "source": [
    "# Set random seed\n",
    "tf.random.set_seed(42)\n",
    "\n",
    "# 1. Create a model using the Sequential API\n",
    "model = tf.keras.Sequential([\n",
    "  tf.keras.layers.Dense(1)\n",
    "])\n",
    "\n",
    "# 2. Compile the model\n",
    "model.compile(loss=tf.keras.losses.mae, # mae is short for mean absolute error\n",
    "              optimizer=tf.keras.optimizers.SGD(), # sgd is short for stochasitc gradient descent\n",
    "              metrics=[\"mae\"])\n",
    "\n",
    "# 3. Fit the model\n",
    "model.fit(tf.expand_dims(X, axis=-1), y, epochs=5)"
   ]
  },
  {
   "cell_type": "code",
   "execution_count": 14,
   "metadata": {},
   "outputs": [
    {
     "data": {
      "text/plain": [
       "(<tf.Tensor: shape=(8,), dtype=float32, numpy=array([-7., -4., -1.,  2.,  5.,  8., 11., 14.], dtype=float32)>,\n",
       " <tf.Tensor: shape=(8,), dtype=float32, numpy=array([ 3.,  6.,  9., 12., 15., 18., 21., 24.], dtype=float32)>)"
      ]
     },
     "execution_count": 14,
     "metadata": {},
     "output_type": "execute_result"
    }
   ],
   "source": [
    "# Check out X and y\n",
    "X, y"
   ]
  },
  {
   "cell_type": "code",
   "execution_count": 15,
   "metadata": {},
   "outputs": [
    {
     "name": "stdout",
     "output_type": "stream",
     "text": [
      "1/1 [==============================] - 0s 53ms/step\n"
     ]
    },
    {
     "data": {
      "text/plain": [
       "array([[20.242569]], dtype=float32)"
      ]
     },
     "execution_count": 15,
     "metadata": {},
     "output_type": "execute_result"
    }
   ],
   "source": [
    "# Try and make a prediction using our model\n",
    "y_pred = model.predict(np.array([17.0]))\n",
    "y_pred"
   ]
  },
  {
   "cell_type": "code",
   "execution_count": 16,
   "metadata": {},
   "outputs": [
    {
     "data": {
      "text/plain": [
       "array([[30.242569]], dtype=float32)"
      ]
     },
     "execution_count": 16,
     "metadata": {},
     "output_type": "execute_result"
    }
   ],
   "source": [
    "y_pred + 10"
   ]
  },
  {
   "cell_type": "markdown",
   "metadata": {},
   "source": [
    "## Improving our model\n",
    "\n",
    "We can improve our model, by altering the steps we took to create a model.\n",
    "\n",
    "1. **Creating a model** - here you might want to add more layers, increase the number of hidden units (also called neurons) within each layer, change the activation functions of each layer.\n",
    "2. **Compiling a model** - you might want to choose optimization function or perhaps change the learning rate of the optimization function.\n",
    "3. **Fitting a model** - perhaps you could fit a model for more epochs (leave it training for longer) or on more data (give the model more examples to learn from)."
   ]
  },
  {
   "cell_type": "code",
   "execution_count": 17,
   "metadata": {},
   "outputs": [
    {
     "name": "stdout",
     "output_type": "stream",
     "text": [
      "Epoch 1/100\n",
      "1/1 [==============================] - 0s 168ms/step - loss: 7.7032 - mae: 7.7032\n",
      "Epoch 2/100\n",
      "1/1 [==============================] - 0s 3ms/step - loss: 7.5707 - mae: 7.5707\n",
      "Epoch 3/100\n",
      "1/1 [==============================] - 0s 3ms/step - loss: 7.4850 - mae: 7.4850\n",
      "Epoch 4/100\n",
      "1/1 [==============================] - 0s 3ms/step - loss: 7.4794 - mae: 7.4794\n",
      "Epoch 5/100\n",
      "1/1 [==============================] - 0s 3ms/step - loss: 7.4738 - mae: 7.4738\n",
      "Epoch 6/100\n",
      "1/1 [==============================] - 0s 3ms/step - loss: 7.4681 - mae: 7.4681\n",
      "Epoch 7/100\n",
      "1/1 [==============================] - 0s 3ms/step - loss: 7.4625 - mae: 7.4625\n",
      "Epoch 8/100\n",
      "1/1 [==============================] - 0s 4ms/step - loss: 7.4569 - mae: 7.4569\n",
      "Epoch 9/100\n",
      "1/1 [==============================] - 0s 4ms/step - loss: 7.4513 - mae: 7.4513\n",
      "Epoch 10/100\n",
      "1/1 [==============================] - 0s 4ms/step - loss: 7.4456 - mae: 7.4456\n",
      "Epoch 11/100\n",
      "1/1 [==============================] - 0s 4ms/step - loss: 7.4400 - mae: 7.4400\n",
      "Epoch 12/100\n",
      "1/1 [==============================] - 0s 3ms/step - loss: 7.4344 - mae: 7.4344\n",
      "Epoch 13/100\n",
      "1/1 [==============================] - 0s 3ms/step - loss: 7.4288 - mae: 7.4288\n",
      "Epoch 14/100\n",
      "1/1 [==============================] - 0s 3ms/step - loss: 7.4231 - mae: 7.4231\n",
      "Epoch 15/100\n",
      "1/1 [==============================] - 0s 3ms/step - loss: 7.4175 - mae: 7.4175\n",
      "Epoch 16/100\n",
      "1/1 [==============================] - 0s 3ms/step - loss: 7.4119 - mae: 7.4119\n",
      "Epoch 17/100\n",
      "1/1 [==============================] - 0s 2ms/step - loss: 7.4062 - mae: 7.4062\n",
      "Epoch 18/100\n",
      "1/1 [==============================] - 0s 3ms/step - loss: 7.4006 - mae: 7.4006\n",
      "Epoch 19/100\n",
      "1/1 [==============================] - 0s 3ms/step - loss: 7.3950 - mae: 7.3950\n",
      "Epoch 20/100\n",
      "1/1 [==============================] - 0s 2ms/step - loss: 7.3894 - mae: 7.3894\n",
      "Epoch 21/100\n",
      "1/1 [==============================] - 0s 3ms/step - loss: 7.3838 - mae: 7.3838\n",
      "Epoch 22/100\n",
      "1/1 [==============================] - 0s 3ms/step - loss: 7.3781 - mae: 7.3781\n",
      "Epoch 23/100\n",
      "1/1 [==============================] - 0s 2ms/step - loss: 7.3725 - mae: 7.3725\n",
      "Epoch 24/100\n",
      "1/1 [==============================] - 0s 2ms/step - loss: 7.3669 - mae: 7.3669\n",
      "Epoch 25/100\n",
      "1/1 [==============================] - 0s 4ms/step - loss: 7.3612 - mae: 7.3612\n",
      "Epoch 26/100\n",
      "1/1 [==============================] - 0s 3ms/step - loss: 7.3556 - mae: 7.3556\n",
      "Epoch 27/100\n",
      "1/1 [==============================] - 0s 2ms/step - loss: 7.3500 - mae: 7.3500\n",
      "Epoch 28/100\n",
      "1/1 [==============================] - 0s 3ms/step - loss: 7.3444 - mae: 7.3444\n",
      "Epoch 29/100\n",
      "1/1 [==============================] - 0s 3ms/step - loss: 7.3387 - mae: 7.3387\n",
      "Epoch 30/100\n",
      "1/1 [==============================] - 0s 2ms/step - loss: 7.3331 - mae: 7.3331\n",
      "Epoch 31/100\n",
      "1/1 [==============================] - 0s 3ms/step - loss: 7.3275 - mae: 7.3275\n",
      "Epoch 32/100\n",
      "1/1 [==============================] - 0s 2ms/step - loss: 7.3219 - mae: 7.3219\n",
      "Epoch 33/100\n",
      "1/1 [==============================] - 0s 2ms/step - loss: 7.3163 - mae: 7.3163\n",
      "Epoch 34/100\n",
      "1/1 [==============================] - 0s 3ms/step - loss: 7.3106 - mae: 7.3106\n",
      "Epoch 35/100\n",
      "1/1 [==============================] - 0s 3ms/step - loss: 7.3050 - mae: 7.3050\n",
      "Epoch 36/100\n",
      "1/1 [==============================] - 0s 3ms/step - loss: 7.2994 - mae: 7.2994\n",
      "Epoch 37/100\n",
      "1/1 [==============================] - 0s 2ms/step - loss: 7.2938 - mae: 7.2938\n",
      "Epoch 38/100\n",
      "1/1 [==============================] - 0s 3ms/step - loss: 7.2881 - mae: 7.2881\n",
      "Epoch 39/100\n",
      "1/1 [==============================] - 0s 3ms/step - loss: 7.2825 - mae: 7.2825\n",
      "Epoch 40/100\n",
      "1/1 [==============================] - 0s 2ms/step - loss: 7.2769 - mae: 7.2769\n",
      "Epoch 41/100\n",
      "1/1 [==============================] - 0s 2ms/step - loss: 7.2713 - mae: 7.2713\n",
      "Epoch 42/100\n",
      "1/1 [==============================] - 0s 3ms/step - loss: 7.2656 - mae: 7.2656\n",
      "Epoch 43/100\n",
      "1/1 [==============================] - 0s 3ms/step - loss: 7.2600 - mae: 7.2600\n",
      "Epoch 44/100\n",
      "1/1 [==============================] - 0s 3ms/step - loss: 7.2544 - mae: 7.2544\n",
      "Epoch 45/100\n",
      "1/1 [==============================] - 0s 2ms/step - loss: 7.2488 - mae: 7.2488\n",
      "Epoch 46/100\n",
      "1/1 [==============================] - 0s 3ms/step - loss: 7.2431 - mae: 7.2431\n",
      "Epoch 47/100\n",
      "1/1 [==============================] - 0s 2ms/step - loss: 7.2375 - mae: 7.2375\n",
      "Epoch 48/100\n",
      "1/1 [==============================] - 0s 3ms/step - loss: 7.2319 - mae: 7.2319\n",
      "Epoch 49/100\n",
      "1/1 [==============================] - 0s 3ms/step - loss: 7.2263 - mae: 7.2263\n",
      "Epoch 50/100\n",
      "1/1 [==============================] - 0s 2ms/step - loss: 7.2206 - mae: 7.2206\n",
      "Epoch 51/100\n",
      "1/1 [==============================] - 0s 3ms/step - loss: 7.2150 - mae: 7.2150\n",
      "Epoch 52/100\n",
      "1/1 [==============================] - 0s 3ms/step - loss: 7.2094 - mae: 7.2094\n",
      "Epoch 53/100\n",
      "1/1 [==============================] - 0s 2ms/step - loss: 7.2038 - mae: 7.2038\n",
      "Epoch 54/100\n",
      "1/1 [==============================] - 0s 3ms/step - loss: 7.1981 - mae: 7.1981\n",
      "Epoch 55/100\n",
      "1/1 [==============================] - 0s 2ms/step - loss: 7.1925 - mae: 7.1925\n",
      "Epoch 56/100\n",
      "1/1 [==============================] - 0s 3ms/step - loss: 7.1869 - mae: 7.1869\n",
      "Epoch 57/100\n",
      "1/1 [==============================] - 0s 3ms/step - loss: 7.1813 - mae: 7.1813\n",
      "Epoch 58/100\n",
      "1/1 [==============================] - 0s 3ms/step - loss: 7.1756 - mae: 7.1756\n",
      "Epoch 59/100\n",
      "1/1 [==============================] - 0s 2ms/step - loss: 7.1700 - mae: 7.1700\n",
      "Epoch 60/100\n",
      "1/1 [==============================] - 0s 3ms/step - loss: 7.1644 - mae: 7.1644\n",
      "Epoch 61/100\n",
      "1/1 [==============================] - 0s 2ms/step - loss: 7.1588 - mae: 7.1588\n",
      "Epoch 62/100\n",
      "1/1 [==============================] - 0s 3ms/step - loss: 7.1531 - mae: 7.1531\n",
      "Epoch 63/100\n",
      "1/1 [==============================] - 0s 3ms/step - loss: 7.1475 - mae: 7.1475\n",
      "Epoch 64/100\n",
      "1/1 [==============================] - 0s 3ms/step - loss: 7.1419 - mae: 7.1419\n",
      "Epoch 65/100\n",
      "1/1 [==============================] - 0s 3ms/step - loss: 7.1363 - mae: 7.1363\n",
      "Epoch 66/100\n",
      "1/1 [==============================] - 0s 3ms/step - loss: 7.1306 - mae: 7.1306\n",
      "Epoch 67/100\n",
      "1/1 [==============================] - 0s 3ms/step - loss: 7.1250 - mae: 7.1250\n",
      "Epoch 68/100\n",
      "1/1 [==============================] - 0s 3ms/step - loss: 7.1194 - mae: 7.1194\n",
      "Epoch 69/100\n",
      "1/1 [==============================] - 0s 3ms/step - loss: 7.1138 - mae: 7.1138\n",
      "Epoch 70/100\n",
      "1/1 [==============================] - 0s 5ms/step - loss: 7.1081 - mae: 7.1081\n",
      "Epoch 71/100\n",
      "1/1 [==============================] - 0s 4ms/step - loss: 7.1025 - mae: 7.1025\n",
      "Epoch 72/100\n",
      "1/1 [==============================] - 0s 3ms/step - loss: 7.0969 - mae: 7.0969\n",
      "Epoch 73/100\n",
      "1/1 [==============================] - 0s 3ms/step - loss: 7.0913 - mae: 7.0913\n",
      "Epoch 74/100\n",
      "1/1 [==============================] - 0s 4ms/step - loss: 7.0856 - mae: 7.0856\n",
      "Epoch 75/100\n",
      "1/1 [==============================] - 0s 4ms/step - loss: 7.0800 - mae: 7.0800\n",
      "Epoch 76/100\n",
      "1/1 [==============================] - 0s 3ms/step - loss: 7.0744 - mae: 7.0744\n",
      "Epoch 77/100\n",
      "1/1 [==============================] - 0s 3ms/step - loss: 7.0688 - mae: 7.0688\n",
      "Epoch 78/100\n",
      "1/1 [==============================] - 0s 3ms/step - loss: 7.0631 - mae: 7.0631\n",
      "Epoch 79/100\n",
      "1/1 [==============================] - 0s 2ms/step - loss: 7.0575 - mae: 7.0575\n",
      "Epoch 80/100\n",
      "1/1 [==============================] - 0s 2ms/step - loss: 7.0519 - mae: 7.0519\n",
      "Epoch 81/100\n",
      "1/1 [==============================] - 0s 2ms/step - loss: 7.0463 - mae: 7.0463\n",
      "Epoch 82/100\n",
      "1/1 [==============================] - 0s 2ms/step - loss: 7.0406 - mae: 7.0406\n",
      "Epoch 83/100\n",
      "1/1 [==============================] - 0s 4ms/step - loss: 7.0350 - mae: 7.0350\n",
      "Epoch 84/100\n",
      "1/1 [==============================] - 0s 3ms/step - loss: 7.0294 - mae: 7.0294\n",
      "Epoch 85/100\n",
      "1/1 [==============================] - 0s 3ms/step - loss: 7.0238 - mae: 7.0238\n",
      "Epoch 86/100\n",
      "1/1 [==============================] - 0s 3ms/step - loss: 7.0181 - mae: 7.0181\n",
      "Epoch 87/100\n",
      "1/1 [==============================] - 0s 3ms/step - loss: 7.0125 - mae: 7.0125\n",
      "Epoch 88/100\n",
      "1/1 [==============================] - 0s 3ms/step - loss: 7.0069 - mae: 7.0069\n",
      "Epoch 89/100\n",
      "1/1 [==============================] - 0s 3ms/step - loss: 7.0013 - mae: 7.0013\n",
      "Epoch 90/100\n",
      "1/1 [==============================] - 0s 3ms/step - loss: 6.9956 - mae: 6.9956\n",
      "Epoch 91/100\n",
      "1/1 [==============================] - 0s 4ms/step - loss: 6.9900 - mae: 6.9900\n",
      "Epoch 92/100\n",
      "1/1 [==============================] - 0s 3ms/step - loss: 6.9844 - mae: 6.9844\n",
      "Epoch 93/100\n",
      "1/1 [==============================] - 0s 3ms/step - loss: 6.9788 - mae: 6.9788\n",
      "Epoch 94/100\n",
      "1/1 [==============================] - 0s 2ms/step - loss: 6.9731 - mae: 6.9731\n",
      "Epoch 95/100\n",
      "1/1 [==============================] - 0s 3ms/step - loss: 6.9675 - mae: 6.9675\n",
      "Epoch 96/100\n",
      "1/1 [==============================] - 0s 3ms/step - loss: 6.9619 - mae: 6.9619\n",
      "Epoch 97/100\n",
      "1/1 [==============================] - 0s 3ms/step - loss: 6.9563 - mae: 6.9563\n",
      "Epoch 98/100\n",
      "1/1 [==============================] - 0s 2ms/step - loss: 6.9506 - mae: 6.9506\n",
      "Epoch 99/100\n",
      "1/1 [==============================] - 0s 3ms/step - loss: 6.9450 - mae: 6.9450\n",
      "Epoch 100/100\n",
      "1/1 [==============================] - 0s 3ms/step - loss: 6.9394 - mae: 6.9394\n"
     ]
    },
    {
     "data": {
      "text/plain": [
       "<keras.callbacks.History at 0x125150cfac0>"
      ]
     },
     "execution_count": 17,
     "metadata": {},
     "output_type": "execute_result"
    }
   ],
   "source": [
    "# Let's rebuild our model\n",
    "\n",
    "# 1. Create the model\n",
    "model = tf.keras.Sequential([\n",
    "  tf.keras.layers.Dense(1)\n",
    "])\n",
    "\n",
    "# 2. Compile the model\n",
    "model.compile(loss=tf.keras.losses.mae,\n",
    "              optimizer=tf.keras.optimizers.SGD(),\n",
    "              metrics=[\"mae\"])\n",
    "\n",
    "# 3. Fit the model (this time we'll train for longer)\n",
    "model.fit(tf.expand_dims(X, axis=-1), y, epochs=100)"
   ]
  },
  {
   "cell_type": "code",
   "execution_count": 18,
   "metadata": {},
   "outputs": [
    {
     "data": {
      "text/plain": [
       "(<tf.Tensor: shape=(8,), dtype=float32, numpy=array([-7., -4., -1.,  2.,  5.,  8., 11., 14.], dtype=float32)>,\n",
       " <tf.Tensor: shape=(8,), dtype=float32, numpy=array([ 3.,  6.,  9., 12., 15., 18., 21., 24.], dtype=float32)>)"
      ]
     },
     "execution_count": 18,
     "metadata": {},
     "output_type": "execute_result"
    }
   ],
   "source": [
    "# Remind ourselves of the data\n",
    "X, y"
   ]
  },
  {
   "cell_type": "code",
   "execution_count": 19,
   "metadata": {},
   "outputs": [
    {
     "name": "stdout",
     "output_type": "stream",
     "text": [
      "1/1 [==============================] - 0s 29ms/step\n"
     ]
    },
    {
     "data": {
      "text/plain": [
       "array([[30.100832]], dtype=float32)"
      ]
     },
     "execution_count": 19,
     "metadata": {},
     "output_type": "execute_result"
    }
   ],
   "source": [
    "# Let's see if our model's prediction has improved...\n",
    "model.predict(np.array([17.0]))"
   ]
  },
  {
   "cell_type": "code",
   "execution_count": 20,
   "metadata": {},
   "outputs": [
    {
     "name": "stdout",
     "output_type": "stream",
     "text": [
      "Epoch 1/100\n",
      "1/1 [==============================] - 0s 328ms/step - loss: 12.4367 - mae: 12.4367\n",
      "Epoch 2/100\n",
      "1/1 [==============================] - 0s 2ms/step - loss: 11.7193 - mae: 11.7193\n",
      "Epoch 3/100\n",
      "1/1 [==============================] - 0s 3ms/step - loss: 10.9932 - mae: 10.9932\n",
      "Epoch 4/100\n",
      "1/1 [==============================] - 0s 2ms/step - loss: 10.2570 - mae: 10.2570\n",
      "Epoch 5/100\n",
      "1/1 [==============================] - 0s 3ms/step - loss: 9.5090 - mae: 9.5090\n",
      "Epoch 6/100\n",
      "1/1 [==============================] - 0s 2ms/step - loss: 8.7473 - mae: 8.7473\n",
      "Epoch 7/100\n",
      "1/1 [==============================] - 0s 3ms/step - loss: 7.9696 - mae: 7.9696\n",
      "Epoch 8/100\n",
      "1/1 [==============================] - 0s 3ms/step - loss: 7.1733 - mae: 7.1733\n",
      "Epoch 9/100\n",
      "1/1 [==============================] - 0s 2ms/step - loss: 6.8418 - mae: 6.8418\n",
      "Epoch 10/100\n",
      "1/1 [==============================] - 0s 2ms/step - loss: 7.1685 - mae: 7.1685\n",
      "Epoch 11/100\n",
      "1/1 [==============================] - 0s 3ms/step - loss: 7.4551 - mae: 7.4551\n",
      "Epoch 12/100\n",
      "1/1 [==============================] - 0s 3ms/step - loss: 7.7803 - mae: 7.7803\n",
      "Epoch 13/100\n",
      "1/1 [==============================] - 0s 2ms/step - loss: 7.8402 - mae: 7.8402\n",
      "Epoch 14/100\n",
      "1/1 [==============================] - 0s 3ms/step - loss: 7.6915 - mae: 7.6915\n",
      "Epoch 15/100\n",
      "1/1 [==============================] - 0s 3ms/step - loss: 7.3896 - mae: 7.3896\n",
      "Epoch 16/100\n",
      "1/1 [==============================] - 0s 2ms/step - loss: 7.0320 - mae: 7.0320\n",
      "Epoch 17/100\n",
      "1/1 [==============================] - 0s 4ms/step - loss: 6.7471 - mae: 6.7471\n",
      "Epoch 18/100\n",
      "1/1 [==============================] - 0s 4ms/step - loss: 6.4463 - mae: 6.4463\n",
      "Epoch 19/100\n",
      "1/1 [==============================] - 0s 4ms/step - loss: 6.1812 - mae: 6.1812\n",
      "Epoch 20/100\n",
      "1/1 [==============================] - 0s 3ms/step - loss: 6.1321 - mae: 6.1321\n",
      "Epoch 21/100\n",
      "1/1 [==============================] - 0s 3ms/step - loss: 6.1399 - mae: 6.1399\n",
      "Epoch 22/100\n",
      "1/1 [==============================] - 0s 3ms/step - loss: 6.2204 - mae: 6.2204\n",
      "Epoch 23/100\n",
      "1/1 [==============================] - 0s 3ms/step - loss: 6.1923 - mae: 6.1923\n",
      "Epoch 24/100\n",
      "1/1 [==============================] - 0s 3ms/step - loss: 6.0696 - mae: 6.0696\n",
      "Epoch 25/100\n",
      "1/1 [==============================] - 0s 3ms/step - loss: 5.8626 - mae: 5.8626\n",
      "Epoch 26/100\n",
      "1/1 [==============================] - 0s 2ms/step - loss: 5.6641 - mae: 5.6641\n",
      "Epoch 27/100\n",
      "1/1 [==============================] - 0s 3ms/step - loss: 5.5598 - mae: 5.5598\n",
      "Epoch 28/100\n",
      "1/1 [==============================] - 0s 3ms/step - loss: 5.4524 - mae: 5.4524\n",
      "Epoch 29/100\n",
      "1/1 [==============================] - 0s 2ms/step - loss: 5.4295 - mae: 5.4295\n",
      "Epoch 30/100\n",
      "1/1 [==============================] - 0s 2ms/step - loss: 5.4071 - mae: 5.4071\n",
      "Epoch 31/100\n",
      "1/1 [==============================] - 0s 2ms/step - loss: 5.3388 - mae: 5.3388\n",
      "Epoch 32/100\n",
      "1/1 [==============================] - 0s 3ms/step - loss: 5.2283 - mae: 5.2283\n",
      "Epoch 33/100\n",
      "1/1 [==============================] - 0s 2ms/step - loss: 5.0794 - mae: 5.0794\n",
      "Epoch 34/100\n",
      "1/1 [==============================] - 0s 3ms/step - loss: 4.8954 - mae: 4.8954\n",
      "Epoch 35/100\n",
      "1/1 [==============================] - 0s 3ms/step - loss: 4.7618 - mae: 4.7618\n",
      "Epoch 36/100\n",
      "1/1 [==============================] - 0s 4ms/step - loss: 4.6661 - mae: 4.6661\n",
      "Epoch 37/100\n",
      "1/1 [==============================] - 0s 3ms/step - loss: 4.5630 - mae: 4.5630\n",
      "Epoch 38/100\n",
      "1/1 [==============================] - 0s 3ms/step - loss: 4.4955 - mae: 4.4955\n",
      "Epoch 39/100\n",
      "1/1 [==============================] - 0s 3ms/step - loss: 4.3618 - mae: 4.3618\n",
      "Epoch 40/100\n",
      "1/1 [==============================] - 0s 2ms/step - loss: 4.1797 - mae: 4.1797\n",
      "Epoch 41/100\n",
      "1/1 [==============================] - 0s 3ms/step - loss: 4.0285 - mae: 4.0285\n",
      "Epoch 42/100\n",
      "1/1 [==============================] - 0s 3ms/step - loss: 3.8704 - mae: 3.8704\n",
      "Epoch 43/100\n",
      "1/1 [==============================] - 0s 3ms/step - loss: 3.7561 - mae: 3.7561\n",
      "Epoch 44/100\n",
      "1/1 [==============================] - 0s 3ms/step - loss: 3.6368 - mae: 3.6368\n",
      "Epoch 45/100\n",
      "1/1 [==============================] - 0s 3ms/step - loss: 3.4639 - mae: 3.4639\n",
      "Epoch 46/100\n",
      "1/1 [==============================] - 0s 3ms/step - loss: 3.2407 - mae: 3.2407\n",
      "Epoch 47/100\n",
      "1/1 [==============================] - 0s 3ms/step - loss: 3.0777 - mae: 3.0777\n",
      "Epoch 48/100\n",
      "1/1 [==============================] - 0s 3ms/step - loss: 2.9133 - mae: 2.9133\n",
      "Epoch 49/100\n",
      "1/1 [==============================] - 0s 2ms/step - loss: 2.8523 - mae: 2.8523\n",
      "Epoch 50/100\n",
      "1/1 [==============================] - 0s 3ms/step - loss: 2.6327 - mae: 2.6327\n",
      "Epoch 51/100\n",
      "1/1 [==============================] - 0s 3ms/step - loss: 2.3184 - mae: 2.3184\n",
      "Epoch 52/100\n",
      "1/1 [==============================] - 0s 3ms/step - loss: 2.0991 - mae: 2.0991\n",
      "Epoch 53/100\n",
      "1/1 [==============================] - 0s 3ms/step - loss: 1.9319 - mae: 1.9319\n",
      "Epoch 54/100\n",
      "1/1 [==============================] - 0s 3ms/step - loss: 1.6969 - mae: 1.6969\n",
      "Epoch 55/100\n",
      "1/1 [==============================] - 0s 2ms/step - loss: 1.4137 - mae: 1.4137\n",
      "Epoch 56/100\n",
      "1/1 [==============================] - 0s 3ms/step - loss: 1.1775 - mae: 1.1775\n",
      "Epoch 57/100\n",
      "1/1 [==============================] - 0s 2ms/step - loss: 0.9933 - mae: 0.9933\n",
      "Epoch 58/100\n",
      "1/1 [==============================] - 0s 3ms/step - loss: 0.6525 - mae: 0.6525\n",
      "Epoch 59/100\n",
      "1/1 [==============================] - 0s 3ms/step - loss: 0.4405 - mae: 0.4405\n",
      "Epoch 60/100\n",
      "1/1 [==============================] - 0s 2ms/step - loss: 0.1023 - mae: 0.1023\n",
      "Epoch 61/100\n",
      "1/1 [==============================] - 0s 3ms/step - loss: 0.3853 - mae: 0.3853\n",
      "Epoch 62/100\n",
      "1/1 [==============================] - 0s 2ms/step - loss: 0.4698 - mae: 0.4698\n",
      "Epoch 63/100\n",
      "1/1 [==============================] - 0s 3ms/step - loss: 0.7133 - mae: 0.7133\n",
      "Epoch 64/100\n",
      "1/1 [==============================] - 0s 3ms/step - loss: 0.8231 - mae: 0.8231\n",
      "Epoch 65/100\n",
      "1/1 [==============================] - 0s 3ms/step - loss: 0.8307 - mae: 0.8307\n",
      "Epoch 66/100\n",
      "1/1 [==============================] - 0s 2ms/step - loss: 0.8927 - mae: 0.8927\n",
      "Epoch 67/100\n",
      "1/1 [==============================] - 0s 3ms/step - loss: 0.8521 - mae: 0.8521\n",
      "Epoch 68/100\n",
      "1/1 [==============================] - 0s 3ms/step - loss: 0.7889 - mae: 0.7889\n",
      "Epoch 69/100\n",
      "1/1 [==============================] - 0s 3ms/step - loss: 0.6954 - mae: 0.6954\n",
      "Epoch 70/100\n",
      "1/1 [==============================] - 0s 3ms/step - loss: 0.6041 - mae: 0.6041\n",
      "Epoch 71/100\n",
      "1/1 [==============================] - 0s 2ms/step - loss: 0.4553 - mae: 0.4553\n",
      "Epoch 72/100\n",
      "1/1 [==============================] - 0s 3ms/step - loss: 0.3920 - mae: 0.3920\n",
      "Epoch 73/100\n",
      "1/1 [==============================] - 0s 3ms/step - loss: 0.1821 - mae: 0.1821\n",
      "Epoch 74/100\n",
      "1/1 [==============================] - 0s 3ms/step - loss: 0.2455 - mae: 0.2455\n",
      "Epoch 75/100\n",
      "1/1 [==============================] - 0s 3ms/step - loss: 0.2831 - mae: 0.2831\n",
      "Epoch 76/100\n",
      "1/1 [==============================] - 0s 3ms/step - loss: 0.3595 - mae: 0.3595\n",
      "Epoch 77/100\n",
      "1/1 [==============================] - 0s 2ms/step - loss: 0.4386 - mae: 0.4386\n",
      "Epoch 78/100\n",
      "1/1 [==============================] - 0s 3ms/step - loss: 0.4142 - mae: 0.4142\n",
      "Epoch 79/100\n",
      "1/1 [==============================] - 0s 2ms/step - loss: 0.4173 - mae: 0.4173\n",
      "Epoch 80/100\n",
      "1/1 [==============================] - 0s 3ms/step - loss: 0.3977 - mae: 0.3977\n",
      "Epoch 81/100\n",
      "1/1 [==============================] - 0s 3ms/step - loss: 0.3452 - mae: 0.3452\n",
      "Epoch 82/100\n",
      "1/1 [==============================] - 0s 2ms/step - loss: 0.2915 - mae: 0.2915\n",
      "Epoch 83/100\n",
      "1/1 [==============================] - 0s 3ms/step - loss: 0.2435 - mae: 0.2435\n",
      "Epoch 84/100\n",
      "1/1 [==============================] - 0s 2ms/step - loss: 0.1074 - mae: 0.1074\n",
      "Epoch 85/100\n",
      "1/1 [==============================] - 0s 3ms/step - loss: 0.3199 - mae: 0.3199\n",
      "Epoch 86/100\n",
      "1/1 [==============================] - 0s 3ms/step - loss: 0.3537 - mae: 0.3537\n",
      "Epoch 87/100\n",
      "1/1 [==============================] - 0s 2ms/step - loss: 0.2420 - mae: 0.2420\n",
      "Epoch 88/100\n",
      "1/1 [==============================] - 0s 3ms/step - loss: 0.3154 - mae: 0.3154\n",
      "Epoch 89/100\n",
      "1/1 [==============================] - 0s 3ms/step - loss: 0.2607 - mae: 0.2607\n",
      "Epoch 90/100\n",
      "1/1 [==============================] - 0s 2ms/step - loss: 0.2370 - mae: 0.2370\n",
      "Epoch 91/100\n",
      "1/1 [==============================] - 0s 2ms/step - loss: 0.1698 - mae: 0.1698\n",
      "Epoch 92/100\n",
      "1/1 [==============================] - 0s 3ms/step - loss: 0.1429 - mae: 0.1429\n",
      "Epoch 93/100\n",
      "1/1 [==============================] - 0s 4ms/step - loss: 0.0796 - mae: 0.0796\n",
      "Epoch 94/100\n",
      "1/1 [==============================] - 0s 3ms/step - loss: 0.1425 - mae: 0.1425\n",
      "Epoch 95/100\n",
      "1/1 [==============================] - 0s 3ms/step - loss: 0.1405 - mae: 0.1405\n",
      "Epoch 96/100\n",
      "1/1 [==============================] - 0s 3ms/step - loss: 0.2813 - mae: 0.2813\n",
      "Epoch 97/100\n",
      "1/1 [==============================] - 0s 4ms/step - loss: 0.2263 - mae: 0.2263\n",
      "Epoch 98/100\n",
      "1/1 [==============================] - 0s 3ms/step - loss: 0.1781 - mae: 0.1781\n",
      "Epoch 99/100\n",
      "1/1 [==============================] - 0s 3ms/step - loss: 0.2373 - mae: 0.2373\n",
      "Epoch 100/100\n",
      "1/1 [==============================] - 0s 3ms/step - loss: 0.0293 - mae: 0.0293\n"
     ]
    },
    {
     "data": {
      "text/plain": [
       "<keras.callbacks.History at 0x125151b0fd0>"
      ]
     },
     "execution_count": 20,
     "metadata": {},
     "output_type": "execute_result"
    }
   ],
   "source": [
    "# Let's see if we can make another to improve our model\n",
    "\n",
    "# 1. Create the model (this time with an extra hidden layer with 100 hidden units)\n",
    "model = tf.keras.Sequential([\n",
    "  tf.keras.layers.Dense(50, activation=None),\n",
    "  tf.keras.layers.Dense(1)\n",
    "])\n",
    "\n",
    "# 2. Compile the model \n",
    "model.compile(loss=\"mae\",\n",
    "              optimizer=tf.keras.optimizers.Adam(learning_rate=0.01),\n",
    "              metrics=[\"mae\"])\n",
    "\n",
    "# 3. Fit the model\n",
    "model.fit(tf.expand_dims(X, axis=-1), y, epochs=100)"
   ]
  },
  {
   "cell_type": "code",
   "execution_count": 21,
   "metadata": {},
   "outputs": [
    {
     "data": {
      "text/plain": [
       "(<tf.Tensor: shape=(8,), dtype=float32, numpy=array([-7., -4., -1.,  2.,  5.,  8., 11., 14.], dtype=float32)>,\n",
       " <tf.Tensor: shape=(8,), dtype=float32, numpy=array([ 3.,  6.,  9., 12., 15., 18., 21., 24.], dtype=float32)>)"
      ]
     },
     "execution_count": 21,
     "metadata": {},
     "output_type": "execute_result"
    }
   ],
   "source": [
    "# Let's remind ourselves of the data\n",
    "X, y"
   ]
  },
  {
   "cell_type": "code",
   "execution_count": 22,
   "metadata": {},
   "outputs": [
    {
     "name": "stdout",
     "output_type": "stream",
     "text": [
      "1/1 [==============================] - 0s 33ms/step\n"
     ]
    },
    {
     "data": {
      "text/plain": [
       "array([[28.00691]], dtype=float32)"
      ]
     },
     "execution_count": 22,
     "metadata": {},
     "output_type": "execute_result"
    }
   ],
   "source": [
    "# Let's try to make a prediction\n",
    "model.predict(np.array([17.0]))"
   ]
  },
  {
   "cell_type": "markdown",
   "metadata": {},
   "source": [
    "## Evaluating a model \n",
    "\n",
    "A typical workflow you'll go through when building neural networks is:\n",
    "\n",
    "```\n",
    "Build a model -> evaluate it -> build (tweak) a model -> evaulate it -> build (tweak) a model -> evaluate it...\n",
    "```\n",
    "\n",
    "The tweaking comes from maybe not building a model from scratch but adjusting an existing one.\n",
    "\n",
    "### Visualize, visualize, visualize\n",
    "\n",
    "When it comes to evaluation, you'll want to remember the words: \"visualize, visualize, visualize.\" \n",
    "\n",
    "This is because you're probably better looking at something (doing) than you are thinking about something.\n",
    "\n",
    "It's a good idea to visualize:\n",
    "* **The data** - what data are you working with? What does it look like?\n",
    "* **The model itself** - what does the architecture look like? What are the different shapes?\n",
    "* **The training of a model** - how does a model perform while it learns?\n",
    "* **The predictions of a model** - how do the predictions of a model line up against the ground truth (the original labels)?\n",
    "\n",
    "Let's start by visualizing the model.\n",
    "\n",
    "But first, we'll create a little bit of a bigger dataset and a new model we can use (it'll be the same as before, but the more practice the better)."
   ]
  },
  {
   "cell_type": "code",
   "execution_count": 23,
   "metadata": {},
   "outputs": [
    {
     "data": {
      "text/plain": [
       "<tf.Tensor: shape=(50,), dtype=int32, numpy=\n",
       "array([-100,  -96,  -92,  -88,  -84,  -80,  -76,  -72,  -68,  -64,  -60,\n",
       "        -56,  -52,  -48,  -44,  -40,  -36,  -32,  -28,  -24,  -20,  -16,\n",
       "        -12,   -8,   -4,    0,    4,    8,   12,   16,   20,   24,   28,\n",
       "         32,   36,   40,   44,   48,   52,   56,   60,   64,   68,   72,\n",
       "         76,   80,   84,   88,   92,   96])>"
      ]
     },
     "execution_count": 23,
     "metadata": {},
     "output_type": "execute_result"
    }
   ],
   "source": [
    "# Make a bigger dataset\n",
    "X = tf.range(-100, 100, 4)\n",
    "X"
   ]
  },
  {
   "cell_type": "code",
   "execution_count": 24,
   "metadata": {},
   "outputs": [
    {
     "data": {
      "text/plain": [
       "<tf.Tensor: shape=(50,), dtype=int32, numpy=\n",
       "array([-90, -86, -82, -78, -74, -70, -66, -62, -58, -54, -50, -46, -42,\n",
       "       -38, -34, -30, -26, -22, -18, -14, -10,  -6,  -2,   2,   6,  10,\n",
       "        14,  18,  22,  26,  30,  34,  38,  42,  46,  50,  54,  58,  62,\n",
       "        66,  70,  74,  78,  82,  86,  90,  94,  98, 102, 106])>"
      ]
     },
     "execution_count": 24,
     "metadata": {},
     "output_type": "execute_result"
    }
   ],
   "source": [
    "# Make labels for the dataset\n",
    "y = X + 10\n",
    "y"
   ]
  },
  {
   "cell_type": "code",
   "execution_count": 25,
   "metadata": {},
   "outputs": [
    {
     "data": {
      "text/plain": [
       "<matplotlib.collections.PathCollection at 0x1251626f1c0>"
      ]
     },
     "execution_count": 25,
     "metadata": {},
     "output_type": "execute_result"
    },
    {
     "data": {
      "image/png": "[encoded data removed]",
      "text/plain": [
       "<Figure size 640x480 with 1 Axes>"
      ]
     },
     "metadata": {},
     "output_type": "display_data"
    }
   ],
   "source": [
    "# Visualize the data\n",
    "import matplotlib.pyplot as plt\n",
    "\n",
    "plt.scatter(X, y)"
   ]
  },
  {
   "cell_type": "markdown",
   "metadata": {},
   "source": [
    "### The 3 sets...\n",
    "\n",
    "* **Training set** - the model learns from this data, which is typically 70-80% of the total data you have available.\n",
    "* **Validation set** - the model gets tuned on this data, which is typically 10-15% of the data available.\n",
    "* **Test set** - the model gets evaluated on this data to test what is has learned, this set is typically 10-15% of the total data available."
   ]
  },
  {
   "cell_type": "code",
   "execution_count": 26,
   "metadata": {},
   "outputs": [
    {
     "data": {
      "text/plain": [
       "50"
      ]
     },
     "execution_count": 26,
     "metadata": {},
     "output_type": "execute_result"
    }
   ],
   "source": [
    "# Check the length of how many samples we have\n",
    "len(X)"
   ]
  },
  {
   "cell_type": "code",
   "execution_count": 27,
   "metadata": {},
   "outputs": [
    {
     "data": {
      "text/plain": [
       "(40, 10, 40, 10)"
      ]
     },
     "execution_count": 27,
     "metadata": {},
     "output_type": "execute_result"
    }
   ],
   "source": [
    "# Split the data into train and test sets\n",
    "X_train = X[:40] # first 40 are training samples (80% of the data)\n",
    "y_train = y[:40]\n",
    "\n",
    "X_test = X[40:] # last 10 are testing sample (20% of the data)\n",
    "y_test = y[40:]\n",
    "\n",
    "len(X_train), len(X_test), len(y_train), len(y_test)"
   ]
  },
  {
   "cell_type": "markdown",
   "metadata": {},
   "source": [
    "### Visualizing the data\n",
    "\n",
    "Now we've got our data in training and test sets... let's visualize it again!"
   ]
  },
  {
   "cell_type": "code",
   "execution_count": 28,
   "metadata": {},
   "outputs": [
    {
     "data": {
      "image/png": "[encoded data removed]",
      "text/plain": [
       "<Figure size 1000x700 with 1 Axes>"
      ]
     },
     "metadata": {},
     "output_type": "display_data"
    }
   ],
   "source": [
    "plt.figure(figsize=(10, 7))\n",
    "# Plot training data in blue\n",
    "plt.scatter(X_train, y_train, c=\"b\", label=\"Training data\")\n",
    "# Plot test data in green\n",
    "plt.scatter(X_test, y_test, c=\"g\", label=\"Testing data\")\n",
    "# Show a legend\n",
    "plt.legend();"
   ]
  },
  {
   "cell_type": "code",
   "execution_count": 29,
   "metadata": {},
   "outputs": [],
   "source": [
    "# Let's have a look at how to build a neural network for our data\n",
    "\n",
    "# 1. Create the model\n",
    "model = tf.keras.Sequential([\n",
    "  tf.keras.layers.Dense(1)\n",
    "])\n",
    "\n",
    "# 2. Compile the model\n",
    "model.compile(loss=tf.keras.losses.mae,\n",
    "              optimizer=tf.keras.optimizers.SGD(),\n",
    "              metrics=[\"mae\"])\n",
    "\n",
    "## 3. Fit the model\n",
    "#model.fit(tf.expand_dims(X_train, axis=-1), y_train, epochs=100)"
   ]
  },
  {
   "cell_type": "markdown",
   "metadata": {},
   "source": [
    "### Visualizing the model"
   ]
  },
  {
   "cell_type": "code",
   "execution_count": 41,
   "metadata": {},
   "outputs": [
    {
     "name": "stdout",
     "output_type": "stream",
     "text": [
      "Model: \"sequential_3\"\n",
      "_________________________________________________________________\n",
      " Layer (type)                Output Shape              Param #   \n",
      "=================================================================\n",
      " dense_4 (Dense)             multiple                  0 (unused)\n",
      "                                                                 \n",
      "=================================================================\n",
      "Total params: 0\n",
      "Trainable params: 0\n",
      "Non-trainable params: 0\n",
      "_________________________________________________________________\n"
     ]
    }
   ],
   "source": [
    "model.summary()"
   ]
  },
  {
   "cell_type": "code",
   "execution_count": 42,
   "metadata": {},
   "outputs": [
    {
     "data": {
      "text/plain": [
       "(<tf.Tensor: shape=(), dtype=int32, numpy=-100>,\n",
       " <tf.Tensor: shape=(), dtype=int32, numpy=-90>)"
      ]
     },
     "execution_count": 42,
     "metadata": {},
     "output_type": "execute_result"
    }
   ],
   "source": [
    "X[0], y[0]"
   ]
  },
  {
   "cell_type": "code",
   "execution_count": 56,
   "metadata": {},
   "outputs": [],
   "source": [
    "# Let's create a model which builds automatically by defining the input_shape argument in the first layer\n",
    "tf.random.set_seed(42)\n",
    "\n",
    "# 1. Create a model (same as above)\n",
    "model = tf.keras.Sequential([\n",
    "  tf.keras.layers.Dense(10, input_shape=[1], name=\"input_layer\"),\n",
    "  tf.keras.layers.Dense(1, name=\"output_layer\"),\n",
    "], name=\"model_1\")\n",
    "\n",
    "# 2. Compile the model (same as above)\n",
    "model.compile(loss=tf.keras.losses.mae,\n",
    "              optimizer=tf.keras.optimizers.SGD(),\n",
    "              metrics=[\"mae\"])"
   ]
  },
  {
   "cell_type": "code",
   "execution_count": 57,
   "metadata": {},
   "outputs": [
    {
     "name": "stdout",
     "output_type": "stream",
     "text": [
      "Model: \"model_1\"\n",
      "_________________________________________________________________\n",
      " Layer (type)                Output Shape              Param #   \n",
      "=================================================================\n",
      " input_layer (Dense)         (None, 10)                20        \n",
      "                                                                 \n",
      " output_layer (Dense)        (None, 1)                 11        \n",
      "                                                                 \n",
      "=================================================================\n",
      "Total params: 31\n",
      "Trainable params: 31\n",
      "Non-trainable params: 0\n",
      "_________________________________________________________________\n"
     ]
    }
   ],
   "source": [
    "model.summary()"
   ]
  },
  {
   "cell_type": "markdown",
   "metadata": {},
   "source": [
    "Calling `summary()` on our model shows us the layers it contains, the output shape and the number of parameters.\n",
    "\n",
    "* **Total params** - total number of parameters in the model.\n",
    "* **Trainable parameters** - these are the parameters (patterns) the model can update as it trains.\n",
    "* **Non-trainable parameters** - these parameters aren't updated during training (this is typical when you bring in the already learned patterns from other models during transfer learning).\n",
    "> 📖 **Resource**: For a more in-depth overview of the trainable parameters within a layer, check out MIT's introduction to deep learning video.\n",
    "\n",
    "> 🛠 **Exercise**: Try playing around with the number of hidden units in the `Dense` layer (e.g. `Dense(2)`, `Dense(3)`). How does this change the Total/Trainable params? Investigate what's causing the change.\n",
    "\n",
    "For now, all you need to think about these parameters is that their learnable patterns in the data.\n",
    "\n",
    "Let's fit our model to the training data."
   ]
  },
  {
   "cell_type": "code",
   "execution_count": 69,
   "metadata": {},
   "outputs": [],
   "source": [
    "# Set random seed\n",
    "tf.random.set_seed(42)\n",
    "\n",
    "# 1. Create a model (same as above)\n",
    "model = tf.keras.Sequential([\n",
    "  tf.keras.layers.Dense(1, input_shape=[1])\n",
    "], name=\"model_1\")\n",
    "\n",
    "# 2. Compile the model (same as above)\n",
    "model.compile(loss=tf.keras.losses.mae,\n",
    "              optimizer=tf.keras.optimizers.SGD(),\n",
    "              metrics=[\"mae\"])"
   ]
  },
  {
   "cell_type": "code",
   "execution_count": 78,
   "metadata": {},
   "outputs": [
    {
     "data": {
      "text/plain": [
       "<keras.callbacks.History at 0x12519dbb370>"
      ]
     },
     "execution_count": 78,
     "metadata": {},
     "output_type": "execute_result"
    }
   ],
   "source": [
    "# Let's fit our model to the training data\n",
    "model.fit(tf.expand_dims(X_train, axis=-1), y_train, epochs=100, verbose=0)"
   ]
  },
  {
   "cell_type": "code",
   "execution_count": 79,
   "metadata": {},
   "outputs": [
    {
     "name": "stdout",
     "output_type": "stream",
     "text": [
      "Model: \"model_1\"\n",
      "_________________________________________________________________\n",
      " Layer (type)                Output Shape              Param #   \n",
      "=================================================================\n",
      " dense_8 (Dense)             (None, 1)                 2         \n",
      "                                                                 \n",
      "=================================================================\n",
      "Total params: 2\n",
      "Trainable params: 2\n",
      "Non-trainable params: 0\n",
      "_________________________________________________________________\n"
     ]
    }
   ],
   "source": [
    "# Get a summary of our model\n",
    "model.summary()"
   ]
  },
  {
   "cell_type": "code",
   "execution_count": 80,
   "metadata": {},
   "outputs": [
    {
     "name": "stdout",
     "output_type": "stream",
     "text": [
      "You must install pydot (`pip install pydot`) and install graphviz (see instructions at https://graphviz.gitlab.io/download/) for plot_model to work.\n"
     ]
    }
   ],
   "source": [
    "from tensorflow.keras.utils import plot_model\n",
    "\n",
    "plot_model(model=model, show_shapes=True)"
   ]
  },
  {
   "cell_type": "markdown",
   "metadata": {},
   "source": [
    "### Visualizing our model's predictions\n",
    "\n",
    "To visualize predictions, it's a good idea to plot them against the ground truth labels.\n",
    "\n",
    "Often you'll see this in the form of `y_test` or `y_true` versus `y_pred` (ground truth versus your model's predictions)."
   ]
  },
  {
   "cell_type": "code",
   "execution_count": 81,
   "metadata": {},
   "outputs": [
    {
     "name": "stdout",
     "output_type": "stream",
     "text": [
      "1/1 [==============================] - 0s 14ms/step\n"
     ]
    },
    {
     "data": {
      "text/plain": [
       "array([[ 69.4288  ],\n",
       "       [ 73.88489 ],\n",
       "       [ 78.34097 ],\n",
       "       [ 82.79706 ],\n",
       "       [ 87.25315 ],\n",
       "       [ 91.709236],\n",
       "       [ 96.16532 ],\n",
       "       [100.62141 ],\n",
       "       [105.07749 ],\n",
       "       [109.53358 ]], dtype=float32)"
      ]
     },
     "execution_count": 81,
     "metadata": {},
     "output_type": "execute_result"
    }
   ],
   "source": [
    "# Make some prediction\n",
    "y_pred = model.predict(X_test)\n",
    "y_pred"
   ]
  },
  {
   "cell_type": "code",
   "execution_count": 82,
   "metadata": {},
   "outputs": [
    {
     "data": {
      "text/plain": [
       "<tf.Tensor: shape=(10,), dtype=int32, numpy=array([ 70,  74,  78,  82,  86,  90,  94,  98, 102, 106])>"
      ]
     },
     "execution_count": 82,
     "metadata": {},
     "output_type": "execute_result"
    }
   ],
   "source": [
    "y_test"
   ]
  },
  {
   "cell_type": "markdown",
   "metadata": {},
   "source": [
    "🔑 **Note:** If you think you're going to be visualizing something a lot, it's a good idea to functionize it so you can use it later."
   ]
  },
  {
   "cell_type": "code",
   "execution_count": 83,
   "metadata": {},
   "outputs": [],
   "source": [
    "# Let's create a plotting function\n",
    "def plot_predictions(train_data=X_train, \n",
    "                     train_labels=y_train, \n",
    "                     test_data=X_test, \n",
    "                     test_labels=y_test, \n",
    "                     predictions=y_pred):\n",
    "  \"\"\"\n",
    "  Plots training data, test data and compares predictions.\n",
    "  \"\"\"\n",
    "  plt.figure(figsize=(10, 7))\n",
    "  # Plot training data in blue\n",
    "  plt.scatter(train_data, train_labels, c=\"b\", label=\"Training data\")\n",
    "  # Plot test data in green\n",
    "  plt.scatter(test_data, test_labels, c=\"g\", label=\"Testing data\")\n",
    "  # Plot the predictions in red (predictions were made on the test data)\n",
    "  plt.scatter(test_data, predictions, c=\"r\", label=\"Predictions\")\n",
    "  # Show the legend\n",
    "  plt.legend();"
   ]
  },
  {
   "cell_type": "code",
   "execution_count": 84,
   "metadata": {},
   "outputs": [
    {
     "data": {
      "image/png": "[encoded data removed]",
      "text/plain": [
       "<Figure size 1000x700 with 1 Axes>"
      ]
     },
     "metadata": {},
     "output_type": "display_data"
    }
   ],
   "source": [
    "plot_predictions(train_data=X_train,\n",
    "                 train_labels=y_train,\n",
    "                 test_data=X_test,\n",
    "                 test_labels=y_test,\n",
    "                 predictions=y_pred)"
   ]
  },
  {
   "cell_type": "markdown",
   "metadata": {},
   "source": [
    "### Evaluting our model's predictions with regression evaluation metrics\n",
    "\n",
    "Alongisde visualizations, evaulation metrics are your alternative best option for evaluating your model.\n",
    "\n",
    "Depending on the problem you're working on, different models have different evaluation metrics.\n",
    "\n",
    "Two of the main metrics used for regression problems are:\n",
    "\n",
    "* **Mean absolute error (MAE)** - the mean difference between each of the predictions.\n",
    "* **Mean squared error (MSE)** - the squared mean difference between of the predictions (use if larger errors are more detrimental than smaller errors).\n",
    "\n",
    "The lower each of these values, the better.\n",
    "\n",
    "You can also use `model.evaluate()` which will return the loss of the model as well as any metrics setup during the compile step."
   ]
  },
  {
   "cell_type": "code",
   "execution_count": null,
   "metadata": {},
   "outputs": [
    {
     "name": "stdout",
     "output_type": "stream",
     "text": [
      "\u001b[1m1/1\u001b[0m \u001b[32m━━━━━━━━━━━━━━━━━━━━\u001b[0m\u001b[37m\u001b[0m \u001b[1m0s\u001b[0m 72ms/step - loss: 1.3335 - mae: 1.3335\n"
     ]
    },
    {
     "data": {
      "text/plain": [
       "[1.333544135093689, 1.333544135093689]"
      ]
     },
     "execution_count": 55,
     "metadata": {},
     "output_type": "execute_result"
    }
   ],
   "source": [
    "# Evaluate the model on the test\n",
    "model.evaluate(X_test, y_test)"
   ]
  },
  {
   "cell_type": "code",
   "execution_count": 85,
   "metadata": {},
   "outputs": [
    {
     "data": {
      "text/plain": [
       "<tf.Tensor: shape=(10,), dtype=float32, numpy=\n",
       "array([18.571198, 14.89209 , 12.263611, 10.640589, 10.      , 10.341847,\n",
       "       11.666128, 13.972844, 17.261993, 21.533577], dtype=float32)>"
      ]
     },
     "execution_count": 85,
     "metadata": {},
     "output_type": "execute_result"
    }
   ],
   "source": [
    "# Calculate the mean absolute error\n",
    "mae = tf.metrics.mean_absolute_error(y_true=y_test, \n",
    "                                     y_pred=y_pred)\n",
    "mae"
   ]
  },
  {
   "cell_type": "code",
   "execution_count": 36,
   "metadata": {},
   "outputs": [
    {
     "data": {
      "text/plain": [
       "<tf.Tensor: shape=(1, 1), dtype=float32, numpy=array([[20.242569]], dtype=float32)>"
      ]
     },
     "execution_count": 36,
     "metadata": {},
     "output_type": "execute_result"
    }
   ],
   "source": [
    "tf.constant(y_pred)"
   ]
  },
  {
   "cell_type": "code",
   "execution_count": 37,
   "metadata": {},
   "outputs": [
    {
     "data": {
      "text/plain": [
       "<tf.Tensor: shape=(10,), dtype=int32, numpy=array([ 70,  74,  78,  82,  86,  90,  94,  98, 102, 106])>"
      ]
     },
     "execution_count": 37,
     "metadata": {},
     "output_type": "execute_result"
    }
   ],
   "source": [
    "y_test"
   ]
  },
  {
   "cell_type": "code",
   "execution_count": 86,
   "metadata": {},
   "outputs": [
    {
     "data": {
      "text/plain": [
       "<tf.Tensor: shape=(10,), dtype=float32, numpy=\n",
       "array([ 69.4288  ,  73.88489 ,  78.34097 ,  82.79706 ,  87.25315 ,\n",
       "        91.709236,  96.16532 , 100.62141 , 105.07749 , 109.53358 ],\n",
       "      dtype=float32)>"
      ]
     },
     "execution_count": 86,
     "metadata": {},
     "output_type": "execute_result"
    }
   ],
   "source": [
    "tf.squeeze(y_pred)"
   ]
  },
  {
   "cell_type": "code",
   "execution_count": 87,
   "metadata": {},
   "outputs": [
    {
     "data": {
      "text/plain": [
       "<tf.Tensor: shape=(), dtype=float32, numpy=1.6184524>"
      ]
     },
     "execution_count": 87,
     "metadata": {},
     "output_type": "execute_result"
    }
   ],
   "source": [
    "# Calculate the mean absolute error\n",
    "mae = tf.metrics.mean_absolute_error(y_true=y_test,\n",
    "                                     y_pred=tf.squeeze(y_pred))\n",
    "mae"
   ]
  },
  {
   "cell_type": "code",
   "execution_count": 88,
   "metadata": {},
   "outputs": [
    {
     "data": {
      "text/plain": [
       "<tf.Tensor: shape=(), dtype=float32, numpy=3.9100468>"
      ]
     },
     "execution_count": 88,
     "metadata": {},
     "output_type": "execute_result"
    }
   ],
   "source": [
    "# Calculate the mean square error\n",
    "mse = tf.metrics.mean_squared_error(y_true=y_test,\n",
    "                                    y_pred=tf.squeeze(y_pred))\n",
    "mse"
   ]
  },
  {
   "cell_type": "code",
   "execution_count": 89,
   "metadata": {},
   "outputs": [],
   "source": [
    "# Make some functions to reuse MAE and MSE\n",
    "def mae(y_true, y_pred):\n",
    "  return tf.metrics.mean_absolute_error(y_true=y_test,\n",
    "                                        y_pred=y_pred)\n",
    "\n",
    "def mse(y_true, y_pred):\n",
    "  return tf.metrics.mean_squared_error(y_true=y_test,\n",
    "                                       y_pred=y_pred)"
   ]
  },
  {
   "cell_type": "markdown",
   "metadata": {},
   "source": [
    "### Running experiments to improve a model\n",
    "\n",
    "After seeing the evaluation metrics and the predictions your model makes, it's likely you'll want to improve it.\n",
    "\n",
    "Again, there are many different ways you can do this, but 3 of the main ones are:\n",
    "\n",
    "1. **Get more data** - get more examples for your model to train on (more opportunities to learn patterns).\n",
    "2. **Make your model larger (use a more complex model)** - this might come in the form of more layers or more hidden units in each layer.\n",
    "3. **Train for longer** - give your model more of a chance to find the patterns in the data.\n",
    "Since we created our dataset, we could easily make more data but this isn't always the case when you're working with real-world datasets.\n",
    "\n",
    "So let's take a look at how we can improve our model using 2 and 3.\n",
    "\n",
    "To do so, we'll build 3 models and compare their results:\n",
    "\n",
    "1. `model_1` - same as original model, 1 layer, trained for 100 epochs.\n",
    "2. `model_2` - 2 layers, trained for 100 epochs.\n",
    "3. `model_3` - 2 layers, trained for 500 epochs.\n",
    "\n",
    "**Build** `model_1`"
   ]
  },
  {
   "cell_type": "code",
   "execution_count": 92,
   "metadata": {},
   "outputs": [
    {
     "name": "stdout",
     "output_type": "stream",
     "text": [
      "Epoch 1/100\n",
      "2/2 [==============================] - 0s 5ms/step - loss: 39.9547 - mae: 39.9547\n",
      "Epoch 2/100\n",
      "2/2 [==============================] - 0s 2ms/step - loss: 11.6012 - mae: 11.6012\n",
      "Epoch 3/100\n",
      "2/2 [==============================] - 0s 2ms/step - loss: 11.6045 - mae: 11.6045\n",
      "Epoch 4/100\n",
      "2/2 [==============================] - 0s 2ms/step - loss: 9.3944 - mae: 9.3944\n",
      "Epoch 5/100\n",
      "2/2 [==============================] - 0s 2ms/step - loss: 10.2760 - mae: 10.2760\n",
      "Epoch 6/100\n",
      "2/2 [==============================] - 0s 2ms/step - loss: 9.5268 - mae: 9.5268\n",
      "Epoch 7/100\n",
      "2/2 [==============================] - 0s 2ms/step - loss: 8.6522 - mae: 8.6522\n",
      "Epoch 8/100\n",
      "2/2 [==============================] - 0s 997us/step - loss: 9.0589 - mae: 9.0589\n",
      "Epoch 9/100\n",
      "2/2 [==============================] - 0s 2ms/step - loss: 18.9411 - mae: 18.9411\n",
      "Epoch 10/100\n",
      "2/2 [==============================] - 0s 2ms/step - loss: 10.2255 - mae: 10.2255\n",
      "Epoch 11/100\n",
      "2/2 [==============================] - 0s 2ms/step - loss: 8.4463 - mae: 8.4463\n",
      "Epoch 12/100\n",
      "2/2 [==============================] - 0s 2ms/step - loss: 10.7545 - mae: 10.7545\n",
      "Epoch 13/100\n",
      "2/2 [==============================] - 0s 2ms/step - loss: 9.8389 - mae: 9.8389\n",
      "Epoch 14/100\n",
      "2/2 [==============================] - 0s 2ms/step - loss: 16.2108 - mae: 16.2108\n",
      "Epoch 15/100\n",
      "2/2 [==============================] - 0s 2ms/step - loss: 11.2599 - mae: 11.2599\n",
      "Epoch 16/100\n",
      "2/2 [==============================] - 0s 2ms/step - loss: 8.5929 - mae: 8.5929\n",
      "Epoch 17/100\n",
      "2/2 [==============================] - 0s 2ms/step - loss: 13.7495 - mae: 13.7495\n",
      "Epoch 18/100\n",
      "2/2 [==============================] - 0s 2ms/step - loss: 11.6041 - mae: 11.6041\n",
      "Epoch 19/100\n",
      "2/2 [==============================] - 0s 2ms/step - loss: 17.7608 - mae: 17.7608\n",
      "Epoch 20/100\n",
      "2/2 [==============================] - 0s 2ms/step - loss: 14.8966 - mae: 14.8966\n",
      "Epoch 21/100\n",
      "2/2 [==============================] - 0s 2ms/step - loss: 10.7959 - mae: 10.7959\n",
      "Epoch 22/100\n",
      "2/2 [==============================] - 0s 2ms/step - loss: 8.5404 - mae: 8.5404\n",
      "Epoch 23/100\n",
      "2/2 [==============================] - 0s 2ms/step - loss: 9.7684 - mae: 9.7684\n",
      "Epoch 24/100\n",
      "2/2 [==============================] - 0s 2ms/step - loss: 10.9001 - mae: 10.9001\n",
      "Epoch 25/100\n",
      "2/2 [==============================] - 0s 3ms/step - loss: 9.1422 - mae: 9.1422\n",
      "Epoch 26/100\n",
      "2/2 [==============================] - 0s 2ms/step - loss: 13.1329 - mae: 13.1329\n",
      "Epoch 27/100\n",
      "2/2 [==============================] - 0s 1ms/step - loss: 10.4444 - mae: 10.4444\n",
      "Epoch 28/100\n",
      "2/2 [==============================] - 0s 999us/step - loss: 13.4763 - mae: 13.4763\n",
      "Epoch 29/100\n",
      "2/2 [==============================] - 0s 2ms/step - loss: 9.6324 - mae: 9.6324\n",
      "Epoch 30/100\n",
      "2/2 [==============================] - 0s 6ms/step - loss: 17.3296 - mae: 17.3296\n",
      "Epoch 31/100\n",
      "2/2 [==============================] - 0s 3ms/step - loss: 22.7508 - mae: 22.7508\n",
      "Epoch 32/100\n",
      "2/2 [==============================] - 0s 3ms/step - loss: 7.9235 - mae: 7.9235\n",
      "Epoch 33/100\n",
      "2/2 [==============================] - 0s 2ms/step - loss: 14.2215 - mae: 14.2215\n",
      "Epoch 34/100\n",
      "2/2 [==============================] - 0s 4ms/step - loss: 12.4861 - mae: 12.4861\n",
      "Epoch 35/100\n",
      "2/2 [==============================] - 0s 2ms/step - loss: 8.2386 - mae: 8.2386\n",
      "Epoch 36/100\n",
      "2/2 [==============================] - 0s 2ms/step - loss: 10.4365 - mae: 10.4365\n",
      "Epoch 37/100\n",
      "2/2 [==============================] - 0s 2ms/step - loss: 10.0926 - mae: 10.0926\n",
      "Epoch 38/100\n",
      "2/2 [==============================] - 0s 2ms/step - loss: 11.2523 - mae: 11.2523\n",
      "Epoch 39/100\n",
      "2/2 [==============================] - 0s 1000us/step - loss: 14.8438 - mae: 14.8438\n",
      "Epoch 40/100\n",
      "2/2 [==============================] - 0s 2ms/step - loss: 12.9733 - mae: 12.9733\n",
      "Epoch 41/100\n",
      "2/2 [==============================] - 0s 2ms/step - loss: 9.3738 - mae: 9.3738\n",
      "Epoch 42/100\n",
      "2/2 [==============================] - 0s 2ms/step - loss: 10.9488 - mae: 10.9488\n",
      "Epoch 43/100\n",
      "2/2 [==============================] - 0s 999us/step - loss: 8.3288 - mae: 8.3288\n",
      "Epoch 44/100\n",
      "2/2 [==============================] - 0s 2ms/step - loss: 12.9488 - mae: 12.9488\n",
      "Epoch 45/100\n",
      "2/2 [==============================] - 0s 2ms/step - loss: 13.7756 - mae: 13.7756\n",
      "Epoch 46/100\n",
      "2/2 [==============================] - 0s 2ms/step - loss: 8.4575 - mae: 8.4575\n",
      "Epoch 47/100\n",
      "2/2 [==============================] - 0s 2ms/step - loss: 9.1530 - mae: 9.1530\n",
      "Epoch 48/100\n",
      "2/2 [==============================] - 0s 2ms/step - loss: 10.6454 - mae: 10.6454\n",
      "Epoch 49/100\n",
      "2/2 [==============================] - 0s 2ms/step - loss: 7.7683 - mae: 7.7683\n",
      "Epoch 50/100\n",
      "2/2 [==============================] - 0s 2ms/step - loss: 9.5652 - mae: 9.5652\n",
      "Epoch 51/100\n",
      "2/2 [==============================] - 0s 2ms/step - loss: 9.1696 - mae: 9.1696\n",
      "Epoch 52/100\n",
      "2/2 [==============================] - 0s 2ms/step - loss: 16.4028 - mae: 16.4028\n",
      "Epoch 53/100\n",
      "2/2 [==============================] - 0s 2ms/step - loss: 14.1190 - mae: 14.1190\n",
      "Epoch 54/100\n",
      "2/2 [==============================] - 0s 2ms/step - loss: 21.0869 - mae: 21.0869\n",
      "Epoch 55/100\n",
      "2/2 [==============================] - 0s 2ms/step - loss: 16.4338 - mae: 16.4338\n",
      "Epoch 56/100\n",
      "2/2 [==============================] - 0s 1ms/step - loss: 9.9166 - mae: 9.9166\n",
      "Epoch 57/100\n",
      "2/2 [==============================] - 0s 3ms/step - loss: 9.6366 - mae: 9.6366\n",
      "Epoch 58/100\n",
      "2/2 [==============================] - 0s 2ms/step - loss: 8.9652 - mae: 8.9652\n",
      "Epoch 59/100\n",
      "2/2 [==============================] - 0s 2ms/step - loss: 10.1586 - mae: 10.1586\n",
      "Epoch 60/100\n",
      "2/2 [==============================] - 0s 2ms/step - loss: 8.4488 - mae: 8.4488\n",
      "Epoch 61/100\n",
      "2/2 [==============================] - 0s 2ms/step - loss: 9.2980 - mae: 9.2980\n",
      "Epoch 62/100\n",
      "2/2 [==============================] - 0s 997us/step - loss: 7.0809 - mae: 7.0809\n",
      "Epoch 63/100\n",
      "2/2 [==============================] - 0s 2ms/step - loss: 8.6408 - mae: 8.6408\n",
      "Epoch 64/100\n",
      "2/2 [==============================] - 0s 1ms/step - loss: 9.2194 - mae: 9.2194\n",
      "Epoch 65/100\n",
      "2/2 [==============================] - 0s 2ms/step - loss: 10.4632 - mae: 10.4632\n",
      "Epoch 66/100\n",
      "2/2 [==============================] - 0s 2ms/step - loss: 15.6838 - mae: 15.6838\n",
      "Epoch 67/100\n",
      "2/2 [==============================] - 0s 3ms/step - loss: 10.0705 - mae: 10.0705\n",
      "Epoch 68/100\n",
      "2/2 [==============================] - 0s 4ms/step - loss: 9.0374 - mae: 9.0374\n",
      "Epoch 69/100\n",
      "2/2 [==============================] - 0s 2ms/step - loss: 12.5551 - mae: 12.5551\n",
      "Epoch 70/100\n",
      "2/2 [==============================] - 0s 3ms/step - loss: 8.9708 - mae: 8.9708\n",
      "Epoch 71/100\n",
      "2/2 [==============================] - 0s 3ms/step - loss: 9.9464 - mae: 9.9464\n",
      "Epoch 72/100\n",
      "2/2 [==============================] - 0s 2ms/step - loss: 9.9838 - mae: 9.9838\n",
      "Epoch 73/100\n",
      "2/2 [==============================] - 0s 998us/step - loss: 12.4563 - mae: 12.4563\n",
      "Epoch 74/100\n",
      "2/2 [==============================] - 0s 2ms/step - loss: 10.5700 - mae: 10.5700\n",
      "Epoch 75/100\n",
      "2/2 [==============================] - 0s 2ms/step - loss: 9.6432 - mae: 9.6432\n",
      "Epoch 76/100\n",
      "2/2 [==============================] - 0s 998us/step - loss: 11.1115 - mae: 11.1115\n",
      "Epoch 77/100\n",
      "2/2 [==============================] - 0s 995us/step - loss: 8.2909 - mae: 8.2909\n",
      "Epoch 78/100\n",
      "2/2 [==============================] - 0s 2ms/step - loss: 8.9862 - mae: 8.9862\n",
      "Epoch 79/100\n",
      "2/2 [==============================] - 0s 2ms/step - loss: 19.7753 - mae: 19.7753\n",
      "Epoch 80/100\n",
      "2/2 [==============================] - 0s 2ms/step - loss: 17.8354 - mae: 17.8354\n",
      "Epoch 81/100\n",
      "2/2 [==============================] - 0s 2ms/step - loss: 7.0807 - mae: 7.0807\n",
      "Epoch 82/100\n",
      "2/2 [==============================] - 0s 3ms/step - loss: 10.4221 - mae: 10.4221\n",
      "Epoch 83/100\n",
      "2/2 [==============================] - 0s 2ms/step - loss: 9.8472 - mae: 9.8472\n",
      "Epoch 84/100\n",
      "2/2 [==============================] - 0s 2ms/step - loss: 7.9400 - mae: 7.9400\n",
      "Epoch 85/100\n",
      "2/2 [==============================] - 0s 2ms/step - loss: 9.4462 - mae: 9.4462\n",
      "Epoch 86/100\n",
      "2/2 [==============================] - 0s 2ms/step - loss: 9.4915 - mae: 9.4915\n",
      "Epoch 87/100\n",
      "2/2 [==============================] - 0s 2ms/step - loss: 11.4315 - mae: 11.4315\n",
      "Epoch 88/100\n",
      "2/2 [==============================] - 0s 998us/step - loss: 9.9313 - mae: 9.9313\n",
      "Epoch 89/100\n",
      "2/2 [==============================] - 0s 3ms/step - loss: 7.2592 - mae: 7.2592\n",
      "Epoch 90/100\n",
      "2/2 [==============================] - 0s 2ms/step - loss: 12.6885 - mae: 12.6885\n",
      "Epoch 91/100\n",
      "2/2 [==============================] - 0s 2ms/step - loss: 7.3148 - mae: 7.3148\n",
      "Epoch 92/100\n",
      "2/2 [==============================] - 0s 2ms/step - loss: 7.6774 - mae: 7.6774\n",
      "Epoch 93/100\n",
      "2/2 [==============================] - 0s 3ms/step - loss: 7.1263 - mae: 7.1263\n",
      "Epoch 94/100\n",
      "2/2 [==============================] - 0s 2ms/step - loss: 12.5378 - mae: 12.5378\n",
      "Epoch 95/100\n",
      "2/2 [==============================] - 0s 2ms/step - loss: 9.9149 - mae: 9.9149\n",
      "Epoch 96/100\n",
      "2/2 [==============================] - 0s 2ms/step - loss: 9.1536 - mae: 9.1536\n",
      "Epoch 97/100\n",
      "2/2 [==============================] - 0s 3ms/step - loss: 12.1065 - mae: 12.1065\n",
      "Epoch 98/100\n",
      "2/2 [==============================] - 0s 2ms/step - loss: 9.0605 - mae: 9.0605\n",
      "Epoch 99/100\n",
      "2/2 [==============================] - 0s 2ms/step - loss: 8.5084 - mae: 8.5084\n",
      "Epoch 100/100\n",
      "2/2 [==============================] - 0s 2ms/step - loss: 14.4832 - mae: 14.4832\n"
     ]
    },
    {
     "data": {
      "text/plain": [
       "<keras.callbacks.History at 0x12519373100>"
      ]
     },
     "execution_count": 92,
     "metadata": {},
     "output_type": "execute_result"
    }
   ],
   "source": [
    "# Set random seed\n",
    "tf.random.set_seed(42)\n",
    "\n",
    "# 1. Create the model\n",
    "model_1 = tf.keras.Sequential([\n",
    "  tf.keras.layers.Dense(1)\n",
    "])\n",
    "\n",
    "# 2. Compile the model\n",
    "model_1.compile(loss=tf.keras.losses.mae,\n",
    "                optimizer=tf.keras.optimizers.SGD(),\n",
    "                metrics=[\"mae\"]\n",
    "                )\n",
    "\n",
    "# 3. Fit the model\n",
    "model_1.fit(tf.expand_dims(X_train, axis=-1), y_train, epochs=100)"
   ]
  },
  {
   "cell_type": "code",
   "execution_count": 93,
   "metadata": {},
   "outputs": [
    {
     "name": "stdout",
     "output_type": "stream",
     "text": [
      "1/1 [==============================] - 0s 29ms/step\n"
     ]
    },
    {
     "data": {
      "image/png": "[encoded data removed]",
      "text/plain": [
       "<Figure size 1000x700 with 1 Axes>"
      ]
     },
     "metadata": {},
     "output_type": "display_data"
    }
   ],
   "source": [
    "# Make and plot predictions for model_1\n",
    "y_preds_1 = model_1.predict(X_test)\n",
    "plot_predictions(predictions=y_preds_1)"
   ]
  },
  {
   "cell_type": "code",
   "execution_count": 99,
   "metadata": {},
   "outputs": [
    {
     "data": {
      "text/plain": [
       "(<tf.Tensor: shape=(), dtype=float32, numpy=30.576172>,\n",
       " <tf.Tensor: shape=(), dtype=float32, numpy=945.27405>)"
      ]
     },
     "execution_count": 99,
     "metadata": {},
     "output_type": "execute_result"
    }
   ],
   "source": [
    "# Calculate model_1 evaluation metrics\n",
    "mae_1 = mae(y_test, tf.squeeze(y_preds_1))\n",
    "mse_1 = mse(y_test, tf.squeeze(y_preds_1))\n",
    "mae_1, mse_1"
   ]
  },
  {
   "cell_type": "markdown",
   "metadata": {},
   "source": [
    "**Build `model_2`**\n",
    "\n",
    "* 2 dense layers, trained for 100 epochs"
   ]
  },
  {
   "cell_type": "code",
   "execution_count": 100,
   "metadata": {},
   "outputs": [
    {
     "name": "stdout",
     "output_type": "stream",
     "text": [
      "Epoch 1/100\n",
      "2/2 [==============================] - 0s 5ms/step - loss: 53.8366 - mae: 53.8366\n",
      "Epoch 2/100\n",
      "2/2 [==============================] - 0s 2ms/step - loss: 29.1842 - mae: 29.1842\n",
      "Epoch 3/100\n",
      "2/2 [==============================] - 0s 2ms/step - loss: 33.5432 - mae: 33.5432\n",
      "Epoch 4/100\n",
      "2/2 [==============================] - 0s 2ms/step - loss: 30.9712 - mae: 30.9712\n",
      "Epoch 5/100\n",
      "2/2 [==============================] - 0s 2ms/step - loss: 15.7395 - mae: 15.7395\n",
      "Epoch 6/100\n",
      "2/2 [==============================] - 0s 3ms/step - loss: 12.4738 - mae: 12.4738\n",
      "Epoch 7/100\n",
      "2/2 [==============================] - 0s 3ms/step - loss: 11.7380 - mae: 11.7380\n",
      "Epoch 8/100\n",
      "2/2 [==============================] - 0s 2ms/step - loss: 12.1029 - mae: 12.1029\n",
      "Epoch 9/100\n",
      "2/2 [==============================] - 0s 2ms/step - loss: 38.0178 - mae: 38.0178\n",
      "Epoch 10/100\n",
      "2/2 [==============================] - 0s 2ms/step - loss: 25.6044 - mae: 25.6044\n",
      "Epoch 11/100\n",
      "2/2 [==============================] - 0s 2ms/step - loss: 10.2461 - mae: 10.2461\n",
      "Epoch 12/100\n",
      "2/2 [==============================] - 0s 2ms/step - loss: 25.2891 - mae: 25.2891\n",
      "Epoch 13/100\n",
      "2/2 [==============================] - 0s 2ms/step - loss: 17.0322 - mae: 17.0322\n",
      "Epoch 14/100\n",
      "2/2 [==============================] - 0s 2ms/step - loss: 26.0074 - mae: 26.0074\n",
      "Epoch 15/100\n",
      "2/2 [==============================] - 0s 2ms/step - loss: 18.0637 - mae: 18.0637\n",
      "Epoch 16/100\n",
      "2/2 [==============================] - 0s 3ms/step - loss: 7.3512 - mae: 7.3512\n",
      "Epoch 17/100\n",
      "2/2 [==============================] - 0s 3ms/step - loss: 10.8435 - mae: 10.8435\n",
      "Epoch 18/100\n",
      "2/2 [==============================] - 0s 3ms/step - loss: 19.4984 - mae: 19.4984\n",
      "Epoch 19/100\n",
      "2/2 [==============================] - 0s 3ms/step - loss: 10.3305 - mae: 10.3305\n",
      "Epoch 20/100\n",
      "2/2 [==============================] - 0s 3ms/step - loss: 17.6709 - mae: 17.6709\n",
      "Epoch 21/100\n",
      "2/2 [==============================] - 0s 3ms/step - loss: 15.8669 - mae: 15.8669\n",
      "Epoch 22/100\n",
      "2/2 [==============================] - 0s 4ms/step - loss: 14.1547 - mae: 14.1547\n",
      "Epoch 23/100\n",
      "2/2 [==============================] - 0s 3ms/step - loss: 8.7930 - mae: 8.7930\n",
      "Epoch 24/100\n",
      "2/2 [==============================] - 0s 2ms/step - loss: 11.0808 - mae: 11.0808\n",
      "Epoch 25/100\n",
      "2/2 [==============================] - 0s 2ms/step - loss: 12.7205 - mae: 12.7205\n",
      "Epoch 26/100\n",
      "2/2 [==============================] - 0s 1000us/step - loss: 26.3080 - mae: 26.3080\n",
      "Epoch 27/100\n",
      "2/2 [==============================] - 0s 2ms/step - loss: 12.4082 - mae: 12.4082\n",
      "Epoch 28/100\n",
      "2/2 [==============================] - 0s 3ms/step - loss: 26.2584 - mae: 26.2584\n",
      "Epoch 29/100\n",
      "2/2 [==============================] - 0s 2ms/step - loss: 9.2111 - mae: 9.2111\n",
      "Epoch 30/100\n",
      "2/2 [==============================] - 0s 2ms/step - loss: 27.6121 - mae: 27.6121\n",
      "Epoch 31/100\n",
      "2/2 [==============================] - 0s 2ms/step - loss: 49.8477 - mae: 49.8477\n",
      "Epoch 32/100\n",
      "2/2 [==============================] - 0s 3ms/step - loss: 11.0607 - mae: 11.0607\n",
      "Epoch 33/100\n",
      "2/2 [==============================] - 0s 2ms/step - loss: 17.8211 - mae: 17.8211\n",
      "Epoch 34/100\n",
      "2/2 [==============================] - 0s 2ms/step - loss: 10.8902 - mae: 10.8902\n",
      "Epoch 35/100\n",
      "2/2 [==============================] - 0s 2ms/step - loss: 9.1830 - mae: 9.1830\n",
      "Epoch 36/100\n",
      "2/2 [==============================] - 0s 2ms/step - loss: 16.4209 - mae: 16.4209\n",
      "Epoch 37/100\n",
      "2/2 [==============================] - 0s 2ms/step - loss: 11.1010 - mae: 11.1010\n",
      "Epoch 38/100\n",
      "2/2 [==============================] - 0s 2ms/step - loss: 18.2319 - mae: 18.2319\n",
      "Epoch 39/100\n",
      "2/2 [==============================] - 0s 2ms/step - loss: 19.1622 - mae: 19.1622\n",
      "Epoch 40/100\n",
      "2/2 [==============================] - 0s 2ms/step - loss: 20.5431 - mae: 20.5431\n",
      "Epoch 41/100\n",
      "2/2 [==============================] - 0s 2ms/step - loss: 14.7709 - mae: 14.7709\n",
      "Epoch 42/100\n",
      "2/2 [==============================] - 0s 2ms/step - loss: 12.1757 - mae: 12.1757\n",
      "Epoch 43/100\n",
      "2/2 [==============================] - 0s 3ms/step - loss: 10.6837 - mae: 10.6837\n",
      "Epoch 44/100\n",
      "2/2 [==============================] - 0s 2ms/step - loss: 32.1757 - mae: 32.1757\n",
      "Epoch 45/100\n",
      "2/2 [==============================] - 0s 2ms/step - loss: 12.4432 - mae: 12.4432\n",
      "Epoch 46/100\n",
      "2/2 [==============================] - 0s 2ms/step - loss: 17.4442 - mae: 17.4442\n",
      "Epoch 47/100\n",
      "2/2 [==============================] - 0s 3ms/step - loss: 15.7826 - mae: 15.7826\n",
      "Epoch 48/100\n",
      "2/2 [==============================] - 0s 2ms/step - loss: 8.3916 - mae: 8.3916\n",
      "Epoch 49/100\n",
      "2/2 [==============================] - 0s 2ms/step - loss: 14.2423 - mae: 14.2423\n",
      "Epoch 50/100\n",
      "2/2 [==============================] - 0s 2ms/step - loss: 15.1732 - mae: 15.1732\n",
      "Epoch 51/100\n",
      "2/2 [==============================] - 0s 3ms/step - loss: 13.6891 - mae: 13.6891\n",
      "Epoch 52/100\n",
      "2/2 [==============================] - 0s 3ms/step - loss: 18.1045 - mae: 18.1045\n",
      "Epoch 53/100\n",
      "2/2 [==============================] - 0s 4ms/step - loss: 22.7627 - mae: 22.7627\n",
      "Epoch 54/100\n",
      "2/2 [==============================] - 0s 2ms/step - loss: 26.8220 - mae: 26.8220\n",
      "Epoch 55/100\n",
      "2/2 [==============================] - 0s 3ms/step - loss: 26.4581 - mae: 26.4581\n",
      "Epoch 56/100\n",
      "2/2 [==============================] - 0s 3ms/step - loss: 11.3656 - mae: 11.3656\n",
      "Epoch 57/100\n",
      "2/2 [==============================] - 0s 2ms/step - loss: 13.3904 - mae: 13.3904\n",
      "Epoch 58/100\n",
      "2/2 [==============================] - 0s 2ms/step - loss: 9.9659 - mae: 9.9659\n",
      "Epoch 59/100\n",
      "2/2 [==============================] - 0s 3ms/step - loss: 13.9469 - mae: 13.9469\n",
      "Epoch 60/100\n",
      "2/2 [==============================] - 0s 2ms/step - loss: 10.0070 - mae: 10.0070\n",
      "Epoch 61/100\n",
      "2/2 [==============================] - 0s 2ms/step - loss: 15.0005 - mae: 15.0005\n",
      "Epoch 62/100\n",
      "2/2 [==============================] - 0s 2ms/step - loss: 11.9458 - mae: 11.9458\n",
      "Epoch 63/100\n",
      "2/2 [==============================] - 0s 3ms/step - loss: 10.2996 - mae: 10.2996\n",
      "Epoch 64/100\n",
      "2/2 [==============================] - 0s 2ms/step - loss: 23.9258 - mae: 23.9258\n",
      "Epoch 65/100\n",
      "2/2 [==============================] - 0s 999us/step - loss: 10.4761 - mae: 10.4761\n",
      "Epoch 66/100\n",
      "2/2 [==============================] - 0s 2ms/step - loss: 20.9654 - mae: 20.9654\n",
      "Epoch 67/100\n",
      "2/2 [==============================] - 0s 2ms/step - loss: 10.4551 - mae: 10.4551\n",
      "Epoch 68/100\n",
      "2/2 [==============================] - 0s 2ms/step - loss: 14.1984 - mae: 14.1984\n",
      "Epoch 69/100\n",
      "2/2 [==============================] - 0s 2ms/step - loss: 10.5269 - mae: 10.5269\n",
      "Epoch 70/100\n",
      "2/2 [==============================] - 0s 3ms/step - loss: 12.5990 - mae: 12.5990\n",
      "Epoch 71/100\n",
      "2/2 [==============================] - 0s 2ms/step - loss: 13.0272 - mae: 13.0272\n",
      "Epoch 72/100\n",
      "2/2 [==============================] - 0s 2ms/step - loss: 19.3811 - mae: 19.3811\n",
      "Epoch 73/100\n",
      "2/2 [==============================] - 0s 2ms/step - loss: 11.1371 - mae: 11.1371\n",
      "Epoch 74/100\n",
      "2/2 [==============================] - 0s 2ms/step - loss: 21.4664 - mae: 21.4664\n",
      "Epoch 75/100\n",
      "2/2 [==============================] - 0s 3ms/step - loss: 9.4684 - mae: 9.4684\n",
      "Epoch 76/100\n",
      "2/2 [==============================] - 0s 999us/step - loss: 12.2922 - mae: 12.2922\n",
      "Epoch 77/100\n",
      "2/2 [==============================] - 0s 3ms/step - loss: 16.3337 - mae: 16.3337\n",
      "Epoch 78/100\n",
      "2/2 [==============================] - 0s 2ms/step - loss: 9.0139 - mae: 9.0139\n",
      "Epoch 79/100\n",
      "2/2 [==============================] - 0s 2ms/step - loss: 23.5804 - mae: 23.5804\n",
      "Epoch 80/100\n",
      "2/2 [==============================] - 0s 2ms/step - loss: 26.2792 - mae: 26.2792\n",
      "Epoch 81/100\n",
      "2/2 [==============================] - 0s 2ms/step - loss: 11.4513 - mae: 11.4513\n",
      "Epoch 82/100\n",
      "2/2 [==============================] - 0s 2ms/step - loss: 12.4398 - mae: 12.4398\n",
      "Epoch 83/100\n",
      "2/2 [==============================] - 0s 2ms/step - loss: 17.1055 - mae: 17.1055\n",
      "Epoch 84/100\n",
      "2/2 [==============================] - 0s 2ms/step - loss: 7.2589 - mae: 7.2589\n",
      "Epoch 85/100\n",
      "2/2 [==============================] - 0s 2ms/step - loss: 37.1808 - mae: 37.1808\n",
      "Epoch 86/100\n",
      "2/2 [==============================] - 0s 2ms/step - loss: 21.1982 - mae: 21.1982\n",
      "Epoch 87/100\n",
      "2/2 [==============================] - 0s 2ms/step - loss: 11.0241 - mae: 11.0241\n",
      "Epoch 88/100\n",
      "2/2 [==============================] - 0s 2ms/step - loss: 25.0565 - mae: 25.0565\n",
      "Epoch 89/100\n",
      "2/2 [==============================] - 0s 3ms/step - loss: 9.3563 - mae: 9.3563\n",
      "Epoch 90/100\n",
      "2/2 [==============================] - 0s 2ms/step - loss: 17.3600 - mae: 17.3600\n",
      "Epoch 91/100\n",
      "2/2 [==============================] - 0s 2ms/step - loss: 10.7955 - mae: 10.7955\n",
      "Epoch 92/100\n",
      "2/2 [==============================] - 0s 3ms/step - loss: 19.0435 - mae: 19.0435\n",
      "Epoch 93/100\n",
      "2/2 [==============================] - 0s 1ms/step - loss: 8.3129 - mae: 8.3129\n",
      "Epoch 94/100\n",
      "2/2 [==============================] - 0s 999us/step - loss: 11.5516 - mae: 11.5516\n",
      "Epoch 95/100\n",
      "2/2 [==============================] - 0s 2ms/step - loss: 26.0682 - mae: 26.0682\n",
      "Epoch 96/100\n",
      "2/2 [==============================] - 0s 3ms/step - loss: 11.1785 - mae: 11.1785\n",
      "Epoch 97/100\n",
      "2/2 [==============================] - 0s 2ms/step - loss: 16.7508 - mae: 16.7508\n",
      "Epoch 98/100\n",
      "2/2 [==============================] - 0s 3ms/step - loss: 6.5919 - mae: 6.5919\n",
      "Epoch 99/100\n",
      "2/2 [==============================] - 0s 2ms/step - loss: 12.6136 - mae: 12.6136\n",
      "Epoch 100/100\n",
      "2/2 [==============================] - 0s 2ms/step - loss: 19.4379 - mae: 19.4379\n"
     ]
    },
    {
     "data": {
      "text/plain": [
       "<keras.callbacks.History at 0x125198eadc0>"
      ]
     },
     "execution_count": 100,
     "metadata": {},
     "output_type": "execute_result"
    }
   ],
   "source": [
    "# Set random seed\n",
    "tf.random.set_seed(42)\n",
    "\n",
    "# 1. Create the model\n",
    "model_2 = tf.keras.Sequential([\n",
    "  tf.keras.layers.Dense(10),\n",
    "  tf.keras.layers.Dense(1)\n",
    "])\n",
    "\n",
    "# 2. Compile the model\n",
    "model_2.compile(loss=tf.keras.losses.mae,\n",
    "                optimizer=tf.keras.optimizers.SGD(),\n",
    "                metrics=[\"mae\"]\n",
    "                )\n",
    "\n",
    "# 3. Fit the model\n",
    "model_2.fit(tf.expand_dims(X_train, axis=-1), y_train, epochs=100)"
   ]
  },
  {
   "cell_type": "code",
   "execution_count": 101,
   "metadata": {},
   "outputs": [
    {
     "name": "stdout",
     "output_type": "stream",
     "text": [
      "1/1 [==============================] - 0s 33ms/step\n"
     ]
    },
    {
     "data": {
      "image/png": "[encoded data removed]",
      "text/plain": [
       "<Figure size 1000x700 with 1 Axes>"
      ]
     },
     "metadata": {},
     "output_type": "display_data"
    }
   ],
   "source": [
    "# Make and plot predictions for model_2\n",
    "y_preds_2 = model_2.predict(X_test)\n",
    "plot_predictions(predictions=y_preds_2)"
   ]
  },
  {
   "cell_type": "code",
   "execution_count": 102,
   "metadata": {},
   "outputs": [
    {
     "data": {
      "text/plain": [
       "(<tf.Tensor: shape=(), dtype=float32, numpy=13.089638>,\n",
       " <tf.Tensor: shape=(), dtype=float32, numpy=181.20923>)"
      ]
     },
     "execution_count": 102,
     "metadata": {},
     "output_type": "execute_result"
    }
   ],
   "source": [
    "# Calculate model_2 evaluation metrics\n",
    "mae_2 = mae(y_test, tf.squeeze(y_preds_2))\n",
    "mse_2 = mse(y_test, tf.squeeze(y_preds_2))\n",
    "mae_2, mse_2"
   ]
  },
  {
   "cell_type": "markdown",
   "metadata": {},
   "source": [
    "**Build `model_3`**\n",
    "\n",
    "* 2 dense layers, trained for 500 epochs"
   ]
  },
  {
   "cell_type": "code",
   "execution_count": 103,
   "metadata": {},
   "outputs": [
    {
     "name": "stdout",
     "output_type": "stream",
     "text": [
      "Epoch 1/500\n",
      "2/2 [==============================] - 0s 5ms/step - loss: 22.6892 - mae: 22.6892\n",
      "Epoch 2/500\n",
      "2/2 [==============================] - 0s 2ms/step - loss: 22.2326 - mae: 22.2326\n",
      "Epoch 3/500\n",
      "2/2 [==============================] - 0s 3ms/step - loss: 28.4348 - mae: 28.4348\n",
      "Epoch 4/500\n",
      "2/2 [==============================] - 0s 2ms/step - loss: 27.1833 - mae: 27.1833\n",
      "Epoch 5/500\n",
      "2/2 [==============================] - 0s 2ms/step - loss: 14.8369 - mae: 14.8369\n",
      "Epoch 6/500\n",
      "2/2 [==============================] - 0s 2ms/step - loss: 11.7989 - mae: 11.7989\n",
      "Epoch 7/500\n",
      "2/2 [==============================] - 0s 3ms/step - loss: 11.1216 - mae: 11.1216\n",
      "Epoch 8/500\n",
      "2/2 [==============================] - 0s 2ms/step - loss: 11.0577 - mae: 11.0577\n",
      "Epoch 9/500\n",
      "2/2 [==============================] - 0s 3ms/step - loss: 40.1197 - mae: 40.1197\n",
      "Epoch 10/500\n",
      "2/2 [==============================] - 0s 2ms/step - loss: 27.5581 - mae: 27.5581\n",
      "Epoch 11/500\n",
      "2/2 [==============================] - 0s 4ms/step - loss: 10.2440 - mae: 10.2440\n",
      "Epoch 12/500\n",
      "2/2 [==============================] - 0s 3ms/step - loss: 25.3673 - mae: 25.3673\n",
      "Epoch 13/500\n",
      "2/2 [==============================] - 0s 5ms/step - loss: 16.8425 - mae: 16.8425\n",
      "Epoch 14/500\n",
      "2/2 [==============================] - 0s 3ms/step - loss: 25.6549 - mae: 25.6549\n",
      "Epoch 15/500\n",
      "2/2 [==============================] - 0s 3ms/step - loss: 17.5298 - mae: 17.5298\n",
      "Epoch 16/500\n",
      "2/2 [==============================] - 0s 3ms/step - loss: 10.0320 - mae: 10.0320\n",
      "Epoch 17/500\n",
      "2/2 [==============================] - 0s 2ms/step - loss: 18.5497 - mae: 18.5497\n",
      "Epoch 18/500\n",
      "2/2 [==============================] - 0s 2ms/step - loss: 11.3680 - mae: 11.3680\n",
      "Epoch 19/500\n",
      "2/2 [==============================] - 0s 3ms/step - loss: 13.9686 - mae: 13.9686\n",
      "Epoch 20/500\n",
      "2/2 [==============================] - 0s 2ms/step - loss: 11.2089 - mae: 11.2089\n",
      "Epoch 21/500\n",
      "2/2 [==============================] - 0s 2ms/step - loss: 17.2927 - mae: 17.2927\n",
      "Epoch 22/500\n",
      "2/2 [==============================] - 0s 2ms/step - loss: 15.5290 - mae: 15.5290\n",
      "Epoch 23/500\n",
      "2/2 [==============================] - 0s 3ms/step - loss: 9.2319 - mae: 9.2319\n",
      "Epoch 24/500\n",
      "2/2 [==============================] - 0s 2ms/step - loss: 17.2540 - mae: 17.2540\n",
      "Epoch 25/500\n",
      "2/2 [==============================] - 0s 2ms/step - loss: 15.9288 - mae: 15.9288\n",
      "Epoch 26/500\n",
      "2/2 [==============================] - 0s 2ms/step - loss: 20.9128 - mae: 20.9128\n",
      "Epoch 27/500\n",
      "2/2 [==============================] - 0s 2ms/step - loss: 26.0017 - mae: 26.0017\n",
      "Epoch 28/500\n",
      "2/2 [==============================] - 0s 2ms/step - loss: 18.4938 - mae: 18.4938\n",
      "Epoch 29/500\n",
      "2/2 [==============================] - 0s 2ms/step - loss: 9.2376 - mae: 9.2376\n",
      "Epoch 30/500\n",
      "2/2 [==============================] - 0s 2ms/step - loss: 29.1162 - mae: 29.1162\n",
      "Epoch 31/500\n",
      "2/2 [==============================] - 0s 2ms/step - loss: 52.7376 - mae: 52.7376\n",
      "Epoch 32/500\n",
      "2/2 [==============================] - 0s 2ms/step - loss: 11.9323 - mae: 11.9323\n",
      "Epoch 33/500\n",
      "2/2 [==============================] - 0s 2ms/step - loss: 15.5363 - mae: 15.5363\n",
      "Epoch 34/500\n",
      "2/2 [==============================] - 0s 2ms/step - loss: 12.6209 - mae: 12.6209\n",
      "Epoch 35/500\n",
      "2/2 [==============================] - 0s 2ms/step - loss: 9.2050 - mae: 9.2050\n",
      "Epoch 36/500\n",
      "2/2 [==============================] - 0s 2ms/step - loss: 16.5316 - mae: 16.5316\n",
      "Epoch 37/500\n",
      "2/2 [==============================] - 0s 2ms/step - loss: 11.0658 - mae: 11.0658\n",
      "Epoch 38/500\n",
      "2/2 [==============================] - 0s 2ms/step - loss: 18.1941 - mae: 18.1941\n",
      "Epoch 39/500\n",
      "2/2 [==============================] - 0s 1ms/step - loss: 19.1278 - mae: 19.1278\n",
      "Epoch 40/500\n",
      "2/2 [==============================] - 0s 2ms/step - loss: 20.4819 - mae: 20.4819\n",
      "Epoch 41/500\n",
      "2/2 [==============================] - 0s 2ms/step - loss: 14.8399 - mae: 14.8399\n",
      "Epoch 42/500\n",
      "2/2 [==============================] - 0s 3ms/step - loss: 12.2275 - mae: 12.2275\n",
      "Epoch 43/500\n",
      "2/2 [==============================] - 0s 2ms/step - loss: 10.7019 - mae: 10.7019\n",
      "Epoch 44/500\n",
      "2/2 [==============================] - 0s 1ms/step - loss: 32.3864 - mae: 32.3864\n",
      "Epoch 45/500\n",
      "2/2 [==============================] - 0s 3ms/step - loss: 12.4947 - mae: 12.4947\n",
      "Epoch 46/500\n",
      "2/2 [==============================] - 0s 2ms/step - loss: 17.6086 - mae: 17.6086\n",
      "Epoch 47/500\n",
      "2/2 [==============================] - 0s 2ms/step - loss: 15.7184 - mae: 15.7184\n",
      "Epoch 48/500\n",
      "2/2 [==============================] - 0s 2ms/step - loss: 8.3502 - mae: 8.3502\n",
      "Epoch 49/500\n",
      "2/2 [==============================] - 0s 3ms/step - loss: 13.9507 - mae: 13.9507\n",
      "Epoch 50/500\n",
      "2/2 [==============================] - 0s 3ms/step - loss: 12.7978 - mae: 12.7978\n",
      "Epoch 51/500\n",
      "2/2 [==============================] - 0s 2ms/step - loss: 14.8138 - mae: 14.8138\n",
      "Epoch 52/500\n",
      "2/2 [==============================] - 0s 3ms/step - loss: 18.7031 - mae: 18.7031\n",
      "Epoch 53/500\n",
      "2/2 [==============================] - 0s 2ms/step - loss: 24.1315 - mae: 24.1315\n",
      "Epoch 54/500\n",
      "2/2 [==============================] - 0s 999us/step - loss: 23.2652 - mae: 23.2652\n",
      "Epoch 55/500\n",
      "2/2 [==============================] - 0s 2ms/step - loss: 24.1311 - mae: 24.1311\n",
      "Epoch 56/500\n",
      "2/2 [==============================] - 0s 2ms/step - loss: 11.1868 - mae: 11.1868\n",
      "Epoch 57/500\n",
      "2/2 [==============================] - 0s 3ms/step - loss: 13.1538 - mae: 13.1538\n",
      "Epoch 58/500\n",
      "2/2 [==============================] - 0s 2ms/step - loss: 9.8300 - mae: 9.8300\n",
      "Epoch 59/500\n",
      "2/2 [==============================] - 0s 3ms/step - loss: 13.3486 - mae: 13.3486\n",
      "Epoch 60/500\n",
      "2/2 [==============================] - 0s 3ms/step - loss: 10.8930 - mae: 10.8930\n",
      "Epoch 61/500\n",
      "2/2 [==============================] - 0s 4ms/step - loss: 13.5087 - mae: 13.5087\n",
      "Epoch 62/500\n",
      "2/2 [==============================] - 0s 4ms/step - loss: 17.5785 - mae: 17.5785\n",
      "Epoch 63/500\n",
      "2/2 [==============================] - 0s 2ms/step - loss: 9.1723 - mae: 9.1723\n",
      "Epoch 64/500\n",
      "2/2 [==============================] - 0s 3ms/step - loss: 18.4498 - mae: 18.4498\n",
      "Epoch 65/500\n",
      "2/2 [==============================] - 0s 2ms/step - loss: 10.1284 - mae: 10.1284\n",
      "Epoch 66/500\n",
      "2/2 [==============================] - 0s 999us/step - loss: 24.3337 - mae: 24.3337\n",
      "Epoch 67/500\n",
      "2/2 [==============================] - 0s 2ms/step - loss: 10.9084 - mae: 10.9084\n",
      "Epoch 68/500\n",
      "2/2 [==============================] - 0s 2ms/step - loss: 10.7840 - mae: 10.7840\n",
      "Epoch 69/500\n",
      "2/2 [==============================] - 0s 1ms/step - loss: 23.3323 - mae: 23.3323\n",
      "Epoch 70/500\n",
      "2/2 [==============================] - 0s 1ms/step - loss: 8.7985 - mae: 8.7985\n",
      "Epoch 71/500\n",
      "2/2 [==============================] - 0s 2ms/step - loss: 15.9519 - mae: 15.9519\n",
      "Epoch 72/500\n",
      "2/2 [==============================] - 0s 2ms/step - loss: 8.1228 - mae: 8.1228\n",
      "Epoch 73/500\n",
      "2/2 [==============================] - 0s 2ms/step - loss: 9.4582 - mae: 9.4582\n",
      "Epoch 74/500\n",
      "2/2 [==============================] - 0s 2ms/step - loss: 28.1336 - mae: 28.1336\n",
      "Epoch 75/500\n",
      "2/2 [==============================] - 0s 2ms/step - loss: 10.2164 - mae: 10.2164\n",
      "Epoch 76/500\n",
      "2/2 [==============================] - 0s 2ms/step - loss: 13.1711 - mae: 13.1711\n",
      "Epoch 77/500\n",
      "2/2 [==============================] - 0s 2ms/step - loss: 18.4528 - mae: 18.4528\n",
      "Epoch 78/500\n",
      "2/2 [==============================] - 0s 2ms/step - loss: 9.0199 - mae: 9.0199\n",
      "Epoch 79/500\n",
      "2/2 [==============================] - 0s 2ms/step - loss: 23.5105 - mae: 23.5105\n",
      "Epoch 80/500\n",
      "2/2 [==============================] - 0s 2ms/step - loss: 26.1957 - mae: 26.1957\n",
      "Epoch 81/500\n",
      "2/2 [==============================] - 0s 2ms/step - loss: 11.4246 - mae: 11.4246\n",
      "Epoch 82/500\n",
      "2/2 [==============================] - 0s 2ms/step - loss: 12.4696 - mae: 12.4696\n",
      "Epoch 83/500\n",
      "2/2 [==============================] - 0s 2ms/step - loss: 17.1478 - mae: 17.1478\n",
      "Epoch 84/500\n",
      "2/2 [==============================] - 0s 3ms/step - loss: 6.5795 - mae: 6.5795\n",
      "Epoch 85/500\n",
      "2/2 [==============================] - 0s 2ms/step - loss: 20.3670 - mae: 20.3670\n",
      "Epoch 86/500\n",
      "2/2 [==============================] - 0s 3ms/step - loss: 10.1775 - mae: 10.1775\n",
      "Epoch 87/500\n",
      "2/2 [==============================] - 0s 2ms/step - loss: 24.4176 - mae: 24.4176\n",
      "Epoch 88/500\n",
      "2/2 [==============================] - 0s 2ms/step - loss: 19.0795 - mae: 19.0795\n",
      "Epoch 89/500\n",
      "2/2 [==============================] - 0s 1000us/step - loss: 7.1606 - mae: 7.1606\n",
      "Epoch 90/500\n",
      "2/2 [==============================] - 0s 2ms/step - loss: 18.2320 - mae: 18.2320\n",
      "Epoch 91/500\n",
      "2/2 [==============================] - 0s 2ms/step - loss: 13.2815 - mae: 13.2815\n",
      "Epoch 92/500\n",
      "2/2 [==============================] - 0s 2ms/step - loss: 14.8237 - mae: 14.8237\n",
      "Epoch 93/500\n",
      "2/2 [==============================] - 0s 3ms/step - loss: 11.6248 - mae: 11.6248\n",
      "Epoch 94/500\n",
      "2/2 [==============================] - 0s 2ms/step - loss: 16.1799 - mae: 16.1799\n",
      "Epoch 95/500\n",
      "2/2 [==============================] - 0s 3ms/step - loss: 15.5223 - mae: 15.5223\n",
      "Epoch 96/500\n",
      "2/2 [==============================] - 0s 2ms/step - loss: 15.0524 - mae: 15.0524\n",
      "Epoch 97/500\n",
      "2/2 [==============================] - 0s 3ms/step - loss: 10.8845 - mae: 10.8845\n",
      "Epoch 98/500\n",
      "2/2 [==============================] - 0s 2ms/step - loss: 14.3431 - mae: 14.3431\n",
      "Epoch 99/500\n",
      "2/2 [==============================] - 0s 2ms/step - loss: 13.3677 - mae: 13.3677\n",
      "Epoch 100/500\n",
      "2/2 [==============================] - 0s 998us/step - loss: 19.9720 - mae: 19.9720\n",
      "Epoch 101/500\n",
      "2/2 [==============================] - 0s 2ms/step - loss: 22.5749 - mae: 22.5749\n",
      "Epoch 102/500\n",
      "2/2 [==============================] - 0s 2ms/step - loss: 11.2968 - mae: 11.2968\n",
      "Epoch 103/500\n",
      "2/2 [==============================] - 0s 2ms/step - loss: 9.3649 - mae: 9.3649\n",
      "Epoch 104/500\n",
      "2/2 [==============================] - 0s 2ms/step - loss: 25.2064 - mae: 25.2064\n",
      "Epoch 105/500\n",
      "2/2 [==============================] - 0s 2ms/step - loss: 12.4412 - mae: 12.4412\n",
      "Epoch 106/500\n",
      "2/2 [==============================] - 0s 1ms/step - loss: 9.4023 - mae: 9.4023\n",
      "Epoch 107/500\n",
      "2/2 [==============================] - 0s 997us/step - loss: 23.2218 - mae: 23.2218\n",
      "Epoch 108/500\n",
      "2/2 [==============================] - 0s 3ms/step - loss: 8.2803 - mae: 8.2803\n",
      "Epoch 109/500\n",
      "2/2 [==============================] - 0s 2ms/step - loss: 14.0426 - mae: 14.0426\n",
      "Epoch 110/500\n",
      "2/2 [==============================] - 0s 2ms/step - loss: 10.6254 - mae: 10.6254\n",
      "Epoch 111/500\n",
      "2/2 [==============================] - 0s 2ms/step - loss: 16.9417 - mae: 16.9417\n",
      "Epoch 112/500\n",
      "2/2 [==============================] - 0s 3ms/step - loss: 8.2712 - mae: 8.2712\n",
      "Epoch 113/500\n",
      "2/2 [==============================] - 0s 3ms/step - loss: 19.6897 - mae: 19.6897\n",
      "Epoch 114/500\n",
      "2/2 [==============================] - 0s 2ms/step - loss: 17.3957 - mae: 17.3957\n",
      "Epoch 115/500\n",
      "2/2 [==============================] - 0s 3ms/step - loss: 11.2322 - mae: 11.2322\n",
      "Epoch 116/500\n",
      "2/2 [==============================] - 0s 3ms/step - loss: 23.5641 - mae: 23.5641\n",
      "Epoch 117/500\n",
      "2/2 [==============================] - 0s 2ms/step - loss: 9.7314 - mae: 9.7314\n",
      "Epoch 118/500\n",
      "2/2 [==============================] - 0s 2ms/step - loss: 10.8112 - mae: 10.8112\n",
      "Epoch 119/500\n",
      "2/2 [==============================] - 0s 3ms/step - loss: 8.0915 - mae: 8.0915\n",
      "Epoch 120/500\n",
      "2/2 [==============================] - 0s 2ms/step - loss: 29.9045 - mae: 29.9045\n",
      "Epoch 121/500\n",
      "2/2 [==============================] - 0s 2ms/step - loss: 8.1212 - mae: 8.1212\n",
      "Epoch 122/500\n",
      "2/2 [==============================] - 0s 2ms/step - loss: 28.4668 - mae: 28.4668\n",
      "Epoch 123/500\n",
      "2/2 [==============================] - 0s 2ms/step - loss: 33.0935 - mae: 33.0935\n",
      "Epoch 124/500\n",
      "2/2 [==============================] - 0s 2ms/step - loss: 19.7848 - mae: 19.7848\n",
      "Epoch 125/500\n",
      "2/2 [==============================] - 0s 2ms/step - loss: 7.6892 - mae: 7.6892\n",
      "Epoch 126/500\n",
      "2/2 [==============================] - 0s 2ms/step - loss: 17.0488 - mae: 17.0488\n",
      "Epoch 127/500\n",
      "2/2 [==============================] - 0s 2ms/step - loss: 7.5138 - mae: 7.5138\n",
      "Epoch 128/500\n",
      "2/2 [==============================] - 0s 2ms/step - loss: 17.7954 - mae: 17.7954\n",
      "Epoch 129/500\n",
      "2/2 [==============================] - 0s 1ms/step - loss: 10.1531 - mae: 10.1531\n",
      "Epoch 130/500\n",
      "2/2 [==============================] - 0s 2ms/step - loss: 17.3788 - mae: 17.3788\n",
      "Epoch 131/500\n",
      "2/2 [==============================] - 0s 2ms/step - loss: 9.4889 - mae: 9.4889\n",
      "Epoch 132/500\n",
      "2/2 [==============================] - 0s 2ms/step - loss: 17.2499 - mae: 17.2499\n",
      "Epoch 133/500\n",
      "2/2 [==============================] - 0s 2ms/step - loss: 7.9403 - mae: 7.9403\n",
      "Epoch 134/500\n",
      "2/2 [==============================] - 0s 2ms/step - loss: 22.3808 - mae: 22.3808\n",
      "Epoch 135/500\n",
      "2/2 [==============================] - 0s 2ms/step - loss: 20.1164 - mae: 20.1164\n",
      "Epoch 136/500\n",
      "2/2 [==============================] - 0s 3ms/step - loss: 14.4224 - mae: 14.4224\n",
      "Epoch 137/500\n",
      "2/2 [==============================] - 0s 5ms/step - loss: 22.3245 - mae: 22.3245\n",
      "Epoch 138/500\n",
      "2/2 [==============================] - 0s 3ms/step - loss: 8.8282 - mae: 8.8282\n",
      "Epoch 139/500\n",
      "2/2 [==============================] - 0s 3ms/step - loss: 6.3946 - mae: 6.3946\n",
      "Epoch 140/500\n",
      "2/2 [==============================] - 0s 3ms/step - loss: 26.5254 - mae: 26.5254\n",
      "Epoch 141/500\n",
      "2/2 [==============================] - 0s 3ms/step - loss: 12.5008 - mae: 12.5008\n",
      "Epoch 142/500\n",
      "2/2 [==============================] - 0s 3ms/step - loss: 21.6750 - mae: 21.6750\n",
      "Epoch 143/500\n",
      "2/2 [==============================] - 0s 2ms/step - loss: 14.5853 - mae: 14.5853\n",
      "Epoch 144/500\n",
      "2/2 [==============================] - 0s 3ms/step - loss: 11.4215 - mae: 11.4215\n",
      "Epoch 145/500\n",
      "2/2 [==============================] - 0s 3ms/step - loss: 25.2995 - mae: 25.2995\n",
      "Epoch 146/500\n",
      "2/2 [==============================] - 0s 2ms/step - loss: 10.7575 - mae: 10.7575\n",
      "Epoch 147/500\n",
      "2/2 [==============================] - 0s 2ms/step - loss: 14.2962 - mae: 14.2962\n",
      "Epoch 148/500\n",
      "2/2 [==============================] - 0s 2ms/step - loss: 17.2319 - mae: 17.2319\n",
      "Epoch 149/500\n",
      "2/2 [==============================] - 0s 3ms/step - loss: 8.9898 - mae: 8.9898\n",
      "Epoch 150/500\n",
      "2/2 [==============================] - 0s 3ms/step - loss: 7.8271 - mae: 7.8271\n",
      "Epoch 151/500\n",
      "2/2 [==============================] - 0s 2ms/step - loss: 20.4324 - mae: 20.4324\n",
      "Epoch 152/500\n",
      "2/2 [==============================] - 0s 3ms/step - loss: 10.3842 - mae: 10.3842\n",
      "Epoch 153/500\n",
      "2/2 [==============================] - 0s 2ms/step - loss: 30.0200 - mae: 30.0200\n",
      "Epoch 154/500\n",
      "2/2 [==============================] - 0s 3ms/step - loss: 10.5027 - mae: 10.5027\n",
      "Epoch 155/500\n",
      "2/2 [==============================] - 0s 3ms/step - loss: 15.4039 - mae: 15.4039\n",
      "Epoch 156/500\n",
      "2/2 [==============================] - 0s 2ms/step - loss: 16.8930 - mae: 16.8930\n",
      "Epoch 157/500\n",
      "2/2 [==============================] - 0s 3ms/step - loss: 33.1615 - mae: 33.1615\n",
      "Epoch 158/500\n",
      "2/2 [==============================] - 0s 3ms/step - loss: 10.8383 - mae: 10.8383\n",
      "Epoch 159/500\n",
      "2/2 [==============================] - 0s 2ms/step - loss: 8.9791 - mae: 8.9791\n",
      "Epoch 160/500\n",
      "2/2 [==============================] - 0s 3ms/step - loss: 22.3570 - mae: 22.3570\n",
      "Epoch 161/500\n",
      "2/2 [==============================] - 0s 2ms/step - loss: 11.8199 - mae: 11.8199\n",
      "Epoch 162/500\n",
      "2/2 [==============================] - 0s 2ms/step - loss: 21.7701 - mae: 21.7701\n",
      "Epoch 163/500\n",
      "2/2 [==============================] - 0s 2ms/step - loss: 19.4393 - mae: 19.4393\n",
      "Epoch 164/500\n",
      "2/2 [==============================] - 0s 2ms/step - loss: 11.3583 - mae: 11.3583\n",
      "Epoch 165/500\n",
      "2/2 [==============================] - 0s 2ms/step - loss: 11.6287 - mae: 11.6287\n",
      "Epoch 166/500\n",
      "2/2 [==============================] - 0s 2ms/step - loss: 21.3971 - mae: 21.3971\n",
      "Epoch 167/500\n",
      "2/2 [==============================] - 0s 3ms/step - loss: 26.7790 - mae: 26.7790\n",
      "Epoch 168/500\n",
      "2/2 [==============================] - 0s 2ms/step - loss: 9.9833 - mae: 9.9833\n",
      "Epoch 169/500\n",
      "2/2 [==============================] - 0s 2ms/step - loss: 23.0280 - mae: 23.0280\n",
      "Epoch 170/500\n",
      "2/2 [==============================] - 0s 2ms/step - loss: 10.0937 - mae: 10.0937\n",
      "Epoch 171/500\n",
      "2/2 [==============================] - 0s 2ms/step - loss: 17.8573 - mae: 17.8573\n",
      "Epoch 172/500\n",
      "2/2 [==============================] - 0s 2ms/step - loss: 29.2969 - mae: 29.2969\n",
      "Epoch 173/500\n",
      "2/2 [==============================] - 0s 2ms/step - loss: 16.9022 - mae: 16.9022\n",
      "Epoch 174/500\n",
      "2/2 [==============================] - 0s 3ms/step - loss: 11.1879 - mae: 11.1879\n",
      "Epoch 175/500\n",
      "2/2 [==============================] - 0s 2ms/step - loss: 27.4693 - mae: 27.4693\n",
      "Epoch 176/500\n",
      "2/2 [==============================] - 0s 2ms/step - loss: 8.4266 - mae: 8.4266\n",
      "Epoch 177/500\n",
      "2/2 [==============================] - 0s 2ms/step - loss: 9.3871 - mae: 9.3871\n",
      "Epoch 178/500\n",
      "2/2 [==============================] - 0s 3ms/step - loss: 18.5055 - mae: 18.5055\n",
      "Epoch 179/500\n",
      "2/2 [==============================] - 0s 2ms/step - loss: 10.4465 - mae: 10.4465\n",
      "Epoch 180/500\n",
      "2/2 [==============================] - 0s 2ms/step - loss: 7.9921 - mae: 7.9921\n",
      "Epoch 181/500\n",
      "2/2 [==============================] - 0s 3ms/step - loss: 17.6900 - mae: 17.6900\n",
      "Epoch 182/500\n",
      "2/2 [==============================] - 0s 2ms/step - loss: 11.1704 - mae: 11.1704\n",
      "Epoch 183/500\n",
      "2/2 [==============================] - 0s 2ms/step - loss: 12.3546 - mae: 12.3546\n",
      "Epoch 184/500\n",
      "2/2 [==============================] - 0s 3ms/step - loss: 27.2425 - mae: 27.2425\n",
      "Epoch 185/500\n",
      "2/2 [==============================] - 0s 2ms/step - loss: 7.5860 - mae: 7.5860\n",
      "Epoch 186/500\n",
      "2/2 [==============================] - 0s 2ms/step - loss: 15.9964 - mae: 15.9964\n",
      "Epoch 187/500\n",
      "2/2 [==============================] - 0s 2ms/step - loss: 8.5927 - mae: 8.5927\n",
      "Epoch 188/500\n",
      "2/2 [==============================] - 0s 3ms/step - loss: 28.7205 - mae: 28.7205\n",
      "Epoch 189/500\n",
      "2/2 [==============================] - 0s 3ms/step - loss: 13.1838 - mae: 13.1838\n",
      "Epoch 190/500\n",
      "2/2 [==============================] - 0s 2ms/step - loss: 18.3281 - mae: 18.3281\n",
      "Epoch 191/500\n",
      "2/2 [==============================] - 0s 3ms/step - loss: 13.7597 - mae: 13.7597\n",
      "Epoch 192/500\n",
      "2/2 [==============================] - 0s 2ms/step - loss: 13.7315 - mae: 13.7315\n",
      "Epoch 193/500\n",
      "2/2 [==============================] - 0s 3ms/step - loss: 28.5996 - mae: 28.5996\n",
      "Epoch 194/500\n",
      "2/2 [==============================] - 0s 2ms/step - loss: 7.0816 - mae: 7.0816\n",
      "Epoch 195/500\n",
      "2/2 [==============================] - 0s 2ms/step - loss: 7.0842 - mae: 7.0842\n",
      "Epoch 196/500\n",
      "2/2 [==============================] - 0s 2ms/step - loss: 22.0470 - mae: 22.0470\n",
      "Epoch 197/500\n",
      "2/2 [==============================] - 0s 2ms/step - loss: 20.7664 - mae: 20.7664\n",
      "Epoch 198/500\n",
      "2/2 [==============================] - 0s 2ms/step - loss: 12.4356 - mae: 12.4356\n",
      "Epoch 199/500\n",
      "2/2 [==============================] - 0s 2ms/step - loss: 17.8407 - mae: 17.8407\n",
      "Epoch 200/500\n",
      "2/2 [==============================] - 0s 2ms/step - loss: 13.6871 - mae: 13.6871\n",
      "Epoch 201/500\n",
      "2/2 [==============================] - 0s 3ms/step - loss: 5.5063 - mae: 5.5063\n",
      "Epoch 202/500\n",
      "2/2 [==============================] - 0s 3ms/step - loss: 13.6378 - mae: 13.6378\n",
      "Epoch 203/500\n",
      "2/2 [==============================] - 0s 2ms/step - loss: 9.4193 - mae: 9.4193\n",
      "Epoch 204/500\n",
      "2/2 [==============================] - 0s 2ms/step - loss: 20.8455 - mae: 20.8455\n",
      "Epoch 205/500\n",
      "2/2 [==============================] - 0s 3ms/step - loss: 9.5308 - mae: 9.5308\n",
      "Epoch 206/500\n",
      "2/2 [==============================] - 0s 1ms/step - loss: 11.1709 - mae: 11.1709\n",
      "Epoch 207/500\n",
      "2/2 [==============================] - 0s 3ms/step - loss: 17.7296 - mae: 17.7296\n",
      "Epoch 208/500\n",
      "2/2 [==============================] - 0s 2ms/step - loss: 14.4210 - mae: 14.4210\n",
      "Epoch 209/500\n",
      "2/2 [==============================] - 0s 2ms/step - loss: 16.7530 - mae: 16.7530\n",
      "Epoch 210/500\n",
      "2/2 [==============================] - 0s 2ms/step - loss: 18.2766 - mae: 18.2766\n",
      "Epoch 211/500\n",
      "2/2 [==============================] - 0s 2ms/step - loss: 9.9771 - mae: 9.9771\n",
      "Epoch 212/500\n",
      "2/2 [==============================] - 0s 2ms/step - loss: 18.7629 - mae: 18.7629\n",
      "Epoch 213/500\n",
      "2/2 [==============================] - 0s 3ms/step - loss: 14.9362 - mae: 14.9362\n",
      "Epoch 214/500\n",
      "2/2 [==============================] - 0s 3ms/step - loss: 14.5245 - mae: 14.5245\n",
      "Epoch 215/500\n",
      "2/2 [==============================] - 0s 3ms/step - loss: 23.1632 - mae: 23.1632\n",
      "Epoch 216/500\n",
      "2/2 [==============================] - 0s 2ms/step - loss: 13.6115 - mae: 13.6115\n",
      "Epoch 217/500\n",
      "2/2 [==============================] - 0s 4ms/step - loss: 10.0748 - mae: 10.0748\n",
      "Epoch 218/500\n",
      "2/2 [==============================] - 0s 2ms/step - loss: 12.4097 - mae: 12.4097\n",
      "Epoch 219/500\n",
      "2/2 [==============================] - 0s 2ms/step - loss: 5.8690 - mae: 5.8690\n",
      "Epoch 220/500\n",
      "2/2 [==============================] - 0s 2ms/step - loss: 10.2085 - mae: 10.2085\n",
      "Epoch 221/500\n",
      "2/2 [==============================] - 0s 2ms/step - loss: 28.9030 - mae: 28.9030\n",
      "Epoch 222/500\n",
      "2/2 [==============================] - 0s 2ms/step - loss: 28.0971 - mae: 28.0971\n",
      "Epoch 223/500\n",
      "2/2 [==============================] - 0s 2ms/step - loss: 10.0718 - mae: 10.0718\n",
      "Epoch 224/500\n",
      "2/2 [==============================] - 0s 2ms/step - loss: 14.6207 - mae: 14.6207\n",
      "Epoch 225/500\n",
      "2/2 [==============================] - 0s 2ms/step - loss: 16.6360 - mae: 16.6360\n",
      "Epoch 226/500\n",
      "2/2 [==============================] - 0s 2ms/step - loss: 15.8583 - mae: 15.8583\n",
      "Epoch 227/500\n",
      "2/2 [==============================] - 0s 2ms/step - loss: 16.0765 - mae: 16.0765\n",
      "Epoch 228/500\n",
      "2/2 [==============================] - 0s 3ms/step - loss: 13.8567 - mae: 13.8567\n",
      "Epoch 229/500\n",
      "2/2 [==============================] - 0s 2ms/step - loss: 17.9741 - mae: 17.9741\n",
      "Epoch 230/500\n",
      "2/2 [==============================] - 0s 3ms/step - loss: 15.5694 - mae: 15.5694\n",
      "Epoch 231/500\n",
      "2/2 [==============================] - 0s 2ms/step - loss: 21.0869 - mae: 21.0869\n",
      "Epoch 232/500\n",
      "2/2 [==============================] - 0s 2ms/step - loss: 25.5382 - mae: 25.5382\n",
      "Epoch 233/500\n",
      "2/2 [==============================] - 0s 2ms/step - loss: 16.5312 - mae: 16.5312\n",
      "Epoch 234/500\n",
      "2/2 [==============================] - 0s 2ms/step - loss: 7.3637 - mae: 7.3637\n",
      "Epoch 235/500\n",
      "2/2 [==============================] - 0s 2ms/step - loss: 17.1717 - mae: 17.1717\n",
      "Epoch 236/500\n",
      "2/2 [==============================] - 0s 2ms/step - loss: 7.2267 - mae: 7.2267\n",
      "Epoch 237/500\n",
      "2/2 [==============================] - 0s 2ms/step - loss: 9.3290 - mae: 9.3290\n",
      "Epoch 238/500\n",
      "2/2 [==============================] - 0s 2ms/step - loss: 8.1806 - mae: 8.1806\n",
      "Epoch 239/500\n",
      "2/2 [==============================] - 0s 2ms/step - loss: 17.1951 - mae: 17.1951\n",
      "Epoch 240/500\n",
      "2/2 [==============================] - 0s 2ms/step - loss: 8.9566 - mae: 8.9566\n",
      "Epoch 241/500\n",
      "2/2 [==============================] - 0s 3ms/step - loss: 13.2815 - mae: 13.2815\n",
      "Epoch 242/500\n",
      "2/2 [==============================] - 0s 2ms/step - loss: 8.8643 - mae: 8.8643\n",
      "Epoch 243/500\n",
      "2/2 [==============================] - 0s 3ms/step - loss: 18.9343 - mae: 18.9343\n",
      "Epoch 244/500\n",
      "2/2 [==============================] - 0s 3ms/step - loss: 14.0396 - mae: 14.0396\n",
      "Epoch 245/500\n",
      "2/2 [==============================] - 0s 2ms/step - loss: 14.6696 - mae: 14.6696\n",
      "Epoch 246/500\n",
      "2/2 [==============================] - 0s 2ms/step - loss: 15.8026 - mae: 15.8026\n",
      "Epoch 247/500\n",
      "2/2 [==============================] - 0s 2ms/step - loss: 17.6776 - mae: 17.6776\n",
      "Epoch 248/500\n",
      "2/2 [==============================] - 0s 2ms/step - loss: 13.2351 - mae: 13.2351\n",
      "Epoch 249/500\n",
      "2/2 [==============================] - 0s 2ms/step - loss: 14.5152 - mae: 14.5152\n",
      "Epoch 250/500\n",
      "2/2 [==============================] - 0s 2ms/step - loss: 23.2315 - mae: 23.2315\n",
      "Epoch 251/500\n",
      "2/2 [==============================] - 0s 3ms/step - loss: 9.3396 - mae: 9.3396\n",
      "Epoch 252/500\n",
      "2/2 [==============================] - 0s 2ms/step - loss: 36.6622 - mae: 36.6622\n",
      "Epoch 253/500\n",
      "2/2 [==============================] - 0s 3ms/step - loss: 21.8361 - mae: 21.8361\n",
      "Epoch 254/500\n",
      "2/2 [==============================] - 0s 2ms/step - loss: 7.3190 - mae: 7.3190\n",
      "Epoch 255/500\n",
      "2/2 [==============================] - 0s 2ms/step - loss: 24.7043 - mae: 24.7043\n",
      "Epoch 256/500\n",
      "2/2 [==============================] - 0s 2ms/step - loss: 12.4454 - mae: 12.4454\n",
      "Epoch 257/500\n",
      "2/2 [==============================] - 0s 3ms/step - loss: 10.6048 - mae: 10.6048\n",
      "Epoch 258/500\n",
      "2/2 [==============================] - 0s 6ms/step - loss: 14.2254 - mae: 14.2254\n",
      "Epoch 259/500\n",
      "2/2 [==============================] - 0s 4ms/step - loss: 11.2783 - mae: 11.2783\n",
      "Epoch 260/500\n",
      "2/2 [==============================] - 0s 3ms/step - loss: 31.6425 - mae: 31.6425\n",
      "Epoch 261/500\n",
      "2/2 [==============================] - 0s 3ms/step - loss: 11.2060 - mae: 11.2060\n",
      "Epoch 262/500\n",
      "2/2 [==============================] - 0s 3ms/step - loss: 10.0580 - mae: 10.0580\n",
      "Epoch 263/500\n",
      "2/2 [==============================] - 0s 3ms/step - loss: 8.9655 - mae: 8.9655\n",
      "Epoch 264/500\n",
      "2/2 [==============================] - 0s 2ms/step - loss: 21.5199 - mae: 21.5199\n",
      "Epoch 265/500\n",
      "2/2 [==============================] - 0s 2ms/step - loss: 11.4445 - mae: 11.4445\n",
      "Epoch 266/500\n",
      "2/2 [==============================] - 0s 3ms/step - loss: 13.2821 - mae: 13.2821\n",
      "Epoch 267/500\n",
      "2/2 [==============================] - 0s 3ms/step - loss: 11.0798 - mae: 11.0798\n",
      "Epoch 268/500\n",
      "2/2 [==============================] - 0s 2ms/step - loss: 19.1459 - mae: 19.1459\n",
      "Epoch 269/500\n",
      "2/2 [==============================] - 0s 2ms/step - loss: 40.7418 - mae: 40.7418\n",
      "Epoch 270/500\n",
      "2/2 [==============================] - 0s 2ms/step - loss: 12.9506 - mae: 12.9506\n",
      "Epoch 271/500\n",
      "2/2 [==============================] - 0s 3ms/step - loss: 14.7611 - mae: 14.7611\n",
      "Epoch 272/500\n",
      "2/2 [==============================] - 0s 2ms/step - loss: 28.5026 - mae: 28.5026\n",
      "Epoch 273/500\n",
      "2/2 [==============================] - 0s 2ms/step - loss: 7.3837 - mae: 7.3837\n",
      "Epoch 274/500\n",
      "2/2 [==============================] - 0s 2ms/step - loss: 6.3603 - mae: 6.3603\n",
      "Epoch 275/500\n",
      "2/2 [==============================] - 0s 2ms/step - loss: 36.9496 - mae: 36.9496\n",
      "Epoch 276/500\n",
      "2/2 [==============================] - 0s 2ms/step - loss: 8.2988 - mae: 8.2988\n",
      "Epoch 277/500\n",
      "2/2 [==============================] - 0s 2ms/step - loss: 27.7626 - mae: 27.7626\n",
      "Epoch 278/500\n",
      "2/2 [==============================] - 0s 2ms/step - loss: 10.6705 - mae: 10.6705\n",
      "Epoch 279/500\n",
      "2/2 [==============================] - 0s 2ms/step - loss: 16.1022 - mae: 16.1022\n",
      "Epoch 280/500\n",
      "2/2 [==============================] - 0s 2ms/step - loss: 21.2177 - mae: 21.2177\n",
      "Epoch 281/500\n",
      "2/2 [==============================] - 0s 2ms/step - loss: 23.8362 - mae: 23.8362\n",
      "Epoch 282/500\n",
      "2/2 [==============================] - 0s 2ms/step - loss: 8.2793 - mae: 8.2793\n",
      "Epoch 283/500\n",
      "2/2 [==============================] - 0s 2ms/step - loss: 8.4544 - mae: 8.4544\n",
      "Epoch 284/500\n",
      "2/2 [==============================] - 0s 2ms/step - loss: 26.6762 - mae: 26.6762\n",
      "Epoch 285/500\n",
      "2/2 [==============================] - 0s 2ms/step - loss: 14.2671 - mae: 14.2671\n",
      "Epoch 286/500\n",
      "2/2 [==============================] - 0s 999us/step - loss: 5.2663 - mae: 5.2663\n",
      "Epoch 287/500\n",
      "2/2 [==============================] - 0s 2ms/step - loss: 20.7972 - mae: 20.7972\n",
      "Epoch 288/500\n",
      "2/2 [==============================] - 0s 2ms/step - loss: 27.6749 - mae: 27.6749\n",
      "Epoch 289/500\n",
      "2/2 [==============================] - 0s 3ms/step - loss: 10.4198 - mae: 10.4198\n",
      "Epoch 290/500\n",
      "2/2 [==============================] - 0s 2ms/step - loss: 16.2927 - mae: 16.2927\n",
      "Epoch 291/500\n",
      "2/2 [==============================] - 0s 1ms/step - loss: 16.4752 - mae: 16.4752\n",
      "Epoch 292/500\n",
      "2/2 [==============================] - 0s 3ms/step - loss: 7.4229 - mae: 7.4229\n",
      "Epoch 293/500\n",
      "2/2 [==============================] - 0s 2ms/step - loss: 16.5367 - mae: 16.5367\n",
      "Epoch 294/500\n",
      "2/2 [==============================] - 0s 2ms/step - loss: 25.3125 - mae: 25.3125\n",
      "Epoch 295/500\n",
      "2/2 [==============================] - 0s 2ms/step - loss: 14.6281 - mae: 14.6281\n",
      "Epoch 296/500\n",
      "2/2 [==============================] - 0s 1ms/step - loss: 4.5174 - mae: 4.5174\n",
      "Epoch 297/500\n",
      "2/2 [==============================] - 0s 2ms/step - loss: 9.6862 - mae: 9.6862\n",
      "Epoch 298/500\n",
      "2/2 [==============================] - 0s 2ms/step - loss: 23.8179 - mae: 23.8179\n",
      "Epoch 299/500\n",
      "2/2 [==============================] - 0s 2ms/step - loss: 18.9305 - mae: 18.9305\n",
      "Epoch 300/500\n",
      "2/2 [==============================] - 0s 2ms/step - loss: 8.7789 - mae: 8.7789\n",
      "Epoch 301/500\n",
      "2/2 [==============================] - 0s 2ms/step - loss: 15.8057 - mae: 15.8057\n",
      "Epoch 302/500\n",
      "2/2 [==============================] - 0s 2ms/step - loss: 6.5917 - mae: 6.5917\n",
      "Epoch 303/500\n",
      "2/2 [==============================] - 0s 2ms/step - loss: 21.5721 - mae: 21.5721\n",
      "Epoch 304/500\n",
      "2/2 [==============================] - 0s 2ms/step - loss: 25.8955 - mae: 25.8955\n",
      "Epoch 305/500\n",
      "2/2 [==============================] - 0s 2ms/step - loss: 9.0006 - mae: 9.0006\n",
      "Epoch 306/500\n",
      "2/2 [==============================] - 0s 2ms/step - loss: 21.6482 - mae: 21.6482\n",
      "Epoch 307/500\n",
      "2/2 [==============================] - 0s 2ms/step - loss: 8.2831 - mae: 8.2831\n",
      "Epoch 308/500\n",
      "2/2 [==============================] - 0s 2ms/step - loss: 20.9682 - mae: 20.9682\n",
      "Epoch 309/500\n",
      "2/2 [==============================] - 0s 2ms/step - loss: 19.1738 - mae: 19.1738\n",
      "Epoch 310/500\n",
      "2/2 [==============================] - 0s 3ms/step - loss: 5.9781 - mae: 5.9781\n",
      "Epoch 311/500\n",
      "2/2 [==============================] - 0s 2ms/step - loss: 8.8128 - mae: 8.8128\n",
      "Epoch 312/500\n",
      "2/2 [==============================] - 0s 3ms/step - loss: 29.8988 - mae: 29.8988\n",
      "Epoch 313/500\n",
      "2/2 [==============================] - 0s 2ms/step - loss: 7.7830 - mae: 7.7830\n",
      "Epoch 314/500\n",
      "2/2 [==============================] - 0s 2ms/step - loss: 9.8884 - mae: 9.8884\n",
      "Epoch 315/500\n",
      "2/2 [==============================] - 0s 3ms/step - loss: 23.6741 - mae: 23.6741\n",
      "Epoch 316/500\n",
      "2/2 [==============================] - 0s 2ms/step - loss: 14.2510 - mae: 14.2510\n",
      "Epoch 317/500\n",
      "2/2 [==============================] - 0s 2ms/step - loss: 19.7330 - mae: 19.7330\n",
      "Epoch 318/500\n",
      "2/2 [==============================] - 0s 2ms/step - loss: 7.9290 - mae: 7.9290\n",
      "Epoch 319/500\n",
      "2/2 [==============================] - 0s 2ms/step - loss: 17.8887 - mae: 17.8887\n",
      "Epoch 320/500\n",
      "2/2 [==============================] - 0s 2ms/step - loss: 10.1948 - mae: 10.1948\n",
      "Epoch 321/500\n",
      "2/2 [==============================] - 0s 2ms/step - loss: 8.3076 - mae: 8.3076\n",
      "Epoch 322/500\n",
      "2/2 [==============================] - 0s 2ms/step - loss: 4.3684 - mae: 4.3684\n",
      "Epoch 323/500\n",
      "2/2 [==============================] - 0s 2ms/step - loss: 23.7446 - mae: 23.7446\n",
      "Epoch 324/500\n",
      "2/2 [==============================] - 0s 2ms/step - loss: 6.8956 - mae: 6.8956\n",
      "Epoch 325/500\n",
      "2/2 [==============================] - 0s 5ms/step - loss: 16.5595 - mae: 16.5595\n",
      "Epoch 326/500\n",
      "2/2 [==============================] - 0s 3ms/step - loss: 7.5667 - mae: 7.5667\n",
      "Epoch 327/500\n",
      "2/2 [==============================] - 0s 3ms/step - loss: 20.2755 - mae: 20.2755\n",
      "Epoch 328/500\n",
      "2/2 [==============================] - 0s 2ms/step - loss: 13.7193 - mae: 13.7193\n",
      "Epoch 329/500\n",
      "2/2 [==============================] - 0s 2ms/step - loss: 16.7656 - mae: 16.7656\n",
      "Epoch 330/500\n",
      "2/2 [==============================] - 0s 3ms/step - loss: 7.0993 - mae: 7.0993\n",
      "Epoch 331/500\n",
      "2/2 [==============================] - 0s 3ms/step - loss: 21.6458 - mae: 21.6458\n",
      "Epoch 332/500\n",
      "2/2 [==============================] - 0s 3ms/step - loss: 12.7225 - mae: 12.7225\n",
      "Epoch 333/500\n",
      "2/2 [==============================] - 0s 2ms/step - loss: 8.9977 - mae: 8.9977\n",
      "Epoch 334/500\n",
      "2/2 [==============================] - 0s 2ms/step - loss: 9.7517 - mae: 9.7517\n",
      "Epoch 335/500\n",
      "2/2 [==============================] - 0s 4ms/step - loss: 5.9603 - mae: 5.9603\n",
      "Epoch 336/500\n",
      "2/2 [==============================] - 0s 2ms/step - loss: 31.7695 - mae: 31.7695\n",
      "Epoch 337/500\n",
      "2/2 [==============================] - 0s 2ms/step - loss: 9.1667 - mae: 9.1667\n",
      "Epoch 338/500\n",
      "2/2 [==============================] - 0s 3ms/step - loss: 19.5563 - mae: 19.5563\n",
      "Epoch 339/500\n",
      "2/2 [==============================] - 0s 3ms/step - loss: 35.4578 - mae: 35.4578\n",
      "Epoch 340/500\n",
      "2/2 [==============================] - 0s 3ms/step - loss: 10.5523 - mae: 10.5523\n",
      "Epoch 341/500\n",
      "2/2 [==============================] - 0s 2ms/step - loss: 10.1449 - mae: 10.1449\n",
      "Epoch 342/500\n",
      "2/2 [==============================] - 0s 3ms/step - loss: 13.2752 - mae: 13.2752\n",
      "Epoch 343/500\n",
      "2/2 [==============================] - 0s 3ms/step - loss: 11.0227 - mae: 11.0227\n",
      "Epoch 344/500\n",
      "2/2 [==============================] - 0s 1ms/step - loss: 9.9103 - mae: 9.9103\n",
      "Epoch 345/500\n",
      "2/2 [==============================] - 0s 1ms/step - loss: 30.9907 - mae: 30.9907\n",
      "Epoch 346/500\n",
      "2/2 [==============================] - 0s 3ms/step - loss: 10.6700 - mae: 10.6700\n",
      "Epoch 347/500\n",
      "2/2 [==============================] - 0s 3ms/step - loss: 25.6672 - mae: 25.6672\n",
      "Epoch 348/500\n",
      "2/2 [==============================] - 0s 2ms/step - loss: 13.0227 - mae: 13.0227\n",
      "Epoch 349/500\n",
      "2/2 [==============================] - 0s 2ms/step - loss: 13.0987 - mae: 13.0987\n",
      "Epoch 350/500\n",
      "2/2 [==============================] - 0s 2ms/step - loss: 15.4105 - mae: 15.4105\n",
      "Epoch 351/500\n",
      "2/2 [==============================] - 0s 2ms/step - loss: 32.9259 - mae: 32.9259\n",
      "Epoch 352/500\n",
      "2/2 [==============================] - 0s 2ms/step - loss: 14.1409 - mae: 14.1409\n",
      "Epoch 353/500\n",
      "2/2 [==============================] - 0s 999us/step - loss: 15.8696 - mae: 15.8696\n",
      "Epoch 354/500\n",
      "2/2 [==============================] - 0s 2ms/step - loss: 18.9830 - mae: 18.9830\n",
      "Epoch 355/500\n",
      "2/2 [==============================] - 0s 2ms/step - loss: 34.4107 - mae: 34.4107\n",
      "Epoch 356/500\n",
      "2/2 [==============================] - 0s 2ms/step - loss: 8.2976 - mae: 8.2976\n",
      "Epoch 357/500\n",
      "2/2 [==============================] - 0s 2ms/step - loss: 21.9102 - mae: 21.9102\n",
      "Epoch 358/500\n",
      "2/2 [==============================] - 0s 2ms/step - loss: 20.0475 - mae: 20.0475\n",
      "Epoch 359/500\n",
      "2/2 [==============================] - 0s 3ms/step - loss: 11.0258 - mae: 11.0258\n",
      "Epoch 360/500\n",
      "2/2 [==============================] - 0s 2ms/step - loss: 20.2521 - mae: 20.2521\n",
      "Epoch 361/500\n",
      "2/2 [==============================] - 0s 2ms/step - loss: 11.0299 - mae: 11.0299\n",
      "Epoch 362/500\n",
      "2/2 [==============================] - 0s 2ms/step - loss: 6.7970 - mae: 6.7970\n",
      "Epoch 363/500\n",
      "2/2 [==============================] - 0s 2ms/step - loss: 24.0499 - mae: 24.0499\n",
      "Epoch 364/500\n",
      "2/2 [==============================] - 0s 2ms/step - loss: 29.8284 - mae: 29.8284\n",
      "Epoch 365/500\n",
      "2/2 [==============================] - 0s 2ms/step - loss: 8.3498 - mae: 8.3498\n",
      "Epoch 366/500\n",
      "2/2 [==============================] - 0s 2ms/step - loss: 6.0681 - mae: 6.0681\n",
      "Epoch 367/500\n",
      "2/2 [==============================] - 0s 2ms/step - loss: 35.0312 - mae: 35.0312\n",
      "Epoch 368/500\n",
      "2/2 [==============================] - 0s 2ms/step - loss: 7.4059 - mae: 7.4059\n",
      "Epoch 369/500\n",
      "2/2 [==============================] - 0s 2ms/step - loss: 9.6407 - mae: 9.6407\n",
      "Epoch 370/500\n",
      "2/2 [==============================] - 0s 2ms/step - loss: 7.7588 - mae: 7.7588\n",
      "Epoch 371/500\n",
      "2/2 [==============================] - 0s 3ms/step - loss: 20.0043 - mae: 20.0043\n",
      "Epoch 372/500\n",
      "2/2 [==============================] - 0s 2ms/step - loss: 12.5259 - mae: 12.5259\n",
      "Epoch 373/500\n",
      "2/2 [==============================] - 0s 2ms/step - loss: 26.4440 - mae: 26.4440\n",
      "Epoch 374/500\n",
      "2/2 [==============================] - 0s 2ms/step - loss: 9.2082 - mae: 9.2082\n",
      "Epoch 375/500\n",
      "2/2 [==============================] - 0s 2ms/step - loss: 4.8641 - mae: 4.8641\n",
      "Epoch 376/500\n",
      "2/2 [==============================] - 0s 2ms/step - loss: 17.5807 - mae: 17.5807\n",
      "Epoch 377/500\n",
      "2/2 [==============================] - 0s 2ms/step - loss: 14.2650 - mae: 14.2650\n",
      "Epoch 378/500\n",
      "2/2 [==============================] - 0s 2ms/step - loss: 15.9121 - mae: 15.9121\n",
      "Epoch 379/500\n",
      "2/2 [==============================] - 0s 2ms/step - loss: 19.9922 - mae: 19.9922\n",
      "Epoch 380/500\n",
      "2/2 [==============================] - 0s 2ms/step - loss: 36.1392 - mae: 36.1392\n",
      "Epoch 381/500\n",
      "2/2 [==============================] - 0s 2ms/step - loss: 10.2519 - mae: 10.2519\n",
      "Epoch 382/500\n",
      "2/2 [==============================] - 0s 2ms/step - loss: 5.8593 - mae: 5.8593\n",
      "Epoch 383/500\n",
      "2/2 [==============================] - 0s 2ms/step - loss: 14.8754 - mae: 14.8754\n",
      "Epoch 384/500\n",
      "2/2 [==============================] - 0s 2ms/step - loss: 16.1389 - mae: 16.1389\n",
      "Epoch 385/500\n",
      "2/2 [==============================] - 0s 2ms/step - loss: 11.6634 - mae: 11.6634\n",
      "Epoch 386/500\n",
      "2/2 [==============================] - 0s 3ms/step - loss: 20.0612 - mae: 20.0612\n",
      "Epoch 387/500\n",
      "2/2 [==============================] - 0s 3ms/step - loss: 24.1207 - mae: 24.1207\n",
      "Epoch 388/500\n",
      "2/2 [==============================] - 0s 4ms/step - loss: 7.5351 - mae: 7.5351\n",
      "Epoch 389/500\n",
      "2/2 [==============================] - 0s 2ms/step - loss: 14.2207 - mae: 14.2207\n",
      "Epoch 390/500\n",
      "2/2 [==============================] - 0s 3ms/step - loss: 8.2498 - mae: 8.2498\n",
      "Epoch 391/500\n",
      "2/2 [==============================] - 0s 3ms/step - loss: 15.5194 - mae: 15.5194\n",
      "Epoch 392/500\n",
      "2/2 [==============================] - 0s 2ms/step - loss: 17.1621 - mae: 17.1621\n",
      "Epoch 393/500\n",
      "2/2 [==============================] - 0s 2ms/step - loss: 10.5217 - mae: 10.5217\n",
      "Epoch 394/500\n",
      "2/2 [==============================] - 0s 3ms/step - loss: 14.0705 - mae: 14.0705\n",
      "Epoch 395/500\n",
      "2/2 [==============================] - 0s 2ms/step - loss: 28.4325 - mae: 28.4325\n",
      "Epoch 396/500\n",
      "2/2 [==============================] - 0s 998us/step - loss: 8.4698 - mae: 8.4698\n",
      "Epoch 397/500\n",
      "2/2 [==============================] - 0s 2ms/step - loss: 11.2757 - mae: 11.2757\n",
      "Epoch 398/500\n",
      "2/2 [==============================] - 0s 1ms/step - loss: 6.8741 - mae: 6.8741\n",
      "Epoch 399/500\n",
      "2/2 [==============================] - 0s 2ms/step - loss: 14.1470 - mae: 14.1470\n",
      "Epoch 400/500\n",
      "2/2 [==============================] - 0s 2ms/step - loss: 6.6742 - mae: 6.6742\n",
      "Epoch 401/500\n",
      "2/2 [==============================] - 0s 2ms/step - loss: 7.9832 - mae: 7.9832\n",
      "Epoch 402/500\n",
      "2/2 [==============================] - 0s 2ms/step - loss: 16.4409 - mae: 16.4409\n",
      "Epoch 403/500\n",
      "2/2 [==============================] - 0s 2ms/step - loss: 12.3238 - mae: 12.3238\n",
      "Epoch 404/500\n",
      "2/2 [==============================] - 0s 2ms/step - loss: 22.9076 - mae: 22.9076\n",
      "Epoch 405/500\n",
      "2/2 [==============================] - 0s 3ms/step - loss: 18.1549 - mae: 18.1549\n",
      "Epoch 406/500\n",
      "2/2 [==============================] - 0s 2ms/step - loss: 7.0250 - mae: 7.0250\n",
      "Epoch 407/500\n",
      "2/2 [==============================] - 0s 998us/step - loss: 12.6774 - mae: 12.6774\n",
      "Epoch 408/500\n",
      "2/2 [==============================] - 0s 2ms/step - loss: 5.6264 - mae: 5.6264\n",
      "Epoch 409/500\n",
      "2/2 [==============================] - 0s 2ms/step - loss: 31.3566 - mae: 31.3566\n",
      "Epoch 410/500\n",
      "2/2 [==============================] - 0s 2ms/step - loss: 9.2013 - mae: 9.2013\n",
      "Epoch 411/500\n",
      "2/2 [==============================] - 0s 2ms/step - loss: 14.8352 - mae: 14.8352\n",
      "Epoch 412/500\n",
      "2/2 [==============================] - 0s 2ms/step - loss: 21.7005 - mae: 21.7005\n",
      "Epoch 413/500\n",
      "2/2 [==============================] - 0s 2ms/step - loss: 12.6674 - mae: 12.6674\n",
      "Epoch 414/500\n",
      "2/2 [==============================] - 0s 2ms/step - loss: 6.0013 - mae: 6.0013\n",
      "Epoch 415/500\n",
      "2/2 [==============================] - 0s 1000us/step - loss: 13.2101 - mae: 13.2101\n",
      "Epoch 416/500\n",
      "2/2 [==============================] - 0s 2ms/step - loss: 27.4053 - mae: 27.4053\n",
      "Epoch 417/500\n",
      "2/2 [==============================] - 0s 2ms/step - loss: 10.6873 - mae: 10.6873\n",
      "Epoch 418/500\n",
      "2/2 [==============================] - 0s 2ms/step - loss: 12.7881 - mae: 12.7881\n",
      "Epoch 419/500\n",
      "2/2 [==============================] - 0s 3ms/step - loss: 15.8436 - mae: 15.8436\n",
      "Epoch 420/500\n",
      "2/2 [==============================] - 0s 2ms/step - loss: 24.7045 - mae: 24.7045\n",
      "Epoch 421/500\n",
      "2/2 [==============================] - 0s 998us/step - loss: 17.5896 - mae: 17.5896\n",
      "Epoch 422/500\n",
      "2/2 [==============================] - 0s 2ms/step - loss: 8.6679 - mae: 8.6679\n",
      "Epoch 423/500\n",
      "2/2 [==============================] - 0s 2ms/step - loss: 24.8864 - mae: 24.8864\n",
      "Epoch 424/500\n",
      "2/2 [==============================] - 0s 2ms/step - loss: 16.3148 - mae: 16.3148\n",
      "Epoch 425/500\n",
      "2/2 [==============================] - 0s 2ms/step - loss: 7.1157 - mae: 7.1157\n",
      "Epoch 426/500\n",
      "2/2 [==============================] - 0s 2ms/step - loss: 20.4333 - mae: 20.4333\n",
      "Epoch 427/500\n",
      "2/2 [==============================] - 0s 2ms/step - loss: 6.2943 - mae: 6.2943\n",
      "Epoch 428/500\n",
      "2/2 [==============================] - 0s 2ms/step - loss: 13.0926 - mae: 13.0926\n",
      "Epoch 429/500\n",
      "2/2 [==============================] - 0s 2ms/step - loss: 10.8681 - mae: 10.8681\n",
      "Epoch 430/500\n",
      "2/2 [==============================] - 0s 2ms/step - loss: 11.7374 - mae: 11.7374\n",
      "Epoch 431/500\n",
      "2/2 [==============================] - 0s 2ms/step - loss: 7.8786 - mae: 7.8786\n",
      "Epoch 432/500\n",
      "2/2 [==============================] - 0s 1ms/step - loss: 22.1851 - mae: 22.1851\n",
      "Epoch 433/500\n",
      "2/2 [==============================] - 0s 2ms/step - loss: 5.8710 - mae: 5.8710\n",
      "Epoch 434/500\n",
      "2/2 [==============================] - 0s 2ms/step - loss: 32.6509 - mae: 32.6509\n",
      "Epoch 435/500\n",
      "2/2 [==============================] - 0s 3ms/step - loss: 13.6516 - mae: 13.6516\n",
      "Epoch 436/500\n",
      "2/2 [==============================] - 0s 2ms/step - loss: 28.8901 - mae: 28.8901\n",
      "Epoch 437/500\n",
      "2/2 [==============================] - 0s 2ms/step - loss: 8.5517 - mae: 8.5517\n",
      "Epoch 438/500\n",
      "2/2 [==============================] - 0s 2ms/step - loss: 12.7078 - mae: 12.7078\n",
      "Epoch 439/500\n",
      "2/2 [==============================] - 0s 2ms/step - loss: 33.6789 - mae: 33.6789\n",
      "Epoch 440/500\n",
      "2/2 [==============================] - 0s 2ms/step - loss: 15.0575 - mae: 15.0575\n",
      "Epoch 441/500\n",
      "2/2 [==============================] - 0s 2ms/step - loss: 17.4468 - mae: 17.4468\n",
      "Epoch 442/500\n",
      "2/2 [==============================] - 0s 2ms/step - loss: 22.2685 - mae: 22.2685\n",
      "Epoch 443/500\n",
      "2/2 [==============================] - 0s 2ms/step - loss: 23.6644 - mae: 23.6644\n",
      "Epoch 444/500\n",
      "2/2 [==============================] - 0s 2ms/step - loss: 11.0429 - mae: 11.0429\n",
      "Epoch 445/500\n",
      "2/2 [==============================] - 0s 2ms/step - loss: 14.8723 - mae: 14.8723\n",
      "Epoch 446/500\n",
      "2/2 [==============================] - 0s 7ms/step - loss: 17.9342 - mae: 17.9342\n",
      "Epoch 447/500\n",
      "2/2 [==============================] - 0s 2ms/step - loss: 5.4275 - mae: 5.4275\n",
      "Epoch 448/500\n",
      "2/2 [==============================] - 0s 3ms/step - loss: 9.6266 - mae: 9.6266\n",
      "Epoch 449/500\n",
      "2/2 [==============================] - 0s 3ms/step - loss: 14.2730 - mae: 14.2730\n",
      "Epoch 450/500\n",
      "2/2 [==============================] - 0s 2ms/step - loss: 17.0261 - mae: 17.0261\n",
      "Epoch 451/500\n",
      "2/2 [==============================] - 0s 3ms/step - loss: 14.3767 - mae: 14.3767\n",
      "Epoch 452/500\n",
      "2/2 [==============================] - 0s 2ms/step - loss: 30.8528 - mae: 30.8528\n",
      "Epoch 453/500\n",
      "2/2 [==============================] - 0s 2ms/step - loss: 9.0897 - mae: 9.0897\n",
      "Epoch 454/500\n",
      "2/2 [==============================] - 0s 2ms/step - loss: 27.1999 - mae: 27.1999\n",
      "Epoch 455/500\n",
      "2/2 [==============================] - 0s 2ms/step - loss: 11.3780 - mae: 11.3780\n",
      "Epoch 456/500\n",
      "2/2 [==============================] - 0s 2ms/step - loss: 15.6311 - mae: 15.6311\n",
      "Epoch 457/500\n",
      "2/2 [==============================] - 0s 2ms/step - loss: 19.2819 - mae: 19.2819\n",
      "Epoch 458/500\n",
      "2/2 [==============================] - 0s 2ms/step - loss: 23.0246 - mae: 23.0246\n",
      "Epoch 459/500\n",
      "2/2 [==============================] - 0s 2ms/step - loss: 16.4553 - mae: 16.4553\n",
      "Epoch 460/500\n",
      "2/2 [==============================] - 0s 1ms/step - loss: 7.4138 - mae: 7.4138\n",
      "Epoch 461/500\n",
      "2/2 [==============================] - 0s 2ms/step - loss: 15.6760 - mae: 15.6760\n",
      "Epoch 462/500\n",
      "2/2 [==============================] - 0s 2ms/step - loss: 15.1706 - mae: 15.1706\n",
      "Epoch 463/500\n",
      "2/2 [==============================] - 0s 2ms/step - loss: 16.8067 - mae: 16.8067\n",
      "Epoch 464/500\n",
      "2/2 [==============================] - 0s 2ms/step - loss: 11.2270 - mae: 11.2270\n",
      "Epoch 465/500\n",
      "2/2 [==============================] - 0s 2ms/step - loss: 21.5459 - mae: 21.5459\n",
      "Epoch 466/500\n",
      "2/2 [==============================] - 0s 2ms/step - loss: 25.0007 - mae: 25.0007\n",
      "Epoch 467/500\n",
      "2/2 [==============================] - 0s 2ms/step - loss: 14.8315 - mae: 14.8315\n",
      "Epoch 468/500\n",
      "2/2 [==============================] - 0s 2ms/step - loss: 10.3580 - mae: 10.3580\n",
      "Epoch 469/500\n",
      "2/2 [==============================] - 0s 2ms/step - loss: 27.3704 - mae: 27.3704\n",
      "Epoch 470/500\n",
      "2/2 [==============================] - 0s 999us/step - loss: 12.4099 - mae: 12.4099\n",
      "Epoch 471/500\n",
      "2/2 [==============================] - 0s 3ms/step - loss: 12.0778 - mae: 12.0778\n",
      "Epoch 472/500\n",
      "2/2 [==============================] - 0s 2ms/step - loss: 15.5060 - mae: 15.5060\n",
      "Epoch 473/500\n",
      "2/2 [==============================] - 0s 2ms/step - loss: 15.5121 - mae: 15.5121\n",
      "Epoch 474/500\n",
      "2/2 [==============================] - 0s 2ms/step - loss: 20.2470 - mae: 20.2470\n",
      "Epoch 475/500\n",
      "2/2 [==============================] - 0s 2ms/step - loss: 5.0405 - mae: 5.0405\n",
      "Epoch 476/500\n",
      "2/2 [==============================] - 0s 2ms/step - loss: 13.3374 - mae: 13.3374\n",
      "Epoch 477/500\n",
      "2/2 [==============================] - 0s 2ms/step - loss: 29.5738 - mae: 29.5738\n",
      "Epoch 478/500\n",
      "2/2 [==============================] - 0s 2ms/step - loss: 3.6815 - mae: 3.6815\n",
      "Epoch 479/500\n",
      "2/2 [==============================] - 0s 2ms/step - loss: 16.2132 - mae: 16.2132\n",
      "Epoch 480/500\n",
      "2/2 [==============================] - 0s 3ms/step - loss: 3.8461 - mae: 3.8461\n",
      "Epoch 481/500\n",
      "2/2 [==============================] - 0s 2ms/step - loss: 15.0675 - mae: 15.0675\n",
      "Epoch 482/500\n",
      "2/2 [==============================] - 0s 2ms/step - loss: 24.5559 - mae: 24.5559\n",
      "Epoch 483/500\n",
      "2/2 [==============================] - 0s 3ms/step - loss: 18.4922 - mae: 18.4922\n",
      "Epoch 484/500\n",
      "2/2 [==============================] - 0s 2ms/step - loss: 16.5726 - mae: 16.5726\n",
      "Epoch 485/500\n",
      "2/2 [==============================] - 0s 2ms/step - loss: 9.7629 - mae: 9.7629\n",
      "Epoch 486/500\n",
      "2/2 [==============================] - 0s 2ms/step - loss: 17.9718 - mae: 17.9718\n",
      "Epoch 487/500\n",
      "2/2 [==============================] - 0s 3ms/step - loss: 10.8756 - mae: 10.8756\n",
      "Epoch 488/500\n",
      "2/2 [==============================] - 0s 2ms/step - loss: 27.0446 - mae: 27.0446\n",
      "Epoch 489/500\n",
      "2/2 [==============================] - 0s 2ms/step - loss: 5.2840 - mae: 5.2840\n",
      "Epoch 490/500\n",
      "2/2 [==============================] - 0s 2ms/step - loss: 6.0309 - mae: 6.0309\n",
      "Epoch 491/500\n",
      "2/2 [==============================] - 0s 2ms/step - loss: 19.0903 - mae: 19.0903\n",
      "Epoch 492/500\n",
      "2/2 [==============================] - 0s 2ms/step - loss: 7.3788 - mae: 7.3788\n",
      "Epoch 493/500\n",
      "2/2 [==============================] - 0s 2ms/step - loss: 18.2450 - mae: 18.2450\n",
      "Epoch 494/500\n",
      "2/2 [==============================] - 0s 2ms/step - loss: 18.4239 - mae: 18.4239\n",
      "Epoch 495/500\n",
      "2/2 [==============================] - 0s 2ms/step - loss: 6.3524 - mae: 6.3524\n",
      "Epoch 496/500\n",
      "2/2 [==============================] - 0s 2ms/step - loss: 6.4048 - mae: 6.4048\n",
      "Epoch 497/500\n",
      "2/2 [==============================] - 0s 2ms/step - loss: 13.8559 - mae: 13.8559\n",
      "Epoch 498/500\n",
      "2/2 [==============================] - 0s 3ms/step - loss: 6.7686 - mae: 6.7686\n",
      "Epoch 499/500\n",
      "2/2 [==============================] - 0s 2ms/step - loss: 17.7856 - mae: 17.7856\n",
      "Epoch 500/500\n",
      "2/2 [==============================] - 0s 2ms/step - loss: 14.2370 - mae: 14.2370\n"
     ]
    },
    {
     "data": {
      "text/plain": [
       "<keras.callbacks.History at 0x125199ba160>"
      ]
     },
     "execution_count": 103,
     "metadata": {},
     "output_type": "execute_result"
    }
   ],
   "source": [
    "# Set random seed\n",
    "tf.random.set_seed(42)\n",
    "\n",
    "# 1. Create the model\n",
    "model_3 = tf.keras.Sequential([\n",
    "  tf.keras.layers.Dense(10),\n",
    "  tf.keras.layers.Dense(1)\n",
    "])\n",
    "\n",
    "# 2. Compile the model\n",
    "model_3.compile(loss=tf.keras.losses.mae,\n",
    "                optimizer=tf.keras.optimizers.SGD(),\n",
    "                metrics=[\"mae\"]\n",
    "                )\n",
    "\n",
    "# 3. Fit the model\n",
    "model_3.fit(tf.expand_dims(X_train, axis=-1), y_train, epochs=500)"
   ]
  },
  {
   "cell_type": "code",
   "execution_count": 104,
   "metadata": {},
   "outputs": [
    {
     "name": "stdout",
     "output_type": "stream",
     "text": [
      "1/1 [==============================] - 0s 34ms/step\n"
     ]
    },
    {
     "data": {
      "image/png": "[encoded data removed]",
      "text/plain": [
       "<Figure size 1000x700 with 1 Axes>"
      ]
     },
     "metadata": {},
     "output_type": "display_data"
    }
   ],
   "source": [
    "# Make and plot predictions for model_3\n",
    "y_preds_3 = model_3.predict(X_test)\n",
    "plot_predictions(predictions=y_preds_3)"
   ]
  },
  {
   "cell_type": "code",
   "execution_count": 105,
   "metadata": {},
   "outputs": [
    {
     "data": {
      "text/plain": [
       "(<tf.Tensor: shape=(), dtype=float32, numpy=67.40194>,\n",
       " <tf.Tensor: shape=(), dtype=float32, numpy=4626.497>)"
      ]
     },
     "execution_count": 105,
     "metadata": {},
     "output_type": "execute_result"
    }
   ],
   "source": [
    "# Calculate model_1 evaluation metrics\n",
    "mae_3 = mae(y_test, tf.squeeze(y_preds_3))\n",
    "mse_3 = mse(y_test, tf.squeeze(y_preds_3))\n",
    "mae_3, mse_3"
   ]
  },
  {
   "cell_type": "markdown",
   "metadata": {},
   "source": [
    "🔑**Note:** You want to start with small experiments (small models) and make sure they work and then increase their scale when necessary."
   ]
  },
  {
   "cell_type": "markdown",
   "metadata": {},
   "source": [
    "## Comparing the results of our experiments\n",
    "\n",
    "We've run a few experiments, let's compare the results."
   ]
  },
  {
   "cell_type": "code",
   "execution_count": 107,
   "metadata": {},
   "outputs": [
    {
     "data": {
      "text/html": [
       "<div>\n",
       "<style scoped>\n",
       "    .dataframe tbody tr th:only-of-type {\n",
       "        vertical-align: middle;\n",
       "    }\n",
       "\n",
       "    .dataframe tbody tr th {\n",
       "        vertical-align: top;\n",
       "    }\n",
       "\n",
       "    .dataframe thead th {\n",
       "        text-align: right;\n",
       "    }\n",
       "</style>\n",
       "<table border=\"1\" class=\"dataframe\">\n",
       "  <thead>\n",
       "    <tr style=\"text-align: right;\">\n",
       "      <th></th>\n",
       "      <th>model</th>\n",
       "      <th>mae</th>\n",
       "      <th>mse</th>\n",
       "    </tr>\n",
       "  </thead>\n",
       "  <tbody>\n",
       "    <tr>\n",
       "      <th>0</th>\n",
       "      <td>model_1</td>\n",
       "      <td>30.576172</td>\n",
       "      <td>945.274048</td>\n",
       "    </tr>\n",
       "    <tr>\n",
       "      <th>1</th>\n",
       "      <td>model_2</td>\n",
       "      <td>13.089638</td>\n",
       "      <td>181.209229</td>\n",
       "    </tr>\n",
       "    <tr>\n",
       "      <th>2</th>\n",
       "      <td>model_3</td>\n",
       "      <td>67.401939</td>\n",
       "      <td>4626.497070</td>\n",
       "    </tr>\n",
       "  </tbody>\n",
       "</table>\n",
       "</div>"
      ],
      "text/plain": [
       "     model        mae          mse\n",
       "0  model_1  30.576172   945.274048\n",
       "1  model_2  13.089638   181.209229\n",
       "2  model_3  67.401939  4626.497070"
      ]
     },
     "execution_count": 107,
     "metadata": {},
     "output_type": "execute_result"
    }
   ],
   "source": [
    "# Let's compare our model's results using a pandas DataFrame\n",
    "import pandas as pd\n",
    "\n",
    "model_results = [[\"model_1\", mae_1.numpy(), mse_1.numpy()],\n",
    "                 [\"model_2\", mae_2.numpy(), mse_2.numpy()],\n",
    "                 [\"model_3\", mae_3.numpy(), mse_3.numpy()]]\n",
    "\n",
    "all_results = pd.DataFrame(model_results, columns=[\"model\", \"mae\", \"mse\"])\n",
    "all_results"
   ]
  },
  {
   "cell_type": "code",
   "execution_count": 108,
   "metadata": {},
   "outputs": [
    {
     "name": "stdout",
     "output_type": "stream",
     "text": [
      "Model: \"sequential_7\"\n",
      "_________________________________________________________________\n",
      " Layer (type)                Output Shape              Param #   \n",
      "=================================================================\n",
      " dense_11 (Dense)            (None, 10)                20        \n",
      "                                                                 \n",
      " dense_12 (Dense)            (None, 1)                 11        \n",
      "                                                                 \n",
      "=================================================================\n",
      "Total params: 31\n",
      "Trainable params: 31\n",
      "Non-trainable params: 0\n",
      "_________________________________________________________________\n"
     ]
    }
   ],
   "source": [
    "model_2.summary()"
   ]
  },
  {
   "cell_type": "markdown",
   "metadata": {},
   "source": [
    "> 🔑 **Note:** One of your main goals should be to minimize the time between your experiments. The more experiments you do, the more things you'll figure out which don't work and in turn, get closer to figuring out what does work. Remember the machine learning practitioner's motto: \"experiment, experiment, experiment\"."
   ]
  },
  {
   "cell_type": "markdown",
   "metadata": {},
   "source": [
    "## Tracking your experiments\n",
    "\n",
    "One really good habit to get into is tracking your modelling experiments to see which perform better than others.\n",
    "\n",
    "We've done a simple version of this above (keeping the results in different variables).\n",
    "\n",
    "> 📖 Resource: But as you build more models, you'll want to look into using tools such as:\n",
    "\n",
    "* **TensorBoard** - a component of the TensorFlow library to help track modelling experiments (we'll see this later).\n",
    "* **Weights & Biases** - a tool for tracking all kinds of machine learning experiments (the good news for Weights & Biases is it plugs into TensorBoard)."
   ]
  },
  {
   "cell_type": "markdown",
   "metadata": {},
   "source": [
    "## Saving our models.\n",
    "\n",
    "Once you've trained a model and found one which performs to your liking, you'll probably want to save it for use elsewhere (like a web application or mobile device).\n",
    "\n",
    "You can save a TensorFlow/Keras model using `model.save()`.\n",
    "\n",
    "There are two ways to save a model in TensorFlow:\n",
    "\n",
    "1. The SavedModel format (default).\n",
    "2. The HDF5 format.\n",
    "\n",
    "The main difference between the two is the SavedModel is automatically able to save custom objects (such as special layers) without additional modifications when loading the model back in.\n",
    "\n",
    "Which one should you use?\n",
    "\n",
    "It depends on your situation but the SavedModel format will suffice most of the time.\n",
    "\n",
    "Both methods use the same method call."
   ]
  },
  {
   "cell_type": "code",
   "execution_count": 111,
   "metadata": {},
   "outputs": [
    {
     "name": "stderr",
     "output_type": "stream",
     "text": [
      "WARNING:absl:Found untraced functions such as _update_step_xla while saving (showing 1 of 1). These functions will not be directly callable after loading.\n"
     ]
    },
    {
     "name": "stdout",
     "output_type": "stream",
     "text": [
      "INFO:tensorflow:Assets written to: ./model/best_model_SavedModel_format\\assets\n"
     ]
    },
    {
     "name": "stderr",
     "output_type": "stream",
     "text": [
      "INFO:tensorflow:Assets written to: ./model/best_model_SavedModel_format\\assets\n"
     ]
    }
   ],
   "source": [
    "# Save model using the SavedModel format\n",
    "model_2.save(\"./model/best_model_SavedModel_format\")"
   ]
  },
  {
   "cell_type": "code",
   "execution_count": 112,
   "metadata": {},
   "outputs": [],
   "source": [
    "# Save model using the HDF5 format\n",
    "model_2.save(\"./model/best_model_HDF5_format.h5\")"
   ]
  },
  {
   "cell_type": "markdown",
   "metadata": {},
   "source": [
    "## Loading in a saved model"
   ]
  },
  {
   "cell_type": "code",
   "execution_count": 130,
   "metadata": {},
   "outputs": [
    {
     "name": "stdout",
     "output_type": "stream",
     "text": [
      "Model: \"sequential_7\"\n",
      "_________________________________________________________________\n",
      " Layer (type)                Output Shape              Param #   \n",
      "=================================================================\n",
      " dense_11 (Dense)            (None, 10)                20        \n",
      "                                                                 \n",
      " dense_12 (Dense)            (None, 1)                 11        \n",
      "                                                                 \n",
      "=================================================================\n",
      "Total params: 31\n",
      "Trainable params: 31\n",
      "Non-trainable params: 0\n",
      "_________________________________________________________________\n"
     ]
    }
   ],
   "source": [
    "# Load in the SavedModel format model\n",
    "loaded_SavedModel_Format = tf.keras.models.load_model('./model/best_model_HDF5_format.h5')\n",
    "loaded_SavedModel_Format.summary()"
   ]
  },
  {
   "cell_type": "code",
   "execution_count": 131,
   "metadata": {},
   "outputs": [
    {
     "name": "stdout",
     "output_type": "stream",
     "text": [
      "1/1 [==============================] - 0s 13ms/step\n",
      "1/1 [==============================] - 0s 31ms/step\n"
     ]
    },
    {
     "data": {
      "text/plain": [
       "array([[ True],\n",
       "       [ True],\n",
       "       [ True],\n",
       "       [ True],\n",
       "       [ True],\n",
       "       [ True],\n",
       "       [ True],\n",
       "       [ True],\n",
       "       [ True],\n",
       "       [ True]])"
      ]
     },
     "execution_count": 131,
     "metadata": {},
     "output_type": "execute_result"
    }
   ],
   "source": [
    "# Compare model_2 predictions with SavedModel format model predictions\n",
    "model_2_preds = model_2.predict(X_test)\n",
    "loaded_SavedModel_Format_preds = loaded_SavedModel_Format.predict(X_test)\n",
    "model_2_preds == loaded_SavedModel_Format_preds"
   ]
  },
  {
   "cell_type": "code",
   "execution_count": 132,
   "metadata": {},
   "outputs": [
    {
     "data": {
      "text/plain": [
       "<tf.Tensor: shape=(10,), dtype=bool, numpy=\n",
       "array([ True,  True,  True,  True,  True,  True,  True,  True,  True,\n",
       "        True])>"
      ]
     },
     "execution_count": 132,
     "metadata": {},
     "output_type": "execute_result"
    }
   ],
   "source": [
    "# Compare the MAE of model_2 preds and loaded_SavedModel preds\n",
    "mae(y_true=y_test, y_pred=model_2_preds) == mae(y_true=y_test, y_pred=loaded_SavedModel_Format_preds)"
   ]
  },
  {
   "cell_type": "code",
   "execution_count": 133,
   "metadata": {},
   "outputs": [
    {
     "name": "stdout",
     "output_type": "stream",
     "text": [
      "Model: \"sequential_7\"\n",
      "_________________________________________________________________\n",
      " Layer (type)                Output Shape              Param #   \n",
      "=================================================================\n",
      " dense_11 (Dense)            (None, 10)                20        \n",
      "                                                                 \n",
      " dense_12 (Dense)            (None, 1)                 11        \n",
      "                                                                 \n",
      "=================================================================\n",
      "Total params: 31\n",
      "Trainable params: 31\n",
      "Non-trainable params: 0\n",
      "_________________________________________________________________\n"
     ]
    }
   ],
   "source": [
    "# Load in a model using the .h5 format\n",
    "loaded_h5_model = tf.keras.models.load_model(\"./model/best_model_HDF5_format.h5\")\n",
    "loaded_h5_model.summary()"
   ]
  },
  {
   "cell_type": "code",
   "execution_count": 134,
   "metadata": {},
   "outputs": [
    {
     "name": "stdout",
     "output_type": "stream",
     "text": [
      "1/1 [==============================] - 0s 21ms/step\n",
      "1/1 [==============================] - 0s 31ms/step\n"
     ]
    },
    {
     "data": {
      "text/plain": [
       "array([[ True],\n",
       "       [ True],\n",
       "       [ True],\n",
       "       [ True],\n",
       "       [ True],\n",
       "       [ True],\n",
       "       [ True],\n",
       "       [ True],\n",
       "       [ True],\n",
       "       [ True]])"
      ]
     },
     "execution_count": 134,
     "metadata": {},
     "output_type": "execute_result"
    }
   ],
   "source": [
    "# Check to see if loaded .h5 model predictions match model_2\n",
    "model_2_preds = model_2.predict(X_test)\n",
    "loaded_h5_model_preds = loaded_h5_model.predict(X_test)\n",
    "model_2_preds == loaded_h5_model_preds"
   ]
  },
  {
   "cell_type": "markdown",
   "metadata": {},
   "source": [
    "## A larger example\n",
    "\n",
    "Alright, we've seen the fundamentals of building neural network regression models in TensorFlow.\n",
    "\n",
    "Let's step it up a notch and build a model for a more feature rich dataset.\n",
    "\n",
    "More specifically we're going to try predict the cost of medical insurance for individuals based on a number of different parameters such as, `age`, `sex`, `bmi`, `children`, `smoking_status` and `residential_region`.\n",
    "\n",
    "To do, we'll leverage the pubically available [Medical Cost dataset](https://www.kaggle.com/mirichoi0218/insurance) available from Kaggle and [hosted on GitHub](https://github.com/stedy/Machine-Learning-with-R-datasets/blob/master/insurance.csv).\n",
    "\n",
    "> 🔑 **Note:** When learning machine learning paradigms, you'll often go through a series of foundational techniques and then practice them by working with open-source datasets and examples. Just as we're doing now, learn foundations, put them to work with different problems. Every time you work on something new, it's a good idea to search for something like \"problem X example with Python/TensorFlow\" where you substitute X for your problem."
   ]
  },
  {
   "cell_type": "code",
   "execution_count": 85,
   "metadata": {},
   "outputs": [],
   "source": [
    "# Import required libraries\n",
    "import tensorflow as tf\n",
    "import pandas as pd\n",
    "import matplotlib.pyplot as plt"
   ]
  },
  {
   "cell_type": "code",
   "execution_count": 86,
   "metadata": {},
   "outputs": [
    {
     "data": {
      "text/html": [
       "<div>\n",
       "<style scoped>\n",
       "    .dataframe tbody tr th:only-of-type {\n",
       "        vertical-align: middle;\n",
       "    }\n",
       "\n",
       "    .dataframe tbody tr th {\n",
       "        vertical-align: top;\n",
       "    }\n",
       "\n",
       "    .dataframe thead th {\n",
       "        text-align: right;\n",
       "    }\n",
       "</style>\n",
       "<table border=\"1\" class=\"dataframe\">\n",
       "  <thead>\n",
       "    <tr style=\"text-align: right;\">\n",
       "      <th></th>\n",
       "      <th>age</th>\n",
       "      <th>sex</th>\n",
       "      <th>bmi</th>\n",
       "      <th>children</th>\n",
       "      <th>smoker</th>\n",
       "      <th>region</th>\n",
       "      <th>charges</th>\n",
       "    </tr>\n",
       "  </thead>\n",
       "  <tbody>\n",
       "    <tr>\n",
       "      <th>0</th>\n",
       "      <td>19</td>\n",
       "      <td>female</td>\n",
       "      <td>27.900</td>\n",
       "      <td>0</td>\n",
       "      <td>yes</td>\n",
       "      <td>southwest</td>\n",
       "      <td>16884.92400</td>\n",
       "    </tr>\n",
       "    <tr>\n",
       "      <th>1</th>\n",
       "      <td>18</td>\n",
       "      <td>male</td>\n",
       "      <td>33.770</td>\n",
       "      <td>1</td>\n",
       "      <td>no</td>\n",
       "      <td>southeast</td>\n",
       "      <td>1725.55230</td>\n",
       "    </tr>\n",
       "    <tr>\n",
       "      <th>2</th>\n",
       "      <td>28</td>\n",
       "      <td>male</td>\n",
       "      <td>33.000</td>\n",
       "      <td>3</td>\n",
       "      <td>no</td>\n",
       "      <td>southeast</td>\n",
       "      <td>4449.46200</td>\n",
       "    </tr>\n",
       "    <tr>\n",
       "      <th>3</th>\n",
       "      <td>33</td>\n",
       "      <td>male</td>\n",
       "      <td>22.705</td>\n",
       "      <td>0</td>\n",
       "      <td>no</td>\n",
       "      <td>northwest</td>\n",
       "      <td>21984.47061</td>\n",
       "    </tr>\n",
       "    <tr>\n",
       "      <th>4</th>\n",
       "      <td>32</td>\n",
       "      <td>male</td>\n",
       "      <td>28.880</td>\n",
       "      <td>0</td>\n",
       "      <td>no</td>\n",
       "      <td>northwest</td>\n",
       "      <td>3866.85520</td>\n",
       "    </tr>\n",
       "    <tr>\n",
       "      <th>...</th>\n",
       "      <td>...</td>\n",
       "      <td>...</td>\n",
       "      <td>...</td>\n",
       "      <td>...</td>\n",
       "      <td>...</td>\n",
       "      <td>...</td>\n",
       "      <td>...</td>\n",
       "    </tr>\n",
       "    <tr>\n",
       "      <th>1333</th>\n",
       "      <td>50</td>\n",
       "      <td>male</td>\n",
       "      <td>30.970</td>\n",
       "      <td>3</td>\n",
       "      <td>no</td>\n",
       "      <td>northwest</td>\n",
       "      <td>10600.54830</td>\n",
       "    </tr>\n",
       "    <tr>\n",
       "      <th>1334</th>\n",
       "      <td>18</td>\n",
       "      <td>female</td>\n",
       "      <td>31.920</td>\n",
       "      <td>0</td>\n",
       "      <td>no</td>\n",
       "      <td>northeast</td>\n",
       "      <td>2205.98080</td>\n",
       "    </tr>\n",
       "    <tr>\n",
       "      <th>1335</th>\n",
       "      <td>18</td>\n",
       "      <td>female</td>\n",
       "      <td>36.850</td>\n",
       "      <td>0</td>\n",
       "      <td>no</td>\n",
       "      <td>southeast</td>\n",
       "      <td>1629.83350</td>\n",
       "    </tr>\n",
       "    <tr>\n",
       "      <th>1336</th>\n",
       "      <td>21</td>\n",
       "      <td>female</td>\n",
       "      <td>25.800</td>\n",
       "      <td>0</td>\n",
       "      <td>no</td>\n",
       "      <td>southwest</td>\n",
       "      <td>2007.94500</td>\n",
       "    </tr>\n",
       "    <tr>\n",
       "      <th>1337</th>\n",
       "      <td>61</td>\n",
       "      <td>female</td>\n",
       "      <td>29.070</td>\n",
       "      <td>0</td>\n",
       "      <td>yes</td>\n",
       "      <td>northwest</td>\n",
       "      <td>29141.36030</td>\n",
       "    </tr>\n",
       "  </tbody>\n",
       "</table>\n",
       "<p>1338 rows × 7 columns</p>\n",
       "</div>"
      ],
      "text/plain": [
       "      age     sex     bmi  children smoker     region      charges\n",
       "0      19  female  27.900         0    yes  southwest  16884.92400\n",
       "1      18    male  33.770         1     no  southeast   1725.55230\n",
       "2      28    male  33.000         3     no  southeast   4449.46200\n",
       "3      33    male  22.705         0     no  northwest  21984.47061\n",
       "4      32    male  28.880         0     no  northwest   3866.85520\n",
       "...   ...     ...     ...       ...    ...        ...          ...\n",
       "1333   50    male  30.970         3     no  northwest  10600.54830\n",
       "1334   18  female  31.920         0     no  northeast   2205.98080\n",
       "1335   18  female  36.850         0     no  southeast   1629.83350\n",
       "1336   21  female  25.800         0     no  southwest   2007.94500\n",
       "1337   61  female  29.070         0    yes  northwest  29141.36030\n",
       "\n",
       "[1338 rows x 7 columns]"
      ]
     },
     "execution_count": 86,
     "metadata": {},
     "output_type": "execute_result"
    }
   ],
   "source": [
    "# Read in the insurance dataset\n",
    "insurance = pd.read_csv(\"./data/insurance.csv\")\n",
    "insurance"
   ]
  },
  {
   "cell_type": "code",
   "execution_count": 87,
   "metadata": {},
   "outputs": [
    {
     "data": {
      "text/html": [
       "<div>\n",
       "<style scoped>\n",
       "    .dataframe tbody tr th:only-of-type {\n",
       "        vertical-align: middle;\n",
       "    }\n",
       "\n",
       "    .dataframe tbody tr th {\n",
       "        vertical-align: top;\n",
       "    }\n",
       "\n",
       "    .dataframe thead th {\n",
       "        text-align: right;\n",
       "    }\n",
       "</style>\n",
       "<table border=\"1\" class=\"dataframe\">\n",
       "  <thead>\n",
       "    <tr style=\"text-align: right;\">\n",
       "      <th></th>\n",
       "      <th>age</th>\n",
       "      <th>bmi</th>\n",
       "      <th>children</th>\n",
       "      <th>charges</th>\n",
       "      <th>sex_female</th>\n",
       "      <th>sex_male</th>\n",
       "      <th>smoker_no</th>\n",
       "      <th>smoker_yes</th>\n",
       "      <th>region_northeast</th>\n",
       "      <th>region_northwest</th>\n",
       "      <th>region_southeast</th>\n",
       "      <th>region_southwest</th>\n",
       "    </tr>\n",
       "  </thead>\n",
       "  <tbody>\n",
       "    <tr>\n",
       "      <th>0</th>\n",
       "      <td>19</td>\n",
       "      <td>27.900</td>\n",
       "      <td>0</td>\n",
       "      <td>16884.92400</td>\n",
       "      <td>True</td>\n",
       "      <td>False</td>\n",
       "      <td>False</td>\n",
       "      <td>True</td>\n",
       "      <td>False</td>\n",
       "      <td>False</td>\n",
       "      <td>False</td>\n",
       "      <td>True</td>\n",
       "    </tr>\n",
       "    <tr>\n",
       "      <th>1</th>\n",
       "      <td>18</td>\n",
       "      <td>33.770</td>\n",
       "      <td>1</td>\n",
       "      <td>1725.55230</td>\n",
       "      <td>False</td>\n",
       "      <td>True</td>\n",
       "      <td>True</td>\n",
       "      <td>False</td>\n",
       "      <td>False</td>\n",
       "      <td>False</td>\n",
       "      <td>True</td>\n",
       "      <td>False</td>\n",
       "    </tr>\n",
       "    <tr>\n",
       "      <th>2</th>\n",
       "      <td>28</td>\n",
       "      <td>33.000</td>\n",
       "      <td>3</td>\n",
       "      <td>4449.46200</td>\n",
       "      <td>False</td>\n",
       "      <td>True</td>\n",
       "      <td>True</td>\n",
       "      <td>False</td>\n",
       "      <td>False</td>\n",
       "      <td>False</td>\n",
       "      <td>True</td>\n",
       "      <td>False</td>\n",
       "    </tr>\n",
       "    <tr>\n",
       "      <th>3</th>\n",
       "      <td>33</td>\n",
       "      <td>22.705</td>\n",
       "      <td>0</td>\n",
       "      <td>21984.47061</td>\n",
       "      <td>False</td>\n",
       "      <td>True</td>\n",
       "      <td>True</td>\n",
       "      <td>False</td>\n",
       "      <td>False</td>\n",
       "      <td>True</td>\n",
       "      <td>False</td>\n",
       "      <td>False</td>\n",
       "    </tr>\n",
       "    <tr>\n",
       "      <th>4</th>\n",
       "      <td>32</td>\n",
       "      <td>28.880</td>\n",
       "      <td>0</td>\n",
       "      <td>3866.85520</td>\n",
       "      <td>False</td>\n",
       "      <td>True</td>\n",
       "      <td>True</td>\n",
       "      <td>False</td>\n",
       "      <td>False</td>\n",
       "      <td>True</td>\n",
       "      <td>False</td>\n",
       "      <td>False</td>\n",
       "    </tr>\n",
       "  </tbody>\n",
       "</table>\n",
       "</div>"
      ],
      "text/plain": [
       "   age     bmi  children      charges  sex_female  sex_male  smoker_no  \\\n",
       "0   19  27.900         0  16884.92400        True     False      False   \n",
       "1   18  33.770         1   1725.55230       False      True       True   \n",
       "2   28  33.000         3   4449.46200       False      True       True   \n",
       "3   33  22.705         0  21984.47061       False      True       True   \n",
       "4   32  28.880         0   3866.85520       False      True       True   \n",
       "\n",
       "   smoker_yes  region_northeast  region_northwest  region_southeast  \\\n",
       "0        True             False             False             False   \n",
       "1       False             False             False              True   \n",
       "2       False             False             False              True   \n",
       "3       False             False              True             False   \n",
       "4       False             False              True             False   \n",
       "\n",
       "   region_southwest  \n",
       "0              True  \n",
       "1             False  \n",
       "2             False  \n",
       "3             False  \n",
       "4             False  "
      ]
     },
     "execution_count": 87,
     "metadata": {},
     "output_type": "execute_result"
    }
   ],
   "source": [
    "# Let's try one-hot encode our DataFrame so it's all numbers\n",
    "insurance_one_hot = pd.get_dummies(insurance)\n",
    "insurance_one_hot.head()"
   ]
  },
  {
   "cell_type": "code",
   "execution_count": 88,
   "metadata": {},
   "outputs": [],
   "source": [
    "for column in insurance_one_hot.select_dtypes(include=['bool']).columns:\n",
    "    insurance_one_hot[column] = insurance_one_hot[column].astype(int)"
   ]
  },
  {
   "cell_type": "code",
   "execution_count": 89,
   "metadata": {},
   "outputs": [],
   "source": [
    "# Create X & y values (features and labels)\n",
    "X = insurance_one_hot.drop(\"charges\", axis=1)\n",
    "y = insurance_one_hot[\"charges\"]"
   ]
  },
  {
   "cell_type": "code",
   "execution_count": 90,
   "metadata": {},
   "outputs": [
    {
     "data": {
      "text/html": [
       "<div>\n",
       "<style scoped>\n",
       "    .dataframe tbody tr th:only-of-type {\n",
       "        vertical-align: middle;\n",
       "    }\n",
       "\n",
       "    .dataframe tbody tr th {\n",
       "        vertical-align: top;\n",
       "    }\n",
       "\n",
       "    .dataframe thead th {\n",
       "        text-align: right;\n",
       "    }\n",
       "</style>\n",
       "<table border=\"1\" class=\"dataframe\">\n",
       "  <thead>\n",
       "    <tr style=\"text-align: right;\">\n",
       "      <th></th>\n",
       "      <th>age</th>\n",
       "      <th>bmi</th>\n",
       "      <th>children</th>\n",
       "      <th>sex_female</th>\n",
       "      <th>sex_male</th>\n",
       "      <th>smoker_no</th>\n",
       "      <th>smoker_yes</th>\n",
       "      <th>region_northeast</th>\n",
       "      <th>region_northwest</th>\n",
       "      <th>region_southeast</th>\n",
       "      <th>region_southwest</th>\n",
       "    </tr>\n",
       "  </thead>\n",
       "  <tbody>\n",
       "    <tr>\n",
       "      <th>0</th>\n",
       "      <td>19</td>\n",
       "      <td>27.900</td>\n",
       "      <td>0</td>\n",
       "      <td>1</td>\n",
       "      <td>0</td>\n",
       "      <td>0</td>\n",
       "      <td>1</td>\n",
       "      <td>0</td>\n",
       "      <td>0</td>\n",
       "      <td>0</td>\n",
       "      <td>1</td>\n",
       "    </tr>\n",
       "    <tr>\n",
       "      <th>1</th>\n",
       "      <td>18</td>\n",
       "      <td>33.770</td>\n",
       "      <td>1</td>\n",
       "      <td>0</td>\n",
       "      <td>1</td>\n",
       "      <td>1</td>\n",
       "      <td>0</td>\n",
       "      <td>0</td>\n",
       "      <td>0</td>\n",
       "      <td>1</td>\n",
       "      <td>0</td>\n",
       "    </tr>\n",
       "    <tr>\n",
       "      <th>2</th>\n",
       "      <td>28</td>\n",
       "      <td>33.000</td>\n",
       "      <td>3</td>\n",
       "      <td>0</td>\n",
       "      <td>1</td>\n",
       "      <td>1</td>\n",
       "      <td>0</td>\n",
       "      <td>0</td>\n",
       "      <td>0</td>\n",
       "      <td>1</td>\n",
       "      <td>0</td>\n",
       "    </tr>\n",
       "    <tr>\n",
       "      <th>3</th>\n",
       "      <td>33</td>\n",
       "      <td>22.705</td>\n",
       "      <td>0</td>\n",
       "      <td>0</td>\n",
       "      <td>1</td>\n",
       "      <td>1</td>\n",
       "      <td>0</td>\n",
       "      <td>0</td>\n",
       "      <td>1</td>\n",
       "      <td>0</td>\n",
       "      <td>0</td>\n",
       "    </tr>\n",
       "    <tr>\n",
       "      <th>4</th>\n",
       "      <td>32</td>\n",
       "      <td>28.880</td>\n",
       "      <td>0</td>\n",
       "      <td>0</td>\n",
       "      <td>1</td>\n",
       "      <td>1</td>\n",
       "      <td>0</td>\n",
       "      <td>0</td>\n",
       "      <td>1</td>\n",
       "      <td>0</td>\n",
       "      <td>0</td>\n",
       "    </tr>\n",
       "  </tbody>\n",
       "</table>\n",
       "</div>"
      ],
      "text/plain": [
       "   age     bmi  children  sex_female  sex_male  smoker_no  smoker_yes  \\\n",
       "0   19  27.900         0           1         0          0           1   \n",
       "1   18  33.770         1           0         1          1           0   \n",
       "2   28  33.000         3           0         1          1           0   \n",
       "3   33  22.705         0           0         1          1           0   \n",
       "4   32  28.880         0           0         1          1           0   \n",
       "\n",
       "   region_northeast  region_northwest  region_southeast  region_southwest  \n",
       "0                 0                 0                 0                 1  \n",
       "1                 0                 0                 1                 0  \n",
       "2                 0                 0                 1                 0  \n",
       "3                 0                 1                 0                 0  \n",
       "4                 0                 1                 0                 0  "
      ]
     },
     "execution_count": 90,
     "metadata": {},
     "output_type": "execute_result"
    }
   ],
   "source": [
    "# View X\n",
    "X.head()"
   ]
  },
  {
   "cell_type": "code",
   "execution_count": 91,
   "metadata": {},
   "outputs": [
    {
     "data": {
      "text/plain": [
       "0    16884.92400\n",
       "1     1725.55230\n",
       "2     4449.46200\n",
       "3    21984.47061\n",
       "4     3866.85520\n",
       "Name: charges, dtype: float64"
      ]
     },
     "execution_count": 91,
     "metadata": {},
     "output_type": "execute_result"
    }
   ],
   "source": [
    "# View y\n",
    "y.head()"
   ]
  },
  {
   "cell_type": "code",
   "execution_count": 92,
   "metadata": {},
   "outputs": [
    {
     "data": {
      "text/plain": [
       "(1338, 1070, 268)"
      ]
     },
     "execution_count": 92,
     "metadata": {},
     "output_type": "execute_result"
    }
   ],
   "source": [
    "# Create training and test sets\n",
    "from sklearn.model_selection import train_test_split\n",
    "\n",
    "X_train, X_test, y_train, y_test = train_test_split(X, y, test_size=0.2, random_state=42)\n",
    "len(X), len(X_train), len(X_test)"
   ]
  },
  {
   "cell_type": "code",
   "execution_count": 93,
   "metadata": {},
   "outputs": [
    {
     "name": "stdout",
     "output_type": "stream",
     "text": [
      "Epoch 1/100\n",
      "34/34 [==============================] - 0s 1ms/step - loss: 8730.1572 - mae: 8730.1572\n",
      "Epoch 2/100\n",
      "34/34 [==============================] - 0s 576us/step - loss: 7848.5513 - mae: 7848.5513\n",
      "Epoch 3/100\n",
      "34/34 [==============================] - 0s 606us/step - loss: 7569.1191 - mae: 7569.1191\n",
      "Epoch 4/100\n",
      "34/34 [==============================] - 0s 577us/step - loss: 7605.4058 - mae: 7605.4058\n",
      "Epoch 5/100\n",
      "34/34 [==============================] - 0s 607us/step - loss: 7675.4165 - mae: 7675.4165\n",
      "Epoch 6/100\n",
      "34/34 [==============================] - 0s 576us/step - loss: 7614.3164 - mae: 7614.3164\n",
      "Epoch 7/100\n",
      "34/34 [==============================] - 0s 939us/step - loss: 7586.2285 - mae: 7586.2285\n",
      "Epoch 8/100\n",
      "34/34 [==============================] - 0s 728us/step - loss: 7816.0557 - mae: 7816.0557\n",
      "Epoch 9/100\n",
      "34/34 [==============================] - 0s 577us/step - loss: 7635.3682 - mae: 7635.3682\n",
      "Epoch 10/100\n",
      "34/34 [==============================] - 0s 577us/step - loss: 7732.2529 - mae: 7732.2529\n",
      "Epoch 11/100\n",
      "34/34 [==============================] - 0s 606us/step - loss: 7634.8672 - mae: 7634.8672\n",
      "Epoch 12/100\n",
      "34/34 [==============================] - 0s 606us/step - loss: 7594.4829 - mae: 7594.4829\n",
      "Epoch 13/100\n",
      "34/34 [==============================] - 0s 607us/step - loss: 7607.9106 - mae: 7607.9106\n",
      "Epoch 14/100\n",
      "34/34 [==============================] - 0s 637us/step - loss: 7645.1108 - mae: 7645.1108\n",
      "Epoch 15/100\n",
      "34/34 [==============================] - 0s 577us/step - loss: 7400.9907 - mae: 7400.9907\n",
      "Epoch 16/100\n",
      "34/34 [==============================] - 0s 575us/step - loss: 7744.7241 - mae: 7744.7241\n",
      "Epoch 17/100\n",
      "34/34 [==============================] - 0s 666us/step - loss: 7461.9043 - mae: 7461.9043\n",
      "Epoch 18/100\n",
      "34/34 [==============================] - 0s 605us/step - loss: 7685.0918 - mae: 7685.0918\n",
      "Epoch 19/100\n",
      "34/34 [==============================] - 0s 606us/step - loss: 7810.2178 - mae: 7810.2178\n",
      "Epoch 20/100\n",
      "34/34 [==============================] - 0s 576us/step - loss: 7867.5708 - mae: 7867.5708\n",
      "Epoch 21/100\n",
      "34/34 [==============================] - 0s 636us/step - loss: 7453.5981 - mae: 7453.5981\n",
      "Epoch 22/100\n",
      "34/34 [==============================] - 0s 638us/step - loss: 7556.1621 - mae: 7556.1621\n",
      "Epoch 23/100\n",
      "34/34 [==============================] - 0s 636us/step - loss: 7492.6724 - mae: 7492.6724\n",
      "Epoch 24/100\n",
      "34/34 [==============================] - 0s 665us/step - loss: 7605.6235 - mae: 7605.6235\n",
      "Epoch 25/100\n",
      "34/34 [==============================] - 0s 697us/step - loss: 7539.3608 - mae: 7539.3608\n",
      "Epoch 26/100\n",
      "34/34 [==============================] - 0s 667us/step - loss: 7639.3398 - mae: 7639.3398\n",
      "Epoch 27/100\n",
      "34/34 [==============================] - 0s 638us/step - loss: 7712.6533 - mae: 7712.6533\n",
      "Epoch 28/100\n",
      "34/34 [==============================] - 0s 638us/step - loss: 7379.3271 - mae: 7379.3271\n",
      "Epoch 29/100\n",
      "34/34 [==============================] - 0s 607us/step - loss: 7659.2280 - mae: 7659.2280\n",
      "Epoch 30/100\n",
      "34/34 [==============================] - 0s 668us/step - loss: 7515.7139 - mae: 7515.7139\n",
      "Epoch 31/100\n",
      "34/34 [==============================] - 0s 665us/step - loss: 7469.6777 - mae: 7469.6777\n",
      "Epoch 32/100\n",
      "34/34 [==============================] - 0s 606us/step - loss: 7486.4883 - mae: 7486.4883\n",
      "Epoch 33/100\n",
      "34/34 [==============================] - 0s 636us/step - loss: 7416.7671 - mae: 7416.7671\n",
      "Epoch 34/100\n",
      "34/34 [==============================] - 0s 636us/step - loss: 7562.1196 - mae: 7562.1196\n",
      "Epoch 35/100\n",
      "34/34 [==============================] - 0s 636us/step - loss: 7495.0718 - mae: 7495.0718\n",
      "Epoch 36/100\n",
      "34/34 [==============================] - 0s 667us/step - loss: 7512.6904 - mae: 7512.6904\n",
      "Epoch 37/100\n",
      "34/34 [==============================] - 0s 577us/step - loss: 7610.1411 - mae: 7610.1411\n",
      "Epoch 38/100\n",
      "34/34 [==============================] - 0s 607us/step - loss: 7556.5923 - mae: 7556.5923\n",
      "Epoch 39/100\n",
      "34/34 [==============================] - 0s 697us/step - loss: 7533.4868 - mae: 7533.4868\n",
      "Epoch 40/100\n",
      "34/34 [==============================] - 0s 667us/step - loss: 7432.7222 - mae: 7432.7222\n",
      "Epoch 41/100\n",
      "34/34 [==============================] - 0s 667us/step - loss: 7637.1577 - mae: 7637.1577\n",
      "Epoch 42/100\n",
      "34/34 [==============================] - 0s 727us/step - loss: 7388.4033 - mae: 7388.4033\n",
      "Epoch 43/100\n",
      "34/34 [==============================] - 0s 697us/step - loss: 7528.0283 - mae: 7528.0283\n",
      "Epoch 44/100\n",
      "34/34 [==============================] - 0s 667us/step - loss: 7484.1533 - mae: 7484.1533\n",
      "Epoch 45/100\n",
      "34/34 [==============================] - 0s 667us/step - loss: 7480.2188 - mae: 7480.2188\n",
      "Epoch 46/100\n",
      "34/34 [==============================] - 0s 636us/step - loss: 7441.9834 - mae: 7441.9834\n",
      "Epoch 47/100\n",
      "34/34 [==============================] - 0s 576us/step - loss: 7367.6206 - mae: 7367.6206\n",
      "Epoch 48/100\n",
      "34/34 [==============================] - 0s 607us/step - loss: 7492.4526 - mae: 7492.4526\n",
      "Epoch 49/100\n",
      "34/34 [==============================] - 0s 576us/step - loss: 7534.9819 - mae: 7534.9819\n",
      "Epoch 50/100\n",
      "34/34 [==============================] - 0s 636us/step - loss: 7508.7134 - mae: 7508.7134\n",
      "Epoch 51/100\n",
      "34/34 [==============================] - 0s 605us/step - loss: 7310.4619 - mae: 7310.4619\n",
      "Epoch 52/100\n",
      "34/34 [==============================] - 0s 637us/step - loss: 7573.9399 - mae: 7573.9399\n",
      "Epoch 53/100\n",
      "34/34 [==============================] - 0s 607us/step - loss: 7600.2271 - mae: 7600.2271\n",
      "Epoch 54/100\n",
      "34/34 [==============================] - 0s 637us/step - loss: 7243.7466 - mae: 7243.7466\n",
      "Epoch 55/100\n",
      "34/34 [==============================] - 0s 879us/step - loss: 7219.6108 - mae: 7219.6108\n",
      "Epoch 56/100\n",
      "34/34 [==============================] - 0s 818us/step - loss: 7377.7837 - mae: 7377.7837\n",
      "Epoch 57/100\n",
      "34/34 [==============================] - 0s 696us/step - loss: 7264.8994 - mae: 7264.8994\n",
      "Epoch 58/100\n",
      "34/34 [==============================] - 0s 576us/step - loss: 7563.0508 - mae: 7563.0508\n",
      "Epoch 59/100\n",
      "34/34 [==============================] - 0s 668us/step - loss: 7665.2793 - mae: 7665.2793\n",
      "Epoch 60/100\n",
      "34/34 [==============================] - 0s 666us/step - loss: 7393.4307 - mae: 7393.4307\n",
      "Epoch 61/100\n",
      "34/34 [==============================] - 0s 576us/step - loss: 7596.0337 - mae: 7596.0337\n",
      "Epoch 62/100\n",
      "34/34 [==============================] - 0s 667us/step - loss: 7426.1426 - mae: 7426.1426\n",
      "Epoch 63/100\n",
      "34/34 [==============================] - 0s 637us/step - loss: 7387.5107 - mae: 7387.5107\n",
      "Epoch 64/100\n",
      "34/34 [==============================] - 0s 727us/step - loss: 7285.2764 - mae: 7285.2764\n",
      "Epoch 65/100\n",
      "34/34 [==============================] - 0s 577us/step - loss: 7522.4932 - mae: 7522.4932\n",
      "Epoch 66/100\n",
      "34/34 [==============================] - 0s 606us/step - loss: 7133.2632 - mae: 7133.2632\n",
      "Epoch 67/100\n",
      "34/34 [==============================] - 0s 636us/step - loss: 7251.3965 - mae: 7251.3965\n",
      "Epoch 68/100\n",
      "34/34 [==============================] - 0s 607us/step - loss: 7390.4805 - mae: 7390.4805\n",
      "Epoch 69/100\n",
      "34/34 [==============================] - 0s 696us/step - loss: 7469.6392 - mae: 7469.6392\n",
      "Epoch 70/100\n",
      "34/34 [==============================] - 0s 667us/step - loss: 7304.3325 - mae: 7304.3325\n",
      "Epoch 71/100\n",
      "34/34 [==============================] - 0s 667us/step - loss: 7278.2012 - mae: 7278.2012\n",
      "Epoch 72/100\n",
      "34/34 [==============================] - 0s 667us/step - loss: 7377.1460 - mae: 7377.1460\n",
      "Epoch 73/100\n",
      "34/34 [==============================] - 0s 636us/step - loss: 7416.4570 - mae: 7416.4570\n",
      "Epoch 74/100\n",
      "34/34 [==============================] - 0s 667us/step - loss: 7400.8662 - mae: 7400.8662\n",
      "Epoch 75/100\n",
      "34/34 [==============================] - 0s 667us/step - loss: 7155.2739 - mae: 7155.2739\n",
      "Epoch 76/100\n",
      "34/34 [==============================] - 0s 667us/step - loss: 7020.4814 - mae: 7020.4814\n",
      "Epoch 77/100\n",
      "34/34 [==============================] - 0s 667us/step - loss: 7368.6694 - mae: 7368.6694\n",
      "Epoch 78/100\n",
      "34/34 [==============================] - 0s 667us/step - loss: 7230.3335 - mae: 7230.3335\n",
      "Epoch 79/100\n",
      "34/34 [==============================] - 0s 667us/step - loss: 7508.5674 - mae: 7508.5674\n",
      "Epoch 80/100\n",
      "34/34 [==============================] - 0s 697us/step - loss: 7062.4229 - mae: 7062.4229\n",
      "Epoch 81/100\n",
      "34/34 [==============================] - 0s 697us/step - loss: 7267.4673 - mae: 7267.4673\n",
      "Epoch 82/100\n",
      "34/34 [==============================] - 0s 636us/step - loss: 7210.2412 - mae: 7210.2412\n",
      "Epoch 83/100\n",
      "34/34 [==============================] - 0s 636us/step - loss: 7621.6050 - mae: 7621.6050\n",
      "Epoch 84/100\n",
      "34/34 [==============================] - 0s 697us/step - loss: 7409.5874 - mae: 7409.5874\n",
      "Epoch 85/100\n",
      "34/34 [==============================] - 0s 607us/step - loss: 7557.6748 - mae: 7557.6748\n",
      "Epoch 86/100\n",
      "34/34 [==============================] - 0s 698us/step - loss: 7585.0928 - mae: 7585.0928\n",
      "Epoch 87/100\n",
      "34/34 [==============================] - 0s 577us/step - loss: 7293.2295 - mae: 7293.2295\n",
      "Epoch 88/100\n",
      "34/34 [==============================] - 0s 697us/step - loss: 7332.9097 - mae: 7332.9097\n",
      "Epoch 89/100\n",
      "34/34 [==============================] - 0s 577us/step - loss: 7423.3213 - mae: 7423.3213\n",
      "Epoch 90/100\n",
      "34/34 [==============================] - 0s 606us/step - loss: 7054.6235 - mae: 7054.6235\n",
      "Epoch 91/100\n",
      "34/34 [==============================] - 0s 606us/step - loss: 7157.0220 - mae: 7157.0220\n",
      "Epoch 92/100\n",
      "34/34 [==============================] - 0s 577us/step - loss: 7257.1450 - mae: 7257.1450\n",
      "Epoch 93/100\n",
      "34/34 [==============================] - 0s 547us/step - loss: 7553.5107 - mae: 7553.5107\n",
      "Epoch 94/100\n",
      "34/34 [==============================] - 0s 606us/step - loss: 7228.6509 - mae: 7228.6509\n",
      "Epoch 95/100\n",
      "34/34 [==============================] - 0s 547us/step - loss: 7353.9414 - mae: 7353.9414\n",
      "Epoch 96/100\n",
      "34/34 [==============================] - 0s 909us/step - loss: 7309.2383 - mae: 7309.2383\n",
      "Epoch 97/100\n",
      "34/34 [==============================] - 0s 698us/step - loss: 7131.5493 - mae: 7131.5493\n",
      "Epoch 98/100\n",
      "34/34 [==============================] - 0s 637us/step - loss: 7506.8677 - mae: 7506.8677\n",
      "Epoch 99/100\n",
      "34/34 [==============================] - 0s 576us/step - loss: 7314.9004 - mae: 7314.9004\n",
      "Epoch 100/100\n",
      "34/34 [==============================] - 0s 577us/step - loss: 7384.3608 - mae: 7384.3608\n"
     ]
    },
    {
     "data": {
      "text/plain": [
       "<keras.callbacks.History at 0x1d9712e1640>"
      ]
     },
     "execution_count": 93,
     "metadata": {},
     "output_type": "execute_result"
    }
   ],
   "source": [
    "# Build a neural network (sort or like model_2 above)\n",
    "tf.random.set_seed(42)\n",
    "\n",
    "# 1. Create a model\n",
    "insurance_model = tf.keras.Sequential([\n",
    "  tf.keras.layers.Dense(10),\n",
    "  tf.keras.layers.Dense(1)\n",
    "])\n",
    "\n",
    "# 2. Compile the model\n",
    "insurance_model.compile(loss=tf.keras.losses.mae,\n",
    "                        optimizer=tf.keras.optimizers.SGD(),\n",
    "                        metrics=[\"mae\"])\n",
    "\n",
    "# 3. Fit the model\n",
    "insurance_model.fit(tf.expand_dims(X_train, axis=1), y_train, epochs=100)"
   ]
  },
  {
   "cell_type": "code",
   "execution_count": 94,
   "metadata": {},
   "outputs": [
    {
     "name": "stdout",
     "output_type": "stream",
     "text": [
      "9/9 [==============================] - 0s 871us/step - loss: 8650.1094 - mae: 8650.1094\n"
     ]
    },
    {
     "data": {
      "text/plain": [
       "[8650.109375, 8650.109375]"
      ]
     },
     "execution_count": 94,
     "metadata": {},
     "output_type": "execute_result"
    }
   ],
   "source": [
    "# Check the results of the insurance model on the test data\n",
    "insurance_model.evaluate(X_test, y_test)"
   ]
  },
  {
   "cell_type": "code",
   "execution_count": 95,
   "metadata": {},
   "outputs": [
    {
     "data": {
      "text/plain": [
       "(9575.4421, 13346.089736364485)"
      ]
     },
     "execution_count": 95,
     "metadata": {},
     "output_type": "execute_result"
    }
   ],
   "source": [
    "y_train.median(), y_train.mean()"
   ]
  },
  {
   "cell_type": "markdown",
   "metadata": {},
   "source": [
    "Right now it looks like our model isn't performing too well... let's try and improve it!\n",
    "\n",
    "To (try) improve our model, we'll run 2 experiments:\n",
    "1. Add an extra layer with more hidden units and use the Adam optimizer\n",
    "2. Same as above but Train for longer\n",
    "3. (insert your own experiment here)"
   ]
  },
  {
   "cell_type": "code",
   "execution_count": 96,
   "metadata": {},
   "outputs": [
    {
     "data": {
      "text/plain": [
       "(      age     bmi  children  sex_female  sex_male  smoker_no  smoker_yes  \\\n",
       " 560    46  19.950         2           1         0          1           0   \n",
       " 1285   47  24.320         0           1         0          1           0   \n",
       " 1142   52  24.860         0           1         0          1           0   \n",
       " 969    39  34.320         5           1         0          1           0   \n",
       " 486    54  21.470         3           1         0          1           0   \n",
       " ...   ...     ...       ...         ...       ...        ...         ...   \n",
       " 1095   18  31.350         4           1         0          1           0   \n",
       " 1130   39  23.870         5           1         0          1           0   \n",
       " 1294   58  25.175         0           0         1          1           0   \n",
       " 860    37  47.600         2           1         0          0           1   \n",
       " 1126   55  29.900         0           0         1          1           0   \n",
       " \n",
       "       region_northeast  region_northwest  region_southeast  region_southwest  \n",
       " 560                  0                 1                 0                 0  \n",
       " 1285                 1                 0                 0                 0  \n",
       " 1142                 0                 0                 1                 0  \n",
       " 969                  0                 0                 1                 0  \n",
       " 486                  0                 1                 0                 0  \n",
       " ...                ...               ...               ...               ...  \n",
       " 1095                 1                 0                 0                 0  \n",
       " 1130                 0                 0                 1                 0  \n",
       " 1294                 1                 0                 0                 0  \n",
       " 860                  0                 0                 0                 1  \n",
       " 1126                 0                 0                 0                 1  \n",
       " \n",
       " [1070 rows x 11 columns],\n",
       " 560      9193.83850\n",
       " 1285     8534.67180\n",
       " 1142    27117.99378\n",
       " 969      8596.82780\n",
       " 486     12475.35130\n",
       "            ...     \n",
       " 1095     4561.18850\n",
       " 1130     8582.30230\n",
       " 1294    11931.12525\n",
       " 860     46113.51100\n",
       " 1126    10214.63600\n",
       " Name: charges, Length: 1070, dtype: float64)"
      ]
     },
     "execution_count": 96,
     "metadata": {},
     "output_type": "execute_result"
    }
   ],
   "source": [
    "X_train, y_train"
   ]
  },
  {
   "cell_type": "code",
   "execution_count": 97,
   "metadata": {},
   "outputs": [
    {
     "name": "stdout",
     "output_type": "stream",
     "text": [
      "Epoch 1/100\n",
      "34/34 [==============================] - 0s 818us/step - loss: 13294.9492 - mae: 13294.9492\n",
      "Epoch 2/100\n",
      "34/34 [==============================] - 0s 1ms/step - loss: 13127.4307 - mae: 13127.4307\n",
      "Epoch 3/100\n",
      "34/34 [==============================] - 0s 824us/step - loss: 12779.5820 - mae: 12779.5820\n",
      "Epoch 4/100\n",
      "34/34 [==============================] - 0s 636us/step - loss: 12093.8691 - mae: 12093.8691\n",
      "Epoch 5/100\n",
      "34/34 [==============================] - 0s 697us/step - loss: 10938.9814 - mae: 10938.9814\n",
      "Epoch 6/100\n",
      "34/34 [==============================] - 0s 636us/step - loss: 9462.5674 - mae: 9462.5674\n",
      "Epoch 7/100\n",
      "34/34 [==============================] - 0s 636us/step - loss: 8126.0000 - mae: 8126.0000\n",
      "Epoch 8/100\n",
      "34/34 [==============================] - 0s 697us/step - loss: 7508.4224 - mae: 7508.4224\n",
      "Epoch 9/100\n",
      "34/34 [==============================] - 0s 636us/step - loss: 7414.5537 - mae: 7414.5537\n",
      "Epoch 10/100\n",
      "34/34 [==============================] - 0s 667us/step - loss: 7394.6836 - mae: 7394.6836\n",
      "Epoch 11/100\n",
      "34/34 [==============================] - 0s 667us/step - loss: 7375.2515 - mae: 7375.2515\n",
      "Epoch 12/100\n",
      "34/34 [==============================] - 0s 636us/step - loss: 7352.6636 - mae: 7352.6636\n",
      "Epoch 13/100\n",
      "34/34 [==============================] - 0s 667us/step - loss: 7331.6641 - mae: 7331.6641\n",
      "Epoch 14/100\n",
      "34/34 [==============================] - 0s 727us/step - loss: 7308.9106 - mae: 7308.9106\n",
      "Epoch 15/100\n",
      "34/34 [==============================] - 0s 636us/step - loss: 7289.4785 - mae: 7289.4785\n",
      "Epoch 16/100\n",
      "34/34 [==============================] - 0s 667us/step - loss: 7266.5693 - mae: 7266.5693\n",
      "Epoch 17/100\n",
      "34/34 [==============================] - 0s 606us/step - loss: 7244.9614 - mae: 7244.9614\n",
      "Epoch 18/100\n",
      "34/34 [==============================] - 0s 667us/step - loss: 7221.4272 - mae: 7221.4272\n",
      "Epoch 19/100\n",
      "34/34 [==============================] - 0s 636us/step - loss: 7197.8618 - mae: 7197.8618\n",
      "Epoch 20/100\n",
      "34/34 [==============================] - 0s 606us/step - loss: 7173.0161 - mae: 7173.0161\n",
      "Epoch 21/100\n",
      "34/34 [==============================] - 0s 697us/step - loss: 7153.2065 - mae: 7153.2065\n",
      "Epoch 22/100\n",
      "34/34 [==============================] - 0s 636us/step - loss: 7124.2847 - mae: 7124.2847\n",
      "Epoch 23/100\n",
      "34/34 [==============================] - 0s 667us/step - loss: 7098.1343 - mae: 7098.1343\n",
      "Epoch 24/100\n",
      "34/34 [==============================] - 0s 636us/step - loss: 7071.1948 - mae: 7071.1948\n",
      "Epoch 25/100\n",
      "34/34 [==============================] - 0s 667us/step - loss: 7051.1597 - mae: 7051.1597\n",
      "Epoch 26/100\n",
      "34/34 [==============================] - 0s 636us/step - loss: 7017.8936 - mae: 7017.8936\n",
      "Epoch 27/100\n",
      "34/34 [==============================] - 0s 636us/step - loss: 6987.9131 - mae: 6987.9131\n",
      "Epoch 28/100\n",
      "34/34 [==============================] - 0s 667us/step - loss: 6957.8921 - mae: 6957.8921\n",
      "Epoch 29/100\n",
      "34/34 [==============================] - 0s 667us/step - loss: 6927.4507 - mae: 6927.4507\n",
      "Epoch 30/100\n",
      "34/34 [==============================] - 0s 667us/step - loss: 6899.4360 - mae: 6899.4360\n",
      "Epoch 31/100\n",
      "34/34 [==============================] - 0s 667us/step - loss: 6866.3818 - mae: 6866.3818\n",
      "Epoch 32/100\n",
      "34/34 [==============================] - 0s 636us/step - loss: 6835.8545 - mae: 6835.8545\n",
      "Epoch 33/100\n",
      "34/34 [==============================] - 0s 910us/step - loss: 6801.9062 - mae: 6801.9062\n",
      "Epoch 34/100\n",
      "34/34 [==============================] - 0s 909us/step - loss: 6768.3726 - mae: 6768.3726\n",
      "Epoch 35/100\n",
      "34/34 [==============================] - 0s 606us/step - loss: 6732.4092 - mae: 6732.4092\n",
      "Epoch 36/100\n",
      "34/34 [==============================] - 0s 697us/step - loss: 6696.6616 - mae: 6696.6616\n",
      "Epoch 37/100\n",
      "34/34 [==============================] - 0s 636us/step - loss: 6659.4351 - mae: 6659.4351\n",
      "Epoch 38/100\n",
      "34/34 [==============================] - 0s 636us/step - loss: 6628.7202 - mae: 6628.7202\n",
      "Epoch 39/100\n",
      "34/34 [==============================] - 0s 697us/step - loss: 6589.4907 - mae: 6589.4907\n",
      "Epoch 40/100\n",
      "34/34 [==============================] - 0s 637us/step - loss: 6558.5088 - mae: 6558.5088\n",
      "Epoch 41/100\n",
      "34/34 [==============================] - 0s 667us/step - loss: 6533.2168 - mae: 6533.2168\n",
      "Epoch 42/100\n",
      "34/34 [==============================] - 0s 636us/step - loss: 6512.3389 - mae: 6512.3389\n",
      "Epoch 43/100\n",
      "34/34 [==============================] - 0s 606us/step - loss: 6491.0767 - mae: 6491.0767\n",
      "Epoch 44/100\n",
      "34/34 [==============================] - 0s 667us/step - loss: 6473.4062 - mae: 6473.4062\n",
      "Epoch 45/100\n",
      "34/34 [==============================] - 0s 667us/step - loss: 6463.5024 - mae: 6463.5024\n",
      "Epoch 46/100\n",
      "34/34 [==============================] - 0s 667us/step - loss: 6446.2959 - mae: 6446.2959\n",
      "Epoch 47/100\n",
      "34/34 [==============================] - 0s 636us/step - loss: 6430.6470 - mae: 6430.6470\n",
      "Epoch 48/100\n",
      "34/34 [==============================] - 0s 606us/step - loss: 6417.2935 - mae: 6417.2935\n",
      "Epoch 49/100\n",
      "34/34 [==============================] - 0s 636us/step - loss: 6406.0166 - mae: 6406.0166\n",
      "Epoch 50/100\n",
      "34/34 [==============================] - 0s 667us/step - loss: 6390.9004 - mae: 6390.9004\n",
      "Epoch 51/100\n",
      "34/34 [==============================] - 0s 667us/step - loss: 6377.6094 - mae: 6377.6094\n",
      "Epoch 52/100\n",
      "34/34 [==============================] - 0s 636us/step - loss: 6364.4287 - mae: 6364.4287\n",
      "Epoch 53/100\n",
      "34/34 [==============================] - 0s 636us/step - loss: 6350.0430 - mae: 6350.0430\n",
      "Epoch 54/100\n",
      "34/34 [==============================] - 0s 636us/step - loss: 6335.7495 - mae: 6335.7495\n",
      "Epoch 55/100\n",
      "34/34 [==============================] - 0s 636us/step - loss: 6321.1997 - mae: 6321.1997\n",
      "Epoch 56/100\n",
      "34/34 [==============================] - 0s 636us/step - loss: 6306.8853 - mae: 6306.8853\n",
      "Epoch 57/100\n",
      "34/34 [==============================] - 0s 606us/step - loss: 6292.1606 - mae: 6292.1606\n",
      "Epoch 58/100\n",
      "34/34 [==============================] - 0s 667us/step - loss: 6279.1064 - mae: 6279.1064\n",
      "Epoch 59/100\n",
      "34/34 [==============================] - 0s 606us/step - loss: 6261.5776 - mae: 6261.5776\n",
      "Epoch 60/100\n",
      "34/34 [==============================] - 0s 636us/step - loss: 6250.4468 - mae: 6250.4468\n",
      "Epoch 61/100\n",
      "34/34 [==============================] - 0s 636us/step - loss: 6228.7178 - mae: 6228.7178\n",
      "Epoch 62/100\n",
      "34/34 [==============================] - 0s 636us/step - loss: 6215.2988 - mae: 6215.2988\n",
      "Epoch 63/100\n",
      "34/34 [==============================] - 0s 1ms/step - loss: 6196.5181 - mae: 6196.5181\n",
      "Epoch 64/100\n",
      "34/34 [==============================] - 0s 636us/step - loss: 6178.1060 - mae: 6178.1060\n",
      "Epoch 65/100\n",
      "34/34 [==============================] - 0s 788us/step - loss: 6159.7681 - mae: 6159.7681\n",
      "Epoch 66/100\n",
      "34/34 [==============================] - 0s 667us/step - loss: 6140.9131 - mae: 6140.9131\n",
      "Epoch 67/100\n",
      "34/34 [==============================] - 0s 606us/step - loss: 6127.4946 - mae: 6127.4946\n",
      "Epoch 68/100\n",
      "34/34 [==============================] - 0s 667us/step - loss: 6103.5439 - mae: 6103.5439\n",
      "Epoch 69/100\n",
      "34/34 [==============================] - 0s 667us/step - loss: 6084.8311 - mae: 6084.8311\n",
      "Epoch 70/100\n",
      "34/34 [==============================] - 0s 636us/step - loss: 6063.0156 - mae: 6063.0156\n",
      "Epoch 71/100\n",
      "34/34 [==============================] - 0s 636us/step - loss: 6041.7222 - mae: 6041.7222\n",
      "Epoch 72/100\n",
      "34/34 [==============================] - 0s 606us/step - loss: 6020.4512 - mae: 6020.4512\n",
      "Epoch 73/100\n",
      "34/34 [==============================] - 0s 667us/step - loss: 6003.7744 - mae: 6003.7744\n",
      "Epoch 74/100\n",
      "34/34 [==============================] - 0s 606us/step - loss: 5972.6895 - mae: 5972.6895\n",
      "Epoch 75/100\n",
      "34/34 [==============================] - 0s 636us/step - loss: 5950.5723 - mae: 5950.5723\n",
      "Epoch 76/100\n",
      "34/34 [==============================] - 0s 667us/step - loss: 5931.3623 - mae: 5931.3623\n",
      "Epoch 77/100\n",
      "34/34 [==============================] - 0s 636us/step - loss: 5898.0488 - mae: 5898.0488\n",
      "Epoch 78/100\n",
      "34/34 [==============================] - 0s 697us/step - loss: 5870.8442 - mae: 5870.8442\n",
      "Epoch 79/100\n",
      "34/34 [==============================] - 0s 636us/step - loss: 5843.0654 - mae: 5843.0654\n",
      "Epoch 80/100\n",
      "34/34 [==============================] - 0s 636us/step - loss: 5811.6299 - mae: 5811.6299\n",
      "Epoch 81/100\n",
      "34/34 [==============================] - 0s 636us/step - loss: 5783.1484 - mae: 5783.1484\n",
      "Epoch 82/100\n",
      "34/34 [==============================] - 0s 636us/step - loss: 5749.9604 - mae: 5749.9604\n",
      "Epoch 83/100\n",
      "34/34 [==============================] - 0s 667us/step - loss: 5718.8145 - mae: 5718.8145\n",
      "Epoch 84/100\n",
      "34/34 [==============================] - 0s 636us/step - loss: 5680.1631 - mae: 5680.1631\n",
      "Epoch 85/100\n",
      "34/34 [==============================] - 0s 667us/step - loss: 5648.7705 - mae: 5648.7705\n",
      "Epoch 86/100\n",
      "34/34 [==============================] - 0s 636us/step - loss: 5611.2119 - mae: 5611.2119\n",
      "Epoch 87/100\n",
      "34/34 [==============================] - 0s 636us/step - loss: 5568.8569 - mae: 5568.8569\n",
      "Epoch 88/100\n",
      "34/34 [==============================] - 0s 697us/step - loss: 5528.2568 - mae: 5528.2568\n",
      "Epoch 89/100\n",
      "34/34 [==============================] - 0s 636us/step - loss: 5482.8706 - mae: 5482.8706\n",
      "Epoch 90/100\n",
      "34/34 [==============================] - 0s 667us/step - loss: 5435.0723 - mae: 5435.0723\n",
      "Epoch 91/100\n",
      "34/34 [==============================] - 0s 1ms/step - loss: 5390.0142 - mae: 5390.0142\n",
      "Epoch 92/100\n",
      "34/34 [==============================] - 0s 667us/step - loss: 5338.5386 - mae: 5338.5386\n",
      "Epoch 93/100\n",
      "34/34 [==============================] - 0s 636us/step - loss: 5287.9751 - mae: 5287.9751\n",
      "Epoch 94/100\n",
      "34/34 [==============================] - 0s 666us/step - loss: 5234.8081 - mae: 5234.8081\n",
      "Epoch 95/100\n",
      "34/34 [==============================] - 0s 636us/step - loss: 5173.9160 - mae: 5173.9160\n",
      "Epoch 96/100\n",
      "34/34 [==============================] - 0s 636us/step - loss: 5120.7549 - mae: 5120.7549\n",
      "Epoch 97/100\n",
      "34/34 [==============================] - 0s 606us/step - loss: 5059.0610 - mae: 5059.0610\n",
      "Epoch 98/100\n",
      "34/34 [==============================] - 0s 667us/step - loss: 4989.2114 - mae: 4989.2114\n",
      "Epoch 99/100\n",
      "34/34 [==============================] - 0s 636us/step - loss: 4919.2905 - mae: 4919.2905\n",
      "Epoch 100/100\n",
      "34/34 [==============================] - 0s 636us/step - loss: 4857.3730 - mae: 4857.3730\n"
     ]
    },
    {
     "data": {
      "text/plain": [
       "<keras.callbacks.History at 0x1d9713e5c10>"
      ]
     },
     "execution_count": 97,
     "metadata": {},
     "output_type": "execute_result"
    }
   ],
   "source": [
    "# Set random seed\n",
    "tf.random.set_seed(42)\n",
    "\n",
    "# 1. Create the model\n",
    "insurance_model_2 = tf.keras.Sequential([\n",
    "  tf.keras.layers.Dense(100),\n",
    "  tf.keras.layers.Dense(10),\n",
    "  tf.keras.layers.Dense(1)\n",
    "])\n",
    "\n",
    "# 2. Compile the model\n",
    "insurance_model_2.compile(loss=tf.keras.losses.mae,\n",
    "                          optimizer=tf.keras.optimizers.Adam(),\n",
    "                          metrics=[\"mae\"])\n",
    "\n",
    "# 3. Fit the model\n",
    "insurance_model_2.fit(tf.expand_dims(X_train, axis=1), y_train, epochs=100, verbose=1)"
   ]
  },
  {
   "cell_type": "code",
   "execution_count": 98,
   "metadata": {},
   "outputs": [
    {
     "name": "stdout",
     "output_type": "stream",
     "text": [
      "9/9 [==============================] - 0s 875us/step - loss: 4733.0308 - mae: 4733.0308\n"
     ]
    },
    {
     "data": {
      "text/plain": [
       "[4733.03076171875, 4733.03076171875]"
      ]
     },
     "execution_count": 98,
     "metadata": {},
     "output_type": "execute_result"
    }
   ],
   "source": [
    "# Evaluate the larger model\n",
    "insurance_model_2.evaluate(X_test, y_test)"
   ]
  },
  {
   "cell_type": "code",
   "execution_count": 99,
   "metadata": {},
   "outputs": [
    {
     "name": "stdout",
     "output_type": "stream",
     "text": [
      "9/9 [==============================] - 0s 750us/step - loss: 8650.1094 - mae: 8650.1094\n"
     ]
    },
    {
     "data": {
      "text/plain": [
       "[8650.109375, 8650.109375]"
      ]
     },
     "execution_count": 99,
     "metadata": {},
     "output_type": "execute_result"
    }
   ],
   "source": [
    "insurance_model.evaluate(X_test, y_test)"
   ]
  },
  {
   "cell_type": "code",
   "execution_count": 100,
   "metadata": {},
   "outputs": [
    {
     "name": "stdout",
     "output_type": "stream",
     "text": [
      "Epoch 1/200\n",
      "34/34 [==============================] - 1s 818us/step - loss: 13300.3721 - mae: 13300.3721\n",
      "Epoch 2/200\n",
      "34/34 [==============================] - 0s 697us/step - loss: 13170.8506 - mae: 13170.8506\n",
      "Epoch 3/200\n",
      "34/34 [==============================] - 0s 697us/step - loss: 12903.2334 - mae: 12903.2334\n",
      "Epoch 4/200\n",
      "34/34 [==============================] - 0s 636us/step - loss: 12358.8086 - mae: 12358.8086\n",
      "Epoch 5/200\n",
      "34/34 [==============================] - 0s 636us/step - loss: 11387.1738 - mae: 11387.1738\n",
      "Epoch 6/200\n",
      "34/34 [==============================] - 0s 636us/step - loss: 9999.2021 - mae: 9999.2021\n",
      "Epoch 7/200\n",
      "34/34 [==============================] - 0s 606us/step - loss: 8548.3672 - mae: 8548.3672\n",
      "Epoch 8/200\n",
      "34/34 [==============================] - 0s 667us/step - loss: 7649.9360 - mae: 7649.9360\n",
      "Epoch 9/200\n",
      "34/34 [==============================] - 0s 667us/step - loss: 7445.5640 - mae: 7445.5640\n",
      "Epoch 10/200\n",
      "34/34 [==============================] - 0s 727us/step - loss: 7419.6328 - mae: 7419.6328\n",
      "Epoch 11/200\n",
      "34/34 [==============================] - 0s 697us/step - loss: 7401.1187 - mae: 7401.1187\n",
      "Epoch 12/200\n",
      "34/34 [==============================] - 0s 788us/step - loss: 7379.8022 - mae: 7379.8022\n",
      "Epoch 13/200\n",
      "34/34 [==============================] - 0s 606us/step - loss: 7360.1089 - mae: 7360.1089\n",
      "Epoch 14/200\n",
      "34/34 [==============================] - 0s 667us/step - loss: 7338.6387 - mae: 7338.6387\n",
      "Epoch 15/200\n",
      "34/34 [==============================] - 0s 606us/step - loss: 7320.2778 - mae: 7320.2778\n",
      "Epoch 16/200\n",
      "34/34 [==============================] - 0s 667us/step - loss: 7298.3472 - mae: 7298.3472\n",
      "Epoch 17/200\n",
      "34/34 [==============================] - 0s 636us/step - loss: 7279.8374 - mae: 7279.8374\n",
      "Epoch 18/200\n",
      "34/34 [==============================] - 0s 606us/step - loss: 7257.0352 - mae: 7257.0352\n",
      "Epoch 19/200\n",
      "34/34 [==============================] - 0s 667us/step - loss: 7235.8262 - mae: 7235.8262\n",
      "Epoch 20/200\n",
      "34/34 [==============================] - 0s 1ms/step - loss: 7213.5747 - mae: 7213.5747\n",
      "Epoch 21/200\n",
      "34/34 [==============================] - 0s 697us/step - loss: 7195.2632 - mae: 7195.2632\n",
      "Epoch 22/200\n",
      "34/34 [==============================] - 0s 667us/step - loss: 7169.5215 - mae: 7169.5215\n",
      "Epoch 23/200\n",
      "34/34 [==============================] - 0s 697us/step - loss: 7145.5332 - mae: 7145.5332\n",
      "Epoch 24/200\n",
      "34/34 [==============================] - 0s 636us/step - loss: 7122.1294 - mae: 7122.1294\n",
      "Epoch 25/200\n",
      "34/34 [==============================] - 0s 636us/step - loss: 7105.5137 - mae: 7105.5137\n",
      "Epoch 26/200\n",
      "34/34 [==============================] - 0s 666us/step - loss: 7074.3506 - mae: 7074.3506\n",
      "Epoch 27/200\n",
      "34/34 [==============================] - 0s 606us/step - loss: 7047.4985 - mae: 7047.4985\n",
      "Epoch 28/200\n",
      "34/34 [==============================] - 0s 636us/step - loss: 7020.9604 - mae: 7020.9604\n",
      "Epoch 29/200\n",
      "34/34 [==============================] - 0s 636us/step - loss: 6994.2407 - mae: 6994.2407\n",
      "Epoch 30/200\n",
      "34/34 [==============================] - 0s 576us/step - loss: 6968.6025 - mae: 6968.6025\n",
      "Epoch 31/200\n",
      "34/34 [==============================] - 0s 667us/step - loss: 6938.8896 - mae: 6938.8896\n",
      "Epoch 32/200\n",
      "34/34 [==============================] - 0s 606us/step - loss: 6912.3516 - mae: 6912.3516\n",
      "Epoch 33/200\n",
      "34/34 [==============================] - 0s 667us/step - loss: 6882.1880 - mae: 6882.1880\n",
      "Epoch 34/200\n",
      "34/34 [==============================] - 0s 606us/step - loss: 6851.5117 - mae: 6851.5117\n",
      "Epoch 35/200\n",
      "34/34 [==============================] - 0s 636us/step - loss: 6820.3486 - mae: 6820.3486\n",
      "Epoch 36/200\n",
      "34/34 [==============================] - 0s 606us/step - loss: 6787.6133 - mae: 6787.6133\n",
      "Epoch 37/200\n",
      "34/34 [==============================] - 0s 636us/step - loss: 6753.5288 - mae: 6753.5288\n",
      "Epoch 38/200\n",
      "34/34 [==============================] - 0s 636us/step - loss: 6721.5806 - mae: 6721.5806\n",
      "Epoch 39/200\n",
      "34/34 [==============================] - 0s 606us/step - loss: 6684.1382 - mae: 6684.1382\n",
      "Epoch 40/200\n",
      "34/34 [==============================] - 0s 788us/step - loss: 6649.2295 - mae: 6649.2295\n",
      "Epoch 41/200\n",
      "34/34 [==============================] - 0s 636us/step - loss: 6615.5840 - mae: 6615.5840\n",
      "Epoch 42/200\n",
      "34/34 [==============================] - 0s 636us/step - loss: 6586.8101 - mae: 6586.8101\n",
      "Epoch 43/200\n",
      "34/34 [==============================] - 0s 636us/step - loss: 6553.1299 - mae: 6553.1299\n",
      "Epoch 44/200\n",
      "34/34 [==============================] - 0s 606us/step - loss: 6526.5288 - mae: 6526.5288\n",
      "Epoch 45/200\n",
      "34/34 [==============================] - 0s 667us/step - loss: 6507.7930 - mae: 6507.7930\n",
      "Epoch 46/200\n",
      "34/34 [==============================] - 0s 606us/step - loss: 6487.8428 - mae: 6487.8428\n",
      "Epoch 47/200\n",
      "34/34 [==============================] - 0s 636us/step - loss: 6471.1343 - mae: 6471.1343\n",
      "Epoch 48/200\n",
      "34/34 [==============================] - 0s 636us/step - loss: 6454.4834 - mae: 6454.4834\n",
      "Epoch 49/200\n",
      "34/34 [==============================] - 0s 667us/step - loss: 6441.5142 - mae: 6441.5142\n",
      "Epoch 50/200\n",
      "34/34 [==============================] - 0s 636us/step - loss: 6427.6357 - mae: 6427.6357\n",
      "Epoch 51/200\n",
      "34/34 [==============================] - 0s 939us/step - loss: 6414.2451 - mae: 6414.2451\n",
      "Epoch 52/200\n",
      "34/34 [==============================] - 0s 667us/step - loss: 6402.7012 - mae: 6402.7012\n",
      "Epoch 53/200\n",
      "34/34 [==============================] - 0s 637us/step - loss: 6389.3867 - mae: 6389.3867\n",
      "Epoch 54/200\n",
      "34/34 [==============================] - 0s 636us/step - loss: 6375.7974 - mae: 6375.7974\n",
      "Epoch 55/200\n",
      "34/34 [==============================] - 0s 606us/step - loss: 6362.5376 - mae: 6362.5376\n",
      "Epoch 56/200\n",
      "34/34 [==============================] - 0s 667us/step - loss: 6348.7358 - mae: 6348.7358\n",
      "Epoch 57/200\n",
      "34/34 [==============================] - 0s 606us/step - loss: 6336.6582 - mae: 6336.6582\n",
      "Epoch 58/200\n",
      "34/34 [==============================] - 0s 667us/step - loss: 6322.3813 - mae: 6322.3813\n",
      "Epoch 59/200\n",
      "34/34 [==============================] - 0s 636us/step - loss: 6308.1143 - mae: 6308.1143\n",
      "Epoch 60/200\n",
      "34/34 [==============================] - 0s 667us/step - loss: 6297.6665 - mae: 6297.6665\n",
      "Epoch 61/200\n",
      "34/34 [==============================] - 0s 606us/step - loss: 6279.0840 - mae: 6279.0840\n",
      "Epoch 62/200\n",
      "34/34 [==============================] - 0s 636us/step - loss: 6267.1045 - mae: 6267.1045\n",
      "Epoch 63/200\n",
      "34/34 [==============================] - 0s 667us/step - loss: 6248.8496 - mae: 6248.8496\n",
      "Epoch 64/200\n",
      "34/34 [==============================] - 0s 606us/step - loss: 6233.4170 - mae: 6233.4170\n",
      "Epoch 65/200\n",
      "34/34 [==============================] - 0s 636us/step - loss: 6216.8408 - mae: 6216.8408\n",
      "Epoch 66/200\n",
      "34/34 [==============================] - 0s 636us/step - loss: 6200.4189 - mae: 6200.4189\n",
      "Epoch 67/200\n",
      "34/34 [==============================] - 0s 636us/step - loss: 6188.1255 - mae: 6188.1255\n",
      "Epoch 68/200\n",
      "34/34 [==============================] - 0s 636us/step - loss: 6166.7266 - mae: 6166.7266\n",
      "Epoch 69/200\n",
      "34/34 [==============================] - 0s 636us/step - loss: 6151.0903 - mae: 6151.0903\n",
      "Epoch 70/200\n",
      "34/34 [==============================] - 0s 636us/step - loss: 6131.3872 - mae: 6131.3872\n",
      "Epoch 71/200\n",
      "34/34 [==============================] - 0s 636us/step - loss: 6112.4800 - mae: 6112.4800\n",
      "Epoch 72/200\n",
      "34/34 [==============================] - 0s 667us/step - loss: 6094.8530 - mae: 6094.8530\n",
      "Epoch 73/200\n",
      "34/34 [==============================] - 0s 636us/step - loss: 6080.6392 - mae: 6080.6392\n",
      "Epoch 74/200\n",
      "34/34 [==============================] - 0s 636us/step - loss: 6054.6450 - mae: 6054.6450\n",
      "Epoch 75/200\n",
      "34/34 [==============================] - 0s 697us/step - loss: 6034.2129 - mae: 6034.2129\n",
      "Epoch 76/200\n",
      "34/34 [==============================] - 0s 606us/step - loss: 6020.0278 - mae: 6020.0278\n",
      "Epoch 77/200\n",
      "34/34 [==============================] - 0s 636us/step - loss: 5988.4404 - mae: 5988.4404\n",
      "Epoch 78/200\n",
      "34/34 [==============================] - 0s 606us/step - loss: 5966.8159 - mae: 5966.8159\n",
      "Epoch 79/200\n",
      "34/34 [==============================] - 0s 667us/step - loss: 5944.6108 - mae: 5944.6108\n",
      "Epoch 80/200\n",
      "34/34 [==============================] - 0s 909us/step - loss: 5918.6689 - mae: 5918.6689\n",
      "Epoch 81/200\n",
      "34/34 [==============================] - 0s 818us/step - loss: 5893.3975 - mae: 5893.3975\n",
      "Epoch 82/200\n",
      "34/34 [==============================] - 0s 727us/step - loss: 5866.0786 - mae: 5866.0786\n",
      "Epoch 83/200\n",
      "34/34 [==============================] - 0s 697us/step - loss: 5840.0303 - mae: 5840.0303\n",
      "Epoch 84/200\n",
      "34/34 [==============================] - 0s 697us/step - loss: 5807.3311 - mae: 5807.3311\n",
      "Epoch 85/200\n",
      "34/34 [==============================] - 0s 697us/step - loss: 5782.4775 - mae: 5782.4775\n",
      "Epoch 86/200\n",
      "34/34 [==============================] - 0s 667us/step - loss: 5749.4727 - mae: 5749.4727\n",
      "Epoch 87/200\n",
      "34/34 [==============================] - 0s 606us/step - loss: 5716.1865 - mae: 5716.1865\n",
      "Epoch 88/200\n",
      "34/34 [==============================] - 0s 727us/step - loss: 5684.3364 - mae: 5684.3364\n",
      "Epoch 89/200\n",
      "34/34 [==============================] - 0s 727us/step - loss: 5646.6685 - mae: 5646.6685\n",
      "Epoch 90/200\n",
      "34/34 [==============================] - 0s 667us/step - loss: 5608.3833 - mae: 5608.3833\n",
      "Epoch 91/200\n",
      "34/34 [==============================] - 0s 788us/step - loss: 5577.0640 - mae: 5577.0640\n",
      "Epoch 92/200\n",
      "34/34 [==============================] - 0s 727us/step - loss: 5528.9028 - mae: 5528.9028\n",
      "Epoch 93/200\n",
      "34/34 [==============================] - 0s 636us/step - loss: 5490.5464 - mae: 5490.5464\n",
      "Epoch 94/200\n",
      "34/34 [==============================] - 0s 606us/step - loss: 5450.4463 - mae: 5450.4463\n",
      "Epoch 95/200\n",
      "34/34 [==============================] - 0s 636us/step - loss: 5399.6655 - mae: 5399.6655\n",
      "Epoch 96/200\n",
      "34/34 [==============================] - 0s 667us/step - loss: 5359.1045 - mae: 5359.1045\n",
      "Epoch 97/200\n",
      "34/34 [==============================] - 0s 667us/step - loss: 5308.3584 - mae: 5308.3584\n",
      "Epoch 98/200\n",
      "34/34 [==============================] - 0s 667us/step - loss: 5251.1426 - mae: 5251.1426\n",
      "Epoch 99/200\n",
      "34/34 [==============================] - 0s 636us/step - loss: 5195.0132 - mae: 5195.0132\n",
      "Epoch 100/200\n",
      "34/34 [==============================] - 0s 667us/step - loss: 5142.2129 - mae: 5142.2129\n",
      "Epoch 101/200\n",
      "34/34 [==============================] - 0s 606us/step - loss: 5077.5513 - mae: 5077.5513\n",
      "Epoch 102/200\n",
      "34/34 [==============================] - 0s 606us/step - loss: 5014.4922 - mae: 5014.4922\n",
      "Epoch 103/200\n",
      "34/34 [==============================] - 0s 606us/step - loss: 4954.0469 - mae: 4954.0469\n",
      "Epoch 104/200\n",
      "34/34 [==============================] - 0s 667us/step - loss: 4880.1382 - mae: 4880.1382\n",
      "Epoch 105/200\n",
      "34/34 [==============================] - 0s 636us/step - loss: 4803.5669 - mae: 4803.5669\n",
      "Epoch 106/200\n",
      "34/34 [==============================] - 0s 606us/step - loss: 4725.8711 - mae: 4725.8711\n",
      "Epoch 107/200\n",
      "34/34 [==============================] - 0s 636us/step - loss: 4649.5527 - mae: 4649.5527\n",
      "Epoch 108/200\n",
      "34/34 [==============================] - 0s 606us/step - loss: 4562.5288 - mae: 4562.5288\n",
      "Epoch 109/200\n",
      "34/34 [==============================] - 0s 636us/step - loss: 4478.8066 - mae: 4478.8066\n",
      "Epoch 110/200\n",
      "34/34 [==============================] - 0s 1ms/step - loss: 4393.4390 - mae: 4393.4390\n",
      "Epoch 111/200\n",
      "34/34 [==============================] - 0s 667us/step - loss: 4309.1313 - mae: 4309.1313\n",
      "Epoch 112/200\n",
      "34/34 [==============================] - 0s 606us/step - loss: 4237.6431 - mae: 4237.6431\n",
      "Epoch 113/200\n",
      "34/34 [==============================] - 0s 636us/step - loss: 4155.3135 - mae: 4155.3135\n",
      "Epoch 114/200\n",
      "34/34 [==============================] - 0s 606us/step - loss: 4082.0625 - mae: 4082.0625\n",
      "Epoch 115/200\n",
      "34/34 [==============================] - 0s 697us/step - loss: 4016.6841 - mae: 4016.6841\n",
      "Epoch 116/200\n",
      "34/34 [==============================] - 0s 636us/step - loss: 3972.4084 - mae: 3972.4084\n",
      "Epoch 117/200\n",
      "34/34 [==============================] - 0s 636us/step - loss: 3952.4402 - mae: 3952.4402\n",
      "Epoch 118/200\n",
      "34/34 [==============================] - 0s 666us/step - loss: 3921.1182 - mae: 3921.1182\n",
      "Epoch 119/200\n",
      "34/34 [==============================] - 0s 606us/step - loss: 3888.0835 - mae: 3888.0835\n",
      "Epoch 120/200\n",
      "34/34 [==============================] - 0s 667us/step - loss: 3864.1545 - mae: 3864.1545\n",
      "Epoch 121/200\n",
      "34/34 [==============================] - 0s 667us/step - loss: 3849.4888 - mae: 3849.4888\n",
      "Epoch 122/200\n",
      "34/34 [==============================] - 0s 697us/step - loss: 3841.8604 - mae: 3841.8604\n",
      "Epoch 123/200\n",
      "34/34 [==============================] - 0s 727us/step - loss: 3835.3516 - mae: 3835.3516\n",
      "Epoch 124/200\n",
      "34/34 [==============================] - 0s 697us/step - loss: 3824.2263 - mae: 3824.2263\n",
      "Epoch 125/200\n",
      "34/34 [==============================] - 0s 606us/step - loss: 3809.5027 - mae: 3809.5027\n",
      "Epoch 126/200\n",
      "34/34 [==============================] - 0s 667us/step - loss: 3820.0786 - mae: 3820.0786\n",
      "Epoch 127/200\n",
      "34/34 [==============================] - 0s 636us/step - loss: 3807.5630 - mae: 3807.5630\n",
      "Epoch 128/200\n",
      "34/34 [==============================] - 0s 667us/step - loss: 3801.3640 - mae: 3801.3640\n",
      "Epoch 129/200\n",
      "34/34 [==============================] - 0s 636us/step - loss: 3808.5183 - mae: 3808.5183\n",
      "Epoch 130/200\n",
      "34/34 [==============================] - 0s 606us/step - loss: 3794.6709 - mae: 3794.6709\n",
      "Epoch 131/200\n",
      "34/34 [==============================] - 0s 667us/step - loss: 3789.3682 - mae: 3789.3682\n",
      "Epoch 132/200\n",
      "34/34 [==============================] - 0s 606us/step - loss: 3782.1697 - mae: 3782.1697\n",
      "Epoch 133/200\n",
      "34/34 [==============================] - 0s 727us/step - loss: 3776.9836 - mae: 3776.9836\n",
      "Epoch 134/200\n",
      "34/34 [==============================] - 0s 636us/step - loss: 3775.2280 - mae: 3775.2280\n",
      "Epoch 135/200\n",
      "34/34 [==============================] - 0s 606us/step - loss: 3772.6868 - mae: 3772.6868\n",
      "Epoch 136/200\n",
      "34/34 [==============================] - 0s 970us/step - loss: 3773.0513 - mae: 3773.0513\n",
      "Epoch 137/200\n",
      "34/34 [==============================] - 0s 727us/step - loss: 3782.5664 - mae: 3782.5664\n",
      "Epoch 138/200\n",
      "34/34 [==============================] - 0s 667us/step - loss: 3788.3564 - mae: 3788.3564\n",
      "Epoch 139/200\n",
      "34/34 [==============================] - 0s 606us/step - loss: 3767.5110 - mae: 3767.5110\n",
      "Epoch 140/200\n",
      "34/34 [==============================] - 0s 636us/step - loss: 3767.4265 - mae: 3767.4265\n",
      "Epoch 141/200\n",
      "34/34 [==============================] - 0s 697us/step - loss: 3768.5088 - mae: 3768.5088\n",
      "Epoch 142/200\n",
      "34/34 [==============================] - 0s 636us/step - loss: 3767.7126 - mae: 3767.7126\n",
      "Epoch 143/200\n",
      "34/34 [==============================] - 0s 667us/step - loss: 3759.4556 - mae: 3759.4556\n",
      "Epoch 144/200\n",
      "34/34 [==============================] - 0s 606us/step - loss: 3755.8545 - mae: 3755.8545\n",
      "Epoch 145/200\n",
      "34/34 [==============================] - 0s 727us/step - loss: 3757.6533 - mae: 3757.6533\n",
      "Epoch 146/200\n",
      "34/34 [==============================] - 0s 636us/step - loss: 3761.9451 - mae: 3761.9451\n",
      "Epoch 147/200\n",
      "34/34 [==============================] - 0s 606us/step - loss: 3757.4648 - mae: 3757.4648\n",
      "Epoch 148/200\n",
      "34/34 [==============================] - 0s 667us/step - loss: 3761.7576 - mae: 3761.7576\n",
      "Epoch 149/200\n",
      "34/34 [==============================] - 0s 606us/step - loss: 3749.0964 - mae: 3749.0964\n",
      "Epoch 150/200\n",
      "34/34 [==============================] - 0s 667us/step - loss: 3743.9202 - mae: 3743.9202\n",
      "Epoch 151/200\n",
      "34/34 [==============================] - 0s 636us/step - loss: 3747.4836 - mae: 3747.4836\n",
      "Epoch 152/200\n",
      "34/34 [==============================] - 0s 667us/step - loss: 3748.0107 - mae: 3748.0107\n",
      "Epoch 153/200\n",
      "34/34 [==============================] - 0s 606us/step - loss: 3749.2649 - mae: 3749.2649\n",
      "Epoch 154/200\n",
      "34/34 [==============================] - 0s 606us/step - loss: 3742.5662 - mae: 3742.5662\n",
      "Epoch 155/200\n",
      "34/34 [==============================] - 0s 667us/step - loss: 3744.9927 - mae: 3744.9927\n",
      "Epoch 156/200\n",
      "34/34 [==============================] - 0s 606us/step - loss: 3740.4983 - mae: 3740.4983\n",
      "Epoch 157/200\n",
      "34/34 [==============================] - 0s 636us/step - loss: 3738.9104 - mae: 3738.9104\n",
      "Epoch 158/200\n",
      "34/34 [==============================] - 0s 606us/step - loss: 3734.8037 - mae: 3734.8037\n",
      "Epoch 159/200\n",
      "34/34 [==============================] - 0s 636us/step - loss: 3733.2747 - mae: 3733.2747\n",
      "Epoch 160/200\n",
      "34/34 [==============================] - 0s 636us/step - loss: 3739.2722 - mae: 3739.2722\n",
      "Epoch 161/200\n",
      "34/34 [==============================] - 0s 970us/step - loss: 3733.9900 - mae: 3733.9900\n",
      "Epoch 162/200\n",
      "34/34 [==============================] - 0s 757us/step - loss: 3728.9150 - mae: 3728.9150\n",
      "Epoch 163/200\n",
      "34/34 [==============================] - 0s 667us/step - loss: 3728.6570 - mae: 3728.6570\n",
      "Epoch 164/200\n",
      "34/34 [==============================] - 0s 667us/step - loss: 3732.2444 - mae: 3732.2444\n",
      "Epoch 165/200\n",
      "34/34 [==============================] - 0s 636us/step - loss: 3722.3723 - mae: 3722.3723\n",
      "Epoch 166/200\n",
      "34/34 [==============================] - 0s 667us/step - loss: 3726.5132 - mae: 3726.5132\n",
      "Epoch 167/200\n",
      "34/34 [==============================] - 0s 636us/step - loss: 3727.9624 - mae: 3727.9624\n",
      "Epoch 168/200\n",
      "34/34 [==============================] - 0s 636us/step - loss: 3721.6860 - mae: 3721.6860\n",
      "Epoch 169/200\n",
      "34/34 [==============================] - 0s 667us/step - loss: 3720.1428 - mae: 3720.1428\n",
      "Epoch 170/200\n",
      "34/34 [==============================] - 0s 636us/step - loss: 3714.2278 - mae: 3714.2278\n",
      "Epoch 171/200\n",
      "34/34 [==============================] - 0s 667us/step - loss: 3714.0366 - mae: 3714.0366\n",
      "Epoch 172/200\n",
      "34/34 [==============================] - 0s 636us/step - loss: 3716.0181 - mae: 3716.0181\n",
      "Epoch 173/200\n",
      "34/34 [==============================] - 0s 636us/step - loss: 3710.2668 - mae: 3710.2668\n",
      "Epoch 174/200\n",
      "34/34 [==============================] - 0s 606us/step - loss: 3714.7317 - mae: 3714.7317\n",
      "Epoch 175/200\n",
      "34/34 [==============================] - 0s 758us/step - loss: 3717.5867 - mae: 3717.5867\n",
      "Epoch 176/200\n",
      "34/34 [==============================] - 0s 606us/step - loss: 3712.7468 - mae: 3712.7468\n",
      "Epoch 177/200\n",
      "34/34 [==============================] - 0s 636us/step - loss: 3705.5166 - mae: 3705.5166\n",
      "Epoch 178/200\n",
      "34/34 [==============================] - 0s 636us/step - loss: 3704.3508 - mae: 3704.3508\n",
      "Epoch 179/200\n",
      "34/34 [==============================] - 0s 606us/step - loss: 3713.1050 - mae: 3713.1050\n",
      "Epoch 180/200\n",
      "34/34 [==============================] - 0s 636us/step - loss: 3718.3940 - mae: 3718.3940\n",
      "Epoch 181/200\n",
      "34/34 [==============================] - 0s 636us/step - loss: 3702.7832 - mae: 3702.7832\n",
      "Epoch 182/200\n",
      "34/34 [==============================] - 0s 606us/step - loss: 3701.3706 - mae: 3701.3706\n",
      "Epoch 183/200\n",
      "34/34 [==============================] - 0s 636us/step - loss: 3699.0115 - mae: 3699.0115\n",
      "Epoch 184/200\n",
      "34/34 [==============================] - 0s 636us/step - loss: 3707.8501 - mae: 3707.8501\n",
      "Epoch 185/200\n",
      "34/34 [==============================] - 0s 636us/step - loss: 3700.0750 - mae: 3700.0750\n",
      "Epoch 186/200\n",
      "34/34 [==============================] - 0s 606us/step - loss: 3701.4985 - mae: 3701.4985\n",
      "Epoch 187/200\n",
      "34/34 [==============================] - 0s 727us/step - loss: 3695.3425 - mae: 3695.3425\n",
      "Epoch 188/200\n",
      "34/34 [==============================] - 0s 758us/step - loss: 3699.9600 - mae: 3699.9600\n",
      "Epoch 189/200\n",
      "34/34 [==============================] - 0s 848us/step - loss: 3691.0371 - mae: 3691.0371\n",
      "Epoch 190/200\n",
      "34/34 [==============================] - 0s 697us/step - loss: 3691.3672 - mae: 3691.3672\n",
      "Epoch 191/200\n",
      "34/34 [==============================] - 0s 727us/step - loss: 3707.5391 - mae: 3707.5391\n",
      "Epoch 192/200\n",
      "34/34 [==============================] - 0s 697us/step - loss: 3690.8391 - mae: 3690.8391\n",
      "Epoch 193/200\n",
      "34/34 [==============================] - 0s 667us/step - loss: 3682.3179 - mae: 3682.3179\n",
      "Epoch 194/200\n",
      "34/34 [==============================] - 0s 606us/step - loss: 3682.7778 - mae: 3682.7778\n",
      "Epoch 195/200\n",
      "34/34 [==============================] - 0s 606us/step - loss: 3681.1765 - mae: 3681.1765\n",
      "Epoch 196/200\n",
      "34/34 [==============================] - 0s 667us/step - loss: 3688.2405 - mae: 3688.2405\n",
      "Epoch 197/200\n",
      "34/34 [==============================] - 0s 636us/step - loss: 3673.2588 - mae: 3673.2588\n",
      "Epoch 198/200\n",
      "34/34 [==============================] - 0s 667us/step - loss: 3679.2175 - mae: 3679.2175\n",
      "Epoch 199/200\n",
      "34/34 [==============================] - 0s 606us/step - loss: 3688.0359 - mae: 3688.0359\n",
      "Epoch 200/200\n",
      "34/34 [==============================] - 0s 758us/step - loss: 3672.6414 - mae: 3672.6414\n"
     ]
    }
   ],
   "source": [
    "# Set random set\n",
    "tf.random.set_seed(42)\n",
    "\n",
    "# 1. Create the model (same as above)\n",
    "insurance_model_3 = tf.keras.Sequential([\n",
    "  tf.keras.layers.Dense(100),\n",
    "  tf.keras.layers.Dense(10),\n",
    "  tf.keras.layers.Dense(1),\n",
    "])\n",
    "\n",
    "# 2. Compile the model\n",
    "insurance_model_3.compile(loss=tf.keras.losses.mae,\n",
    "                          optimizer=tf.keras.optimizers.Adam(),\n",
    "                          metrics=[\"mae\"])\n",
    "\n",
    "# 3. Fit the model\n",
    "history = insurance_model_3.fit(tf.expand_dims(X_train, axis=1), y_train, epochs=200)"
   ]
  },
  {
   "cell_type": "code",
   "execution_count": 101,
   "metadata": {},
   "outputs": [
    {
     "name": "stdout",
     "output_type": "stream",
     "text": [
      "9/9 [==============================] - 0s 876us/step - loss: 3502.9939 - mae: 3502.9939\n"
     ]
    },
    {
     "data": {
      "text/plain": [
       "[3502.993896484375, 3502.993896484375]"
      ]
     },
     "execution_count": 101,
     "metadata": {},
     "output_type": "execute_result"
    }
   ],
   "source": [
    "insurance_model_3.evaluate(X_test, y_test)"
   ]
  },
  {
   "cell_type": "code",
   "execution_count": 102,
   "metadata": {},
   "outputs": [
    {
     "name": "stdout",
     "output_type": "stream",
     "text": [
      "9/9 [==============================] - 0s 877us/step - loss: 8650.1094 - mae: 8650.1094\n"
     ]
    },
    {
     "data": {
      "text/plain": [
       "[8650.109375, 8650.109375]"
      ]
     },
     "execution_count": 102,
     "metadata": {},
     "output_type": "execute_result"
    }
   ],
   "source": [
    "insurance_model.evaluate(X_test, y_test)"
   ]
  },
  {
   "cell_type": "code",
   "execution_count": 103,
   "metadata": {},
   "outputs": [
    {
     "data": {
      "text/plain": [
       "Text(0.5, 0, 'epochs')"
      ]
     },
     "execution_count": 103,
     "metadata": {},
     "output_type": "execute_result"
    },
    {
     "data": {
      "image/png": "[encoded data removed]",
      "text/plain": [
       "<Figure size 640x480 with 1 Axes>"
      ]
     },
     "metadata": {},
     "output_type": "display_data"
    }
   ],
   "source": [
    "# Plot history (also known as a loss curve or a training curve)\n",
    "pd.DataFrame(history.history).plot()\n",
    "plt.ylabel('loss')\n",
    "plt.xlabel('epochs')"
   ]
  },
  {
   "cell_type": "markdown",
   "metadata": {},
   "source": [
    "From this, it looks like our model's loss (and MAE) were both still decreasing (in our case, MAE and loss are the same, hence the lines in the plot overlap eachother).\n",
    "\n",
    "What this tells us is the loss might go down if we try training it for longer.\n",
    "\n",
    "> 🤔 **Question:** How long should you train for?\n",
    "\n",
    "> It depends on what problem you're working on. Sometimes training won't take very long, other times it'll take longer than you expect. A common method is to set your model training for a very long time (e.g. 1000's of epochs) but set it up with an [EarlyStopping callback](https://www.tensorflow.org/api_docs/python/tf/keras/callbacks/EarlyStopping) so it stops automatically when it stops improving. We'll see this in another module.\n",
    "\n",
    "Let's train the same model as above for a little longer. We can do this but calling fit on it again."
   ]
  },
  {
   "cell_type": "markdown",
   "metadata": {},
   "source": [
    "## Preprocessing data (normalization and standardization)\n",
    "\n",
    "A common practice when working with neural networks is to make sure all of the data you pass to them is in the range 0 to 1.\n",
    "\n",
    "This practice is called **normalization** (scaling all values from their original range to, e.g. between 0 and 100,000 to be between 0 and 1).\n",
    "\n",
    "There is another process call **standardization** which converts all of your data to unit variance and 0 mean.\n",
    "\n",
    "These two practices are often part of a preprocessing pipeline (a series of functions to prepare your data for use with neural networks).\n",
    "\n",
    "Knowing this, some of the major steps you'll take to preprocess your data for a neural network include:\n",
    "\n",
    "* Turning all of your data to numbers (a neural network can't handle strings).\n",
    "* Making sure your data is in the right shape (verifying input and output shapes).\n",
    "* [Feature scaling](https://scikit-learn.org/stable/modules/preprocessing.html#preprocessing-scaler):\n",
    "  * Normalizing data (making sure all values are between 0 and 1). This is done by subtracting the minimum value then dividing by the maximum value minus the minimum. This is also referred to as min-max scaling.\n",
    "  * Standardization (making sure all values have a mean of 0 and a variance of 1). This is done by subtracting the mean value from the target feature and then dividing it by the standard deviation.\n",
    "  * Which one should you use?\n",
    "    * **With neural networks you'll tend to favour normalization** as they tend to prefer values between 0 and 1 (you'll see this espcially with image processing), however, you'll often find a neural network can perform pretty well with minimal feature scaling.\n",
    "  > 📖 Resource: For more on preprocessing data, I'd recommend reading the following resources:\n",
    "\n",
    "* [Scikit-Learn's documentation on preprocessing data.](https://scikit-learn.org/stable/modules/preprocessing.html#preprocessing-data)\n",
    "* [Scale, Standardize or Normalize with Scikit-Learn by Jeff Hale.](https://towardsdatascience.com/scale-standardize-or-normalize-with-scikit-learn-6ccc7d176a02)\n",
    "\n",
    "We've already turned our data into numbers using `get_dummies()`, let's see how we'd normalize it as well."
   ]
  },
  {
   "cell_type": "code",
   "execution_count": 110,
   "metadata": {},
   "outputs": [
    {
     "data": {
      "text/html": [
       "<div>\n",
       "<style scoped>\n",
       "    .dataframe tbody tr th:only-of-type {\n",
       "        vertical-align: middle;\n",
       "    }\n",
       "\n",
       "    .dataframe tbody tr th {\n",
       "        vertical-align: top;\n",
       "    }\n",
       "\n",
       "    .dataframe thead th {\n",
       "        text-align: right;\n",
       "    }\n",
       "</style>\n",
       "<table border=\"1\" class=\"dataframe\">\n",
       "  <thead>\n",
       "    <tr style=\"text-align: right;\">\n",
       "      <th></th>\n",
       "      <th>age</th>\n",
       "      <th>sex</th>\n",
       "      <th>bmi</th>\n",
       "      <th>children</th>\n",
       "      <th>smoker</th>\n",
       "      <th>region</th>\n",
       "      <th>charges</th>\n",
       "    </tr>\n",
       "  </thead>\n",
       "  <tbody>\n",
       "    <tr>\n",
       "      <th>0</th>\n",
       "      <td>19</td>\n",
       "      <td>female</td>\n",
       "      <td>27.900</td>\n",
       "      <td>0</td>\n",
       "      <td>yes</td>\n",
       "      <td>southwest</td>\n",
       "      <td>16884.92400</td>\n",
       "    </tr>\n",
       "    <tr>\n",
       "      <th>1</th>\n",
       "      <td>18</td>\n",
       "      <td>male</td>\n",
       "      <td>33.770</td>\n",
       "      <td>1</td>\n",
       "      <td>no</td>\n",
       "      <td>southeast</td>\n",
       "      <td>1725.55230</td>\n",
       "    </tr>\n",
       "    <tr>\n",
       "      <th>2</th>\n",
       "      <td>28</td>\n",
       "      <td>male</td>\n",
       "      <td>33.000</td>\n",
       "      <td>3</td>\n",
       "      <td>no</td>\n",
       "      <td>southeast</td>\n",
       "      <td>4449.46200</td>\n",
       "    </tr>\n",
       "    <tr>\n",
       "      <th>3</th>\n",
       "      <td>33</td>\n",
       "      <td>male</td>\n",
       "      <td>22.705</td>\n",
       "      <td>0</td>\n",
       "      <td>no</td>\n",
       "      <td>northwest</td>\n",
       "      <td>21984.47061</td>\n",
       "    </tr>\n",
       "    <tr>\n",
       "      <th>4</th>\n",
       "      <td>32</td>\n",
       "      <td>male</td>\n",
       "      <td>28.880</td>\n",
       "      <td>0</td>\n",
       "      <td>no</td>\n",
       "      <td>northwest</td>\n",
       "      <td>3866.85520</td>\n",
       "    </tr>\n",
       "    <tr>\n",
       "      <th>...</th>\n",
       "      <td>...</td>\n",
       "      <td>...</td>\n",
       "      <td>...</td>\n",
       "      <td>...</td>\n",
       "      <td>...</td>\n",
       "      <td>...</td>\n",
       "      <td>...</td>\n",
       "    </tr>\n",
       "    <tr>\n",
       "      <th>1333</th>\n",
       "      <td>50</td>\n",
       "      <td>male</td>\n",
       "      <td>30.970</td>\n",
       "      <td>3</td>\n",
       "      <td>no</td>\n",
       "      <td>northwest</td>\n",
       "      <td>10600.54830</td>\n",
       "    </tr>\n",
       "    <tr>\n",
       "      <th>1334</th>\n",
       "      <td>18</td>\n",
       "      <td>female</td>\n",
       "      <td>31.920</td>\n",
       "      <td>0</td>\n",
       "      <td>no</td>\n",
       "      <td>northeast</td>\n",
       "      <td>2205.98080</td>\n",
       "    </tr>\n",
       "    <tr>\n",
       "      <th>1335</th>\n",
       "      <td>18</td>\n",
       "      <td>female</td>\n",
       "      <td>36.850</td>\n",
       "      <td>0</td>\n",
       "      <td>no</td>\n",
       "      <td>southeast</td>\n",
       "      <td>1629.83350</td>\n",
       "    </tr>\n",
       "    <tr>\n",
       "      <th>1336</th>\n",
       "      <td>21</td>\n",
       "      <td>female</td>\n",
       "      <td>25.800</td>\n",
       "      <td>0</td>\n",
       "      <td>no</td>\n",
       "      <td>southwest</td>\n",
       "      <td>2007.94500</td>\n",
       "    </tr>\n",
       "    <tr>\n",
       "      <th>1337</th>\n",
       "      <td>61</td>\n",
       "      <td>female</td>\n",
       "      <td>29.070</td>\n",
       "      <td>0</td>\n",
       "      <td>yes</td>\n",
       "      <td>northwest</td>\n",
       "      <td>29141.36030</td>\n",
       "    </tr>\n",
       "  </tbody>\n",
       "</table>\n",
       "<p>1338 rows × 7 columns</p>\n",
       "</div>"
      ],
      "text/plain": [
       "      age     sex     bmi  children smoker     region      charges\n",
       "0      19  female  27.900         0    yes  southwest  16884.92400\n",
       "1      18    male  33.770         1     no  southeast   1725.55230\n",
       "2      28    male  33.000         3     no  southeast   4449.46200\n",
       "3      33    male  22.705         0     no  northwest  21984.47061\n",
       "4      32    male  28.880         0     no  northwest   3866.85520\n",
       "...   ...     ...     ...       ...    ...        ...          ...\n",
       "1333   50    male  30.970         3     no  northwest  10600.54830\n",
       "1334   18  female  31.920         0     no  northeast   2205.98080\n",
       "1335   18  female  36.850         0     no  southeast   1629.83350\n",
       "1336   21  female  25.800         0     no  southwest   2007.94500\n",
       "1337   61  female  29.070         0    yes  northwest  29141.36030\n",
       "\n",
       "[1338 rows x 7 columns]"
      ]
     },
     "execution_count": 110,
     "metadata": {},
     "output_type": "execute_result"
    }
   ],
   "source": [
    "import pandas as pd\n",
    "import matplotlib.pyplot as plt\n",
    "import tensorflow as tf\n",
    "\n",
    "# Read in the insurance dataframe\n",
    "insurance = pd.read_csv(\"./data/insurance.csv\")\n",
    "insurance"
   ]
  },
  {
   "cell_type": "markdown",
   "metadata": {},
   "source": [
    "To prepare our data, we can borrow a few classes from Scikit-Learn"
   ]
  },
  {
   "cell_type": "code",
   "execution_count": 111,
   "metadata": {},
   "outputs": [],
   "source": [
    "from sklearn.compose import make_column_transformer\n",
    "from sklearn.preprocessing import MinMaxScaler, OneHotEncoder\n",
    "from sklearn.model_selection import train_test_split\n",
    "\n",
    "# Create a column transformer\n",
    "ct = make_column_transformer(\n",
    "  (MinMaxScaler(), [\"age\", \"bmi\", \"children\"]), # turn all values in these columns between 0 and 1\n",
    "  (OneHotEncoder(handle_unknown=\"ignore\"), [\"sex\", \"smoker\", \"region\"])\n",
    ")\n",
    "\n",
    "# Create X & y\n",
    "X = insurance.drop(\"charges\", axis=1)\n",
    "y = insurance[\"charges\"]\n",
    "\n",
    "# Build our train and test sets\n",
    "X_train, X_test, y_train, y_test = train_test_split(X, y, test_size=0.2, random_state=42)\n",
    "\n",
    "# Fit the column transformer to our training data\n",
    "ct.fit(X_train)\n",
    "\n",
    "# Transform training and test data with normalization (MinMaxScaler) and OneHotEncoder\n",
    "X_train_normal = ct.transform(X_train)\n",
    "X_test_normal = ct.transform(X_test)"
   ]
  },
  {
   "cell_type": "code",
   "execution_count": 112,
   "metadata": {},
   "outputs": [
    {
     "data": {
      "text/plain": [
       "age                19\n",
       "sex            female\n",
       "bmi              27.9\n",
       "children            0\n",
       "smoker            yes\n",
       "region      southwest\n",
       "Name: 0, dtype: object"
      ]
     },
     "execution_count": 112,
     "metadata": {},
     "output_type": "execute_result"
    }
   ],
   "source": [
    "# What dose our data look like now?\n",
    "X_train.loc[0]"
   ]
  },
  {
   "cell_type": "code",
   "execution_count": 115,
   "metadata": {},
   "outputs": [
    {
     "data": {
      "text/plain": [
       "array([0.60869565, 0.10734463, 0.4       , 1.        , 0.        ,\n",
       "       1.        , 0.        , 0.        , 1.        , 0.        ,\n",
       "       0.        ])"
      ]
     },
     "execution_count": 115,
     "metadata": {},
     "output_type": "execute_result"
    }
   ],
   "source": [
    "X_train_normal[0]"
   ]
  },
  {
   "cell_type": "code",
   "execution_count": 116,
   "metadata": {},
   "outputs": [
    {
     "data": {
      "text/plain": [
       "((1070, 6), (1070, 11))"
      ]
     },
     "execution_count": 116,
     "metadata": {},
     "output_type": "execute_result"
    }
   ],
   "source": [
    "X_train.shape, X_train_normal.shape"
   ]
  },
  {
   "cell_type": "markdown",
   "metadata": {},
   "source": [
    "Beautiful! Our data has been normalized and one hot encoded. Now let's build a neural network model on it and see how it goes."
   ]
  },
  {
   "cell_type": "code",
   "execution_count": 118,
   "metadata": {},
   "outputs": [
    {
     "name": "stdout",
     "output_type": "stream",
     "text": [
      "Epoch 1/100\n",
      "34/34 [==============================] - 0s 818us/step - loss: 13343.8887 - mae: 13343.8887\n",
      "Epoch 2/100\n",
      "34/34 [==============================] - 0s 727us/step - loss: 13336.3193 - mae: 13336.3193\n",
      "Epoch 3/100\n",
      "34/34 [==============================] - 0s 718us/step - loss: 13316.9922 - mae: 13316.9922\n",
      "Epoch 4/100\n",
      "34/34 [==============================] - 0s 667us/step - loss: 13275.6436 - mae: 13275.6436\n",
      "Epoch 5/100\n",
      "34/34 [==============================] - 0s 697us/step - loss: 13201.2363 - mae: 13201.2363\n",
      "Epoch 6/100\n",
      "34/34 [==============================] - 0s 758us/step - loss: 13082.9365 - mae: 13082.9365\n",
      "Epoch 7/100\n",
      "34/34 [==============================] - 0s 697us/step - loss: 12910.4521 - mae: 12910.4521\n",
      "Epoch 8/100\n",
      "34/34 [==============================] - 0s 758us/step - loss: 12673.5889 - mae: 12673.5889\n",
      "Epoch 9/100\n",
      "34/34 [==============================] - 0s 697us/step - loss: 12361.9775 - mae: 12361.9775\n",
      "Epoch 10/100\n",
      "34/34 [==============================] - 0s 727us/step - loss: 11969.9727 - mae: 11969.9727\n",
      "Epoch 11/100\n",
      "34/34 [==============================] - 0s 758us/step - loss: 11504.7578 - mae: 11504.7578\n",
      "Epoch 12/100\n",
      "34/34 [==============================] - 0s 1ms/step - loss: 11000.2490 - mae: 11000.2490\n",
      "Epoch 13/100\n",
      "34/34 [==============================] - 0s 788us/step - loss: 10499.0576 - mae: 10499.0576\n",
      "Epoch 14/100\n",
      "34/34 [==============================] - 0s 788us/step - loss: 10000.1533 - mae: 10000.1533\n",
      "Epoch 15/100\n",
      "34/34 [==============================] - 0s 727us/step - loss: 9527.7832 - mae: 9527.7832\n",
      "Epoch 16/100\n",
      "34/34 [==============================] - 0s 758us/step - loss: 9105.0898 - mae: 9105.0898\n",
      "Epoch 17/100\n",
      "34/34 [==============================] - 0s 758us/step - loss: 8754.5977 - mae: 8754.5977\n",
      "Epoch 18/100\n",
      "34/34 [==============================] - 0s 667us/step - loss: 8470.9609 - mae: 8470.9609\n",
      "Epoch 19/100\n",
      "34/34 [==============================] - 0s 667us/step - loss: 8251.0146 - mae: 8251.0146\n",
      "Epoch 20/100\n",
      "34/34 [==============================] - 0s 697us/step - loss: 8100.7373 - mae: 8100.7373\n",
      "Epoch 21/100\n",
      "34/34 [==============================] - 0s 727us/step - loss: 7988.5889 - mae: 7988.5889\n",
      "Epoch 22/100\n",
      "34/34 [==============================] - 0s 727us/step - loss: 7912.9224 - mae: 7912.9224\n",
      "Epoch 23/100\n",
      "34/34 [==============================] - 0s 667us/step - loss: 7853.2432 - mae: 7853.2432\n",
      "Epoch 24/100\n",
      "34/34 [==============================] - 0s 757us/step - loss: 7800.5942 - mae: 7800.5942\n",
      "Epoch 25/100\n",
      "34/34 [==============================] - 0s 667us/step - loss: 7761.2300 - mae: 7761.2300\n",
      "Epoch 26/100\n",
      "34/34 [==============================] - 0s 788us/step - loss: 7710.0107 - mae: 7710.0107\n",
      "Epoch 27/100\n",
      "34/34 [==============================] - 0s 667us/step - loss: 7668.1948 - mae: 7668.1948\n",
      "Epoch 28/100\n",
      "34/34 [==============================] - 0s 727us/step - loss: 7626.2256 - mae: 7626.2256\n",
      "Epoch 29/100\n",
      "34/34 [==============================] - 0s 727us/step - loss: 7583.9575 - mae: 7583.9575\n",
      "Epoch 30/100\n",
      "34/34 [==============================] - 0s 667us/step - loss: 7540.9756 - mae: 7540.9756\n",
      "Epoch 31/100\n",
      "34/34 [==============================] - 0s 727us/step - loss: 7497.4995 - mae: 7497.4995\n",
      "Epoch 32/100\n",
      "34/34 [==============================] - 0s 727us/step - loss: 7453.9883 - mae: 7453.9883\n",
      "Epoch 33/100\n",
      "34/34 [==============================] - 0s 727us/step - loss: 7410.3638 - mae: 7410.3638\n",
      "Epoch 34/100\n",
      "34/34 [==============================] - 0s 758us/step - loss: 7362.8677 - mae: 7362.8677\n",
      "Epoch 35/100\n",
      "34/34 [==============================] - 0s 727us/step - loss: 7316.8813 - mae: 7316.8813\n",
      "Epoch 36/100\n",
      "34/34 [==============================] - 0s 758us/step - loss: 7267.7471 - mae: 7267.7471\n",
      "Epoch 37/100\n",
      "34/34 [==============================] - 0s 697us/step - loss: 7218.3989 - mae: 7218.3989\n",
      "Epoch 38/100\n",
      "34/34 [==============================] - 0s 758us/step - loss: 7168.3594 - mae: 7168.3594\n",
      "Epoch 39/100\n",
      "34/34 [==============================] - 0s 727us/step - loss: 7114.5762 - mae: 7114.5762\n",
      "Epoch 40/100\n",
      "34/34 [==============================] - 0s 727us/step - loss: 7060.3486 - mae: 7060.3486\n",
      "Epoch 41/100\n",
      "34/34 [==============================] - 0s 848us/step - loss: 7005.1055 - mae: 7005.1055\n",
      "Epoch 42/100\n",
      "34/34 [==============================] - 0s 788us/step - loss: 6947.1597 - mae: 6947.1597\n",
      "Epoch 43/100\n",
      "34/34 [==============================] - 0s 758us/step - loss: 6885.8872 - mae: 6885.8872\n",
      "Epoch 44/100\n",
      "34/34 [==============================] - 0s 788us/step - loss: 6821.0557 - mae: 6821.0557\n",
      "Epoch 45/100\n",
      "34/34 [==============================] - 0s 1ms/step - loss: 6755.3755 - mae: 6755.3755\n",
      "Epoch 46/100\n",
      "34/34 [==============================] - 0s 1000us/step - loss: 6688.0972 - mae: 6688.0972\n",
      "Epoch 47/100\n",
      "34/34 [==============================] - 0s 697us/step - loss: 6618.5063 - mae: 6618.5063\n",
      "Epoch 48/100\n",
      "34/34 [==============================] - 0s 788us/step - loss: 6541.5952 - mae: 6541.5952\n",
      "Epoch 49/100\n",
      "34/34 [==============================] - 0s 788us/step - loss: 6464.5142 - mae: 6464.5142\n",
      "Epoch 50/100\n",
      "34/34 [==============================] - 0s 788us/step - loss: 6380.5435 - mae: 6380.5435\n",
      "Epoch 51/100\n",
      "34/34 [==============================] - 0s 757us/step - loss: 6298.3550 - mae: 6298.3550\n",
      "Epoch 52/100\n",
      "34/34 [==============================] - 0s 697us/step - loss: 6207.1353 - mae: 6207.1353\n",
      "Epoch 53/100\n",
      "34/34 [==============================] - 0s 667us/step - loss: 6113.6338 - mae: 6113.6338\n",
      "Epoch 54/100\n",
      "34/34 [==============================] - 0s 697us/step - loss: 6017.3643 - mae: 6017.3643\n",
      "Epoch 55/100\n",
      "34/34 [==============================] - 0s 667us/step - loss: 5912.3730 - mae: 5912.3730\n",
      "Epoch 56/100\n",
      "34/34 [==============================] - 0s 636us/step - loss: 5806.2832 - mae: 5806.2832\n",
      "Epoch 57/100\n",
      "34/34 [==============================] - 0s 636us/step - loss: 5693.1465 - mae: 5693.1465\n",
      "Epoch 58/100\n",
      "34/34 [==============================] - 0s 697us/step - loss: 5575.8032 - mae: 5575.8032\n",
      "Epoch 59/100\n",
      "34/34 [==============================] - 0s 667us/step - loss: 5459.6245 - mae: 5459.6245\n",
      "Epoch 60/100\n",
      "34/34 [==============================] - 0s 636us/step - loss: 5339.6187 - mae: 5339.6187\n",
      "Epoch 61/100\n",
      "34/34 [==============================] - 0s 788us/step - loss: 5213.3506 - mae: 5213.3506\n",
      "Epoch 62/100\n",
      "34/34 [==============================] - 0s 667us/step - loss: 5086.4028 - mae: 5086.4028\n",
      "Epoch 63/100\n",
      "34/34 [==============================] - 0s 606us/step - loss: 4958.5957 - mae: 4958.5957\n",
      "Epoch 64/100\n",
      "34/34 [==============================] - 0s 636us/step - loss: 4827.1953 - mae: 4827.1953\n",
      "Epoch 65/100\n",
      "34/34 [==============================] - 0s 697us/step - loss: 4698.4736 - mae: 4698.4736\n",
      "Epoch 66/100\n",
      "34/34 [==============================] - 0s 667us/step - loss: 4568.1313 - mae: 4568.1313\n",
      "Epoch 67/100\n",
      "34/34 [==============================] - 0s 667us/step - loss: 4453.1475 - mae: 4453.1475\n",
      "Epoch 68/100\n",
      "34/34 [==============================] - 0s 636us/step - loss: 4343.9541 - mae: 4343.9541\n",
      "Epoch 69/100\n",
      "34/34 [==============================] - 0s 667us/step - loss: 4239.5996 - mae: 4239.5996\n",
      "Epoch 70/100\n",
      "34/34 [==============================] - 0s 697us/step - loss: 4142.8818 - mae: 4142.8818\n",
      "Epoch 71/100\n",
      "34/34 [==============================] - 0s 697us/step - loss: 4052.8289 - mae: 4052.8289\n",
      "Epoch 72/100\n",
      "34/34 [==============================] - 0s 667us/step - loss: 3972.7000 - mae: 3972.7000\n",
      "Epoch 73/100\n",
      "34/34 [==============================] - 0s 697us/step - loss: 3902.7483 - mae: 3902.7483\n",
      "Epoch 74/100\n",
      "34/34 [==============================] - 0s 667us/step - loss: 3845.8000 - mae: 3845.8000\n",
      "Epoch 75/100\n",
      "34/34 [==============================] - 0s 667us/step - loss: 3799.2510 - mae: 3799.2510\n",
      "Epoch 76/100\n",
      "34/34 [==============================] - 0s 667us/step - loss: 3763.3379 - mae: 3763.3379\n",
      "Epoch 77/100\n",
      "34/34 [==============================] - 0s 1000us/step - loss: 3735.4016 - mae: 3735.4016\n",
      "Epoch 78/100\n",
      "34/34 [==============================] - 0s 757us/step - loss: 3715.2727 - mae: 3715.2727\n",
      "Epoch 79/100\n",
      "34/34 [==============================] - 0s 667us/step - loss: 3700.1177 - mae: 3700.1177\n",
      "Epoch 80/100\n",
      "34/34 [==============================] - 0s 636us/step - loss: 3689.4329 - mae: 3689.4329\n",
      "Epoch 81/100\n",
      "34/34 [==============================] - 0s 727us/step - loss: 3681.6531 - mae: 3681.6531\n",
      "Epoch 82/100\n",
      "34/34 [==============================] - 0s 636us/step - loss: 3677.5967 - mae: 3677.5967\n",
      "Epoch 83/100\n",
      "34/34 [==============================] - 0s 636us/step - loss: 3670.5530 - mae: 3670.5530\n",
      "Epoch 84/100\n",
      "34/34 [==============================] - 0s 667us/step - loss: 3667.0352 - mae: 3667.0352\n",
      "Epoch 85/100\n",
      "34/34 [==============================] - 0s 667us/step - loss: 3664.3843 - mae: 3664.3843\n",
      "Epoch 86/100\n",
      "34/34 [==============================] - 0s 667us/step - loss: 3662.3550 - mae: 3662.3550\n",
      "Epoch 87/100\n",
      "34/34 [==============================] - 0s 758us/step - loss: 3659.1096 - mae: 3659.1096\n",
      "Epoch 88/100\n",
      "34/34 [==============================] - 0s 667us/step - loss: 3656.9312 - mae: 3656.9312\n",
      "Epoch 89/100\n",
      "34/34 [==============================] - 0s 667us/step - loss: 3654.9954 - mae: 3654.9954\n",
      "Epoch 90/100\n",
      "34/34 [==============================] - 0s 636us/step - loss: 3653.3831 - mae: 3653.3831\n",
      "Epoch 91/100\n",
      "34/34 [==============================] - 0s 636us/step - loss: 3650.3506 - mae: 3650.3506\n",
      "Epoch 92/100\n",
      "34/34 [==============================] - 0s 667us/step - loss: 3649.7214 - mae: 3649.7214\n",
      "Epoch 93/100\n",
      "34/34 [==============================] - 0s 697us/step - loss: 3647.5457 - mae: 3647.5457\n",
      "Epoch 94/100\n",
      "34/34 [==============================] - 0s 667us/step - loss: 3645.7903 - mae: 3645.7903\n",
      "Epoch 95/100\n",
      "34/34 [==============================] - 0s 667us/step - loss: 3646.8372 - mae: 3646.8372\n",
      "Epoch 96/100\n",
      "34/34 [==============================] - 0s 697us/step - loss: 3643.8850 - mae: 3643.8850\n",
      "Epoch 97/100\n",
      "34/34 [==============================] - 0s 636us/step - loss: 3641.2930 - mae: 3641.2930\n",
      "Epoch 98/100\n",
      "34/34 [==============================] - 0s 667us/step - loss: 3639.2549 - mae: 3639.2549\n",
      "Epoch 99/100\n",
      "34/34 [==============================] - 0s 709us/step - loss: 3638.7556 - mae: 3638.7556\n",
      "Epoch 100/100\n",
      "34/34 [==============================] - 0s 667us/step - loss: 3637.3557 - mae: 3637.3557\n"
     ]
    }
   ],
   "source": [
    "# Build a neural network model to fit on our normalized data\n",
    "tf.random.set_seed(42)\n",
    "\n",
    "# 1. Create the model \n",
    "insurance_model_4 = tf.keras.Sequential([\n",
    "  tf.keras.layers.Dense(100),\n",
    "  tf.keras.layers.Dense(10),\n",
    "  tf.keras.layers.Dense(1)\n",
    "])\n",
    "\n",
    "# 2. Compile the model\n",
    "insurance_model_4.compile(loss=tf.keras.losses.mae,\n",
    "                          optimizer=tf.keras.optimizers.Adam(),\n",
    "                          metrics=[\"mae\"])\n",
    "\n",
    "# 3. Fit the model\n",
    "history = insurance_model_4.fit(tf.expand_dims(X_train_normal, axis=1), y_train, epochs=100)"
   ]
  },
  {
   "cell_type": "code",
   "execution_count": 119,
   "metadata": {},
   "outputs": [
    {
     "name": "stdout",
     "output_type": "stream",
     "text": [
      "9/9 [==============================] - 0s 2ms/step - loss: 3441.7590 - mae: 3441.7590\n"
     ]
    },
    {
     "data": {
      "text/plain": [
       "[3441.759033203125, 3441.759033203125]"
      ]
     },
     "execution_count": 119,
     "metadata": {},
     "output_type": "execute_result"
    }
   ],
   "source": [
    "# Evalaute our insurance model trained on normalized data\n",
    "insurance_model_4.evaluate(X_test_normal, y_test)"
   ]
  },
  {
   "cell_type": "code",
   "execution_count": null,
   "metadata": {},
   "outputs": [],
   "source": [
    "# Insurance model 2 results\n",
    "# 9/9 [==============================] - 0s 875us/step - loss: 4733.0308 - mae: 4733.0308"
   ]
  },
  {
   "cell_type": "code",
   "execution_count": 117,
   "metadata": {},
   "outputs": [
    {
     "name": "stdout",
     "output_type": "stream",
     "text": [
      "Model: \"sequential_19\"\n",
      "_________________________________________________________________\n",
      " Layer (type)                Output Shape              Param #   \n",
      "=================================================================\n",
      " dense_50 (Dense)            (None, 1, 100)            1200      \n",
      "                                                                 \n",
      " dense_51 (Dense)            (None, 1, 10)             1010      \n",
      "                                                                 \n",
      " dense_52 (Dense)            (None, 1, 1)              11        \n",
      "                                                                 \n",
      "=================================================================\n",
      "Total params: 2,221\n",
      "Trainable params: 2,221\n",
      "Non-trainable params: 0\n",
      "_________________________________________________________________\n"
     ]
    }
   ],
   "source": [
    "insurance_model_2.summary()"
   ]
  },
  {
   "cell_type": "code",
   "execution_count": 107,
   "metadata": {},
   "outputs": [
    {
     "data": {
      "text/plain": [
       "<Axes: ylabel='Frequency'>"
      ]
     },
     "execution_count": 107,
     "metadata": {},
     "output_type": "execute_result"
    },
    {
     "data": {
      "image/png": "[encoded data removed]",
      "text/plain": [
       "<Figure size 640x480 with 1 Axes>"
      ]
     },
     "metadata": {},
     "output_type": "display_data"
    }
   ],
   "source": [
    "X[\"age\"].plot(kind=\"hist\")"
   ]
  },
  {
   "cell_type": "code",
   "execution_count": 108,
   "metadata": {},
   "outputs": [
    {
     "data": {
      "text/plain": [
       "<Axes: ylabel='Frequency'>"
      ]
     },
     "execution_count": 108,
     "metadata": {},
     "output_type": "execute_result"
    },
    {
     "data": {
      "image/png": "[encoded data removed]",
      "text/plain": [
       "<Figure size 640x480 with 1 Axes>"
      ]
     },
     "metadata": {},
     "output_type": "display_data"
    }
   ],
   "source": [
    "X[\"bmi\"].plot(kind=\"hist\")"
   ]
  },
  {
   "cell_type": "code",
   "execution_count": 109,
   "metadata": {},
   "outputs": [
    {
     "data": {
      "text/plain": [
       "children\n",
       "0    574\n",
       "1    324\n",
       "2    240\n",
       "3    157\n",
       "4     25\n",
       "5     18\n",
       "Name: count, dtype: int64"
      ]
     },
     "execution_count": 109,
     "metadata": {},
     "output_type": "execute_result"
    }
   ],
   "source": [
    "X[\"children\"].value_counts()"
   ]
  },
  {
   "cell_type": "code",
   "execution_count": null,
   "metadata": {},
   "outputs": [],
   "source": []
  }
 ],
 "metadata": {
  "kernelspec": {
   "display_name": "py39",
   "language": "python",
   "name": "python3"
  },
  "language_info": {
   "codemirror_mode": {
    "name": "ipython",
    "version": 3
   },
   "file_extension": ".py",
   "mimetype": "text/x-python",
   "name": "python",
   "nbconvert_exporter": "python",
   "pygments_lexer": "ipython3",
   "version": "3.9.19"
  }
 },
 "nbformat": 4,
 "nbformat_minor": 2
}
